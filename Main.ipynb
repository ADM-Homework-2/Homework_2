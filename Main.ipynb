{
 "cells": [
  {
   "cell_type": "markdown",
   "metadata": {},
   "source": [
    "# Homework 2 - eCommerce analytics"
   ]
  },
  {
   "cell_type": "markdown",
   "metadata": {},
   "source": [
    "#### Some useful data set information\n",
    "\n",
    "- Each row represents an event. There are several different types of events however:\n",
    "    - **View**: A user viewed a product\n",
    "    - **Cart**: A user added a product to a shopping cart\n",
    "    - **Removefromcart**: A user removed a product from the shopping cart\n",
    "    - **Purchase**: A user purchased a product\n",
    "    \n",
    "    \n",
    "- A typical funnel of a client would be (leading to 3 different rows in the dataset: view >> cart >> purchase)\n",
    "\n",
    "\n",
    "- **event_time**: Time of the event\n",
    "- **event_type**: Event type (see above for event types)\n",
    "- **product_id**: Unique identifier of product\n",
    "- **category_id**: Category ID of product\n",
    "- **category_code**: Code of category. If product is not a relevant one the category code is left empty (meaningfull missing)\n",
    "- **brand**: Brand of product (can be missing, I guess this is not a meaningful missing)\n",
    "- **price**: Float price of product\n",
    "- **user_id**: Unique identifier of user\n",
    "- **user_session**: Unique identifier of user session (1 *user_id* can have several *user_session* over time)\n",
    "\n",
    "\n",
    "- **Example**: User with *userid* during session *usersession* added to shopping cart (*eventtype == cart*) the product *productid* of the brand *brand* of category *categorycode* with a given *price* at a given *event_time* \n"
   ]
  },
  {
   "cell_type": "code",
   "execution_count": 1,
   "metadata": {},
   "outputs": [],
   "source": [
    "%load_ext autoreload\n",
    "%autoreload 2"
   ]
  },
  {
   "cell_type": "markdown",
   "metadata": {},
   "source": [
    "## Dataset used\n",
    "We used the dataset of seven months ,from October 2019 to April 2020. We realized  that them are too large,over 40 millions of rows,this is a lot of data for our computer’s memory to handle.To make computations on this datasets, it’s efficient to process the datasets in chunks, one after another.Once we have clean and filtered the chunks we concatenated them and worked on the processed data set. All the function had be optimized in order to be processed in shortest time possible."
   ]
  },
  {
   "cell_type": "markdown",
   "metadata": {},
   "source": [
    "#### Import library and files"
   ]
  },
  {
   "cell_type": "code",
   "execution_count": 2,
   "metadata": {},
   "outputs": [],
   "source": [
    "import pickle\n",
    "import pandas as pd\n",
    "import functionality_new as funcs\n",
    "import seaborn as sns"
   ]
  },
  {
   "cell_type": "markdown",
   "metadata": {},
   "source": [
    "## Research Question 1 ~ Customer's journey\n",
    "\n",
    "A marketing funnel describes your customer’s journey with your e-commerce. It may involve different stages, beginning when someone learns about your business, when he/she visits your website for the first time, to the purchasing stage, marketing funnels map routes to conversion and beyond. Suppose your funnel involves just three simple steps: 1) view, 2) cart, 3) purchase. Which is the rate of complete funnels?\n",
    "- What’s the operation users repeat more on average within a session? Produce a plot that shows the average number of times users perform each operation (view/removefromchart etc etc).\n",
    "- How many times, on average, a user views a product before adding it to the cart?\n",
    "- What’s the probability that products added once to the cart are effectively bought?\n",
    "- What’s the average time an item stays in the cart before being removed?\n",
    "- How much time passes on average between the first view time and a purchase/addition to cart?"
   ]
  },
  {
   "cell_type": "markdown",
   "metadata": {},
   "source": [
    "Before getting into the specific questions we would like to highlight some interesting observations we have done on the data (data issues) and discuss how we are planning to overcome/treat them:\n",
    "\n",
    "a. The Funnel is not necesarilly view>>cart>>purchase. A user can view a product and buy it without having to put it into the cart. No action needed for this point but it is good to keep in mind when reviewing final results."
   ]
  },
  {
   "cell_type": "markdown",
   "metadata": {},
   "source": [
    "b. We have observed that for unique user_sessions we can have different user_ids. We consider this to be an issue on the user_id value since the event_time in general seem to be very close to each other (we consider it hard that in seconds a person is able to change user_id while still having the same user_session). Since we have not found a clear pattern on how to fix this issue we will ignore it for now (also since the amount of cases in which this occurs is almost insignificant)"
   ]
  },
  {
   "cell_type": "code",
   "execution_count": null,
   "metadata": {},
   "outputs": [],
   "source": []
  },
  {
   "cell_type": "markdown",
   "metadata": {},
   "source": [
    "Question 1.a."
   ]
  },
  {
   "cell_type": "code",
   "execution_count": null,
   "metadata": {},
   "outputs": [
    {
     "name": "stdout",
     "output_type": "stream",
     "text": [
      "data/2019-Oct.csv\n",
      "data/2019-Nov.csv\n",
      "data/2019-Dec.csv\n",
      "data/2020-Jan.csv\n",
      "data/2020-Feb.csv\n"
     ]
    }
   ],
   "source": [
    "events_per_session = funcs.events_per_session(data_sets=['data/2019-Oct.csv', 'data/2019-Nov.csv',\n",
    "                                                         'data/2019-Dec.csv', 'data/2020-Jan.csv',\n",
    "                                                         'data/2020-Feb.csv', 'data/2020-Mar.csv',\n",
    "                                                         'data/2020-Apr.csv'])"
   ]
  },
  {
   "cell_type": "markdown",
   "metadata": {},
   "source": [
    "Question 1.b.\n",
    "\n",
    "Number of views before first view and first cart at unique product_id and user_id level"
   ]
  },
  {
   "cell_type": "code",
   "execution_count": null,
   "metadata": {},
   "outputs": [],
   "source": [
    "view_before_cart = funcs.average_views_before_cart(data_sets=['data/2019-Oct.csv', 'data/2019-Nov.csv',\n",
    "                                                              'data/2019-Dec.csv', 'data/2020-Jan.csv',\n",
    "                                                              'data/2020-Feb.csv', 'data/2020-Mar.csv',\n",
    "                                                              'data/2020-Apr.csv'])"
   ]
  },
  {
   "cell_type": "code",
   "execution_count": null,
   "metadata": {},
   "outputs": [],
   "source": []
  },
  {
   "cell_type": "markdown",
   "metadata": {},
   "source": [
    "Question 1.c."
   ]
  },
  {
   "cell_type": "code",
   "execution_count": 4,
   "metadata": {},
   "outputs": [],
   "source": [
    "probability = funcs.probability_purchase_given_cart(data_sets=['data/2019-Oct.csv', 'data/2019-Nov.csv',\n",
    "                                                              'data/2019-Dec.csv', 'data/2020-Jan.csv',\n",
    "                                                              'data/2020-Feb.csv', 'data/2020-Mar.csv',\n",
    "                                                              'data/2020-Apr.csv'])"
   ]
  },
  {
   "cell_type": "code",
   "execution_count": null,
   "metadata": {},
   "outputs": [],
   "source": []
  },
  {
   "cell_type": "markdown",
   "metadata": {},
   "source": [
    "Question 1.d."
   ]
  },
  {
   "cell_type": "code",
   "execution_count": null,
   "metadata": {},
   "outputs": [],
   "source": []
  },
  {
   "cell_type": "markdown",
   "metadata": {},
   "source": [
    "Question 1.e."
   ]
  },
  {
   "cell_type": "code",
   "execution_count": null,
   "metadata": {},
   "outputs": [],
   "source": [
    "funcs.average_time_between_view_cart_purchase(full_data_set)"
   ]
  },
  {
   "cell_type": "code",
   "execution_count": null,
   "metadata": {},
   "outputs": [],
   "source": []
  },
  {
   "cell_type": "markdown",
   "metadata": {},
   "source": [
    "## Research Question 2  ~ Trending products overall\n",
    "\n",
    "What are the categories of the most trending products overall? For each month visualize this information through a plot showing the number of sold products per category.\n",
    "- Plot the most visited subcategories.\n",
    "- What are the 10 most sold products per category?\n"
   ]
  },
  {
   "cell_type": "code",
   "execution_count": 2,
   "metadata": {},
   "outputs": [
    {
     "name": "stderr",
     "output_type": "stream",
     "text": [
      "[                                                                        ]   0%\r"
     ]
    },
    {
     "name": "stdout",
     "output_type": "stream",
     "text": [
      "data/2019-Oct.csv\n"
     ]
    },
    {
     "name": "stderr",
     "output_type": "stream",
     "text": [
      "[======                                                                  ]   9%\r"
     ]
    },
    {
     "name": "stdout",
     "output_type": "stream",
     "text": [
      "data/2019-Nov.csv\n"
     ]
    },
    {
     "name": "stderr",
     "output_type": "stream",
     "text": [
      "[===================                                                     ]  26%\r"
     ]
    },
    {
     "name": "stdout",
     "output_type": "stream",
     "text": [
      "data/2019-Dec.csv\n"
     ]
    },
    {
     "name": "stderr",
     "output_type": "stream",
     "text": [
      "[==============================                                          ]  42%\r"
     ]
    },
    {
     "name": "stdout",
     "output_type": "stream",
     "text": [
      "data/2020-Jan.csv\n"
     ]
    },
    {
     "name": "stderr",
     "output_type": "stream",
     "text": [
      "[========================================                                ]  56%\r"
     ]
    },
    {
     "name": "stdout",
     "output_type": "stream",
     "text": [
      "data/2020-Feb.csv\n"
     ]
    },
    {
     "name": "stderr",
     "output_type": "stream",
     "text": [
      "[==================================================                      ]  69%\r"
     ]
    },
    {
     "name": "stdout",
     "output_type": "stream",
     "text": [
      "data/2020-Mar.csv\n"
     ]
    },
    {
     "name": "stderr",
     "output_type": "stream",
     "text": [
      "[===========================================================             ]  83%\r"
     ]
    },
    {
     "name": "stdout",
     "output_type": "stream",
     "text": [
      "data/2020-Apr.csv\n"
     ]
    },
    {
     "name": "stderr",
     "output_type": "stream",
     "text": [
      "[========================================================================] 100%\n"
     ]
    },
    {
     "name": "stdout",
     "output_type": "stream",
     "text": [
      "Finished pre-processing data\n"
     ]
    },
    {
     "data": {
      "image/png": "[encoded data removed]",
      "text/plain": [
       "<Figure size 423.875x360 with 1 Axes>"
      ]
     },
     "metadata": {
      "needs_background": "light"
     },
     "output_type": "display_data"
    }
   ],
   "source": [
    "prod_category= funcs.plot_sold_product_category(data_sets=['data/2019-Oct.csv', 'data/2019-Nov.csv',\n",
    "                                                           'data/2019-Dec.csv', 'data/2020-Jan.csv',\n",
    "                                                           'data/2020-Feb.csv', 'data/2020-Mar.csv',\n",
    "                                                           'data/2020-Apr.csv'])"
   ]
  },
  {
   "cell_type": "code",
   "execution_count": 16,
   "metadata": {},
   "outputs": [
    {
     "data": {
      "text/html": [
       "<div>\n",
       "<style scoped>\n",
       "    .dataframe tbody tr th:only-of-type {\n",
       "        vertical-align: middle;\n",
       "    }\n",
       "\n",
       "    .dataframe tbody tr th {\n",
       "        vertical-align: top;\n",
       "    }\n",
       "\n",
       "    .dataframe thead th {\n",
       "        text-align: right;\n",
       "    }\n",
       "</style>\n",
       "<table border=\"1\" class=\"dataframe\">\n",
       "  <thead>\n",
       "    <tr style=\"text-align: right;\">\n",
       "      <th></th>\n",
       "      <th>event_time</th>\n",
       "      <th>category</th>\n",
       "      <th>Sold products per category</th>\n",
       "    </tr>\n",
       "  </thead>\n",
       "  <tbody>\n",
       "    <tr>\n",
       "      <th>0</th>\n",
       "      <td>1</td>\n",
       "      <td>construction</td>\n",
       "      <td>420131</td>\n",
       "    </tr>\n",
       "    <tr>\n",
       "      <th>1</th>\n",
       "      <td>1</td>\n",
       "      <td>appliances</td>\n",
       "      <td>114786</td>\n",
       "    </tr>\n",
       "    <tr>\n",
       "      <th>2</th>\n",
       "      <td>1</td>\n",
       "      <td>apparel</td>\n",
       "      <td>65842</td>\n",
       "    </tr>\n",
       "    <tr>\n",
       "      <th>3</th>\n",
       "      <td>1</td>\n",
       "      <td>electronics</td>\n",
       "      <td>64015</td>\n",
       "    </tr>\n",
       "    <tr>\n",
       "      <th>4</th>\n",
       "      <td>1</td>\n",
       "      <td>sport</td>\n",
       "      <td>49785</td>\n",
       "    </tr>\n",
       "    <tr>\n",
       "      <th>...</th>\n",
       "      <td>...</td>\n",
       "      <td>...</td>\n",
       "      <td>...</td>\n",
       "    </tr>\n",
       "    <tr>\n",
       "      <th>86</th>\n",
       "      <td>12</td>\n",
       "      <td>auto</td>\n",
       "      <td>7722</td>\n",
       "    </tr>\n",
       "    <tr>\n",
       "      <th>87</th>\n",
       "      <td>12</td>\n",
       "      <td>accessories</td>\n",
       "      <td>7346</td>\n",
       "    </tr>\n",
       "    <tr>\n",
       "      <th>88</th>\n",
       "      <td>12</td>\n",
       "      <td>country_yard</td>\n",
       "      <td>1215</td>\n",
       "    </tr>\n",
       "    <tr>\n",
       "      <th>89</th>\n",
       "      <td>12</td>\n",
       "      <td>stationery</td>\n",
       "      <td>462</td>\n",
       "    </tr>\n",
       "    <tr>\n",
       "      <th>90</th>\n",
       "      <td>12</td>\n",
       "      <td>medicine</td>\n",
       "      <td>205</td>\n",
       "    </tr>\n",
       "  </tbody>\n",
       "</table>\n",
       "<p>91 rows × 3 columns</p>\n",
       "</div>"
      ],
      "text/plain": [
       "    event_time      category  Sold products per category\n",
       "0            1  construction                      420131\n",
       "1            1    appliances                      114786\n",
       "2            1       apparel                       65842\n",
       "3            1   electronics                       64015\n",
       "4            1         sport                       49785\n",
       "..         ...           ...                         ...\n",
       "86          12          auto                        7722\n",
       "87          12   accessories                        7346\n",
       "88          12  country_yard                        1215\n",
       "89          12    stationery                         462\n",
       "90          12      medicine                         205\n",
       "\n",
       "[91 rows x 3 columns]"
      ]
     },
     "execution_count": 16,
     "metadata": {},
     "output_type": "execute_result"
    }
   ],
   "source": [
    "prod_category"
   ]
  },
  {
   "cell_type": "code",
   "execution_count": 14,
   "metadata": {},
   "outputs": [
    {
     "data": {
      "text/plain": [
       "<seaborn.axisgrid.FacetGrid at 0x2218544c188>"
      ]
     },
     "execution_count": 14,
     "metadata": {},
     "output_type": "execute_result"
    },
    {
     "data": {
      "image/png": "[encoded data removed]",
      "text/plain": [
       "<Figure size 2520x360 with 7 Axes>"
      ]
     },
     "metadata": {
      "needs_background": "light"
     },
     "output_type": "display_data"
    }
   ],
   "source": [
    "g = sns.catplot(y='Sold products per category',\n",
    "                x='category',\n",
    "                col='event_time',\n",
    "                data=prod_category,\n",
    "                kind='bar')\n",
    "g.set_xticklabels(rotation=90)"
   ]
  },
  {
   "cell_type": "markdown",
   "metadata": {},
   "source": [
    "We plot the result in two different way to be able to do more accurate analysis.In particular the second figure contains seven subplot,one for each month.\n",
    "\n",
    "As we can see above the category which contains the higher number of sold product,almost in all month, is the category 'construction'(pink bar).This is an expected result because because the household items are similar commodities, they aren't expensive so they can be changed often. We can observe that the second month in which them are most sold is December, most probably due to the Christmas Holidays."
   ]
  },
  {
   "cell_type": "code",
   "execution_count": 18,
   "metadata": {},
   "outputs": [
    {
     "name": "stderr",
     "output_type": "stream",
     "text": [
      "[                                                                        ]   0%\r"
     ]
    },
    {
     "name": "stdout",
     "output_type": "stream",
     "text": [
      "data/2019-Oct.csv\n"
     ]
    },
    {
     "name": "stderr",
     "output_type": "stream",
     "text": [
      "[======                                                                  ]   9%\r"
     ]
    },
    {
     "name": "stdout",
     "output_type": "stream",
     "text": [
      "data/2019-Nov.csv\n"
     ]
    },
    {
     "name": "stderr",
     "output_type": "stream",
     "text": [
      "[===================                                                     ]  26%\r"
     ]
    },
    {
     "name": "stdout",
     "output_type": "stream",
     "text": [
      "data/2019-Dec.csv\n"
     ]
    },
    {
     "name": "stderr",
     "output_type": "stream",
     "text": [
      "[==============================                                          ]  42%\r"
     ]
    },
    {
     "name": "stdout",
     "output_type": "stream",
     "text": [
      "data/2020-Jan.csv\n"
     ]
    },
    {
     "name": "stderr",
     "output_type": "stream",
     "text": [
      "[========================================                                ]  56%\r"
     ]
    },
    {
     "name": "stdout",
     "output_type": "stream",
     "text": [
      "data/2020-Feb.csv\n"
     ]
    },
    {
     "name": "stderr",
     "output_type": "stream",
     "text": [
      "[==================================================                      ]  69%\r"
     ]
    },
    {
     "name": "stdout",
     "output_type": "stream",
     "text": [
      "data/2020-Mar.csv\n"
     ]
    },
    {
     "name": "stderr",
     "output_type": "stream",
     "text": [
      "[===========================================================             ]  83%\r"
     ]
    },
    {
     "name": "stdout",
     "output_type": "stream",
     "text": [
      "data/2020-Apr.csv\n"
     ]
    },
    {
     "name": "stderr",
     "output_type": "stream",
     "text": [
      "[========================================================================] 100%\n"
     ]
    },
    {
     "name": "stdout",
     "output_type": "stream",
     "text": [
      "Finished pre-processing data\n"
     ]
    },
    {
     "data": {
      "image/png": "[encoded data removed]",
      "text/plain": [
       "<Figure size 408.75x360 with 1 Axes>"
      ]
     },
     "metadata": {
      "needs_background": "light"
     },
     "output_type": "display_data"
    }
   ],
   "source": [
    "subcategories_visits = funcs.plot_visited_product_subcategory(data_sets=['data/2019-Oct.csv', 'data/2019-Nov.csv',\n",
    "                                                                         'data/2019-Dec.csv', 'data/2020-Jan.csv',\n",
    "                                                                         'data/2020-Feb.csv', 'data/2020-Mar.csv',\n",
    "                                                                         'data/2020-Apr.csv'])"
   ]
  },
  {
   "cell_type": "markdown",
   "metadata": {},
   "source": [
    "A similar result is for subcategory,the two most sold product are tool light, we just imagine that they are in every rooms of every house, and smartphone, considered that in every family there are in average 4.6 devices(Censis 2019)."
   ]
  },
  {
   "cell_type": "code",
   "execution_count": 20,
   "metadata": {},
   "outputs": [
    {
     "name": "stderr",
     "output_type": "stream",
     "text": [
      "[                                                                        ]   0%\r"
     ]
    },
    {
     "name": "stdout",
     "output_type": "stream",
     "text": [
      "data/2019-Oct.csv\n"
     ]
    },
    {
     "name": "stderr",
     "output_type": "stream",
     "text": [
      "[======                                                                  ]   9%\r"
     ]
    },
    {
     "name": "stdout",
     "output_type": "stream",
     "text": [
      "data/2019-Nov.csv\n"
     ]
    },
    {
     "name": "stderr",
     "output_type": "stream",
     "text": [
      "[===================                                                     ]  26%\r"
     ]
    },
    {
     "name": "stdout",
     "output_type": "stream",
     "text": [
      "data/2019-Dec.csv\n"
     ]
    },
    {
     "name": "stderr",
     "output_type": "stream",
     "text": [
      "[==============================                                          ]  42%\r"
     ]
    },
    {
     "name": "stdout",
     "output_type": "stream",
     "text": [
      "data/2020-Jan.csv\n"
     ]
    },
    {
     "name": "stderr",
     "output_type": "stream",
     "text": [
      "[========================================                                ]  56%\r"
     ]
    },
    {
     "name": "stdout",
     "output_type": "stream",
     "text": [
      "data/2020-Feb.csv\n"
     ]
    },
    {
     "name": "stderr",
     "output_type": "stream",
     "text": [
      "[==================================================                      ]  69%\r"
     ]
    },
    {
     "name": "stdout",
     "output_type": "stream",
     "text": [
      "data/2020-Mar.csv\n"
     ]
    },
    {
     "name": "stderr",
     "output_type": "stream",
     "text": [
      "[===========================================================             ]  83%\r"
     ]
    },
    {
     "name": "stdout",
     "output_type": "stream",
     "text": [
      "data/2020-Apr.csv\n"
     ]
    },
    {
     "name": "stderr",
     "output_type": "stream",
     "text": [
      "[========================================================================] 100%\n"
     ]
    },
    {
     "name": "stdout",
     "output_type": "stream",
     "text": [
      "Finished pre-processing data\n"
     ]
    }
   ],
   "source": [
    "ten_most_sold = funcs.ten_most_sold(data_sets=['data/2019-Oct.csv', 'data/2019-Nov.csv',\n",
    "                                               'data/2019-Dec.csv', 'data/2020-Jan.csv',\n",
    "                                               'data/2020-Feb.csv', 'data/2020-Mar.csv',\n",
    "                                               'data/2020-Apr.csv'])"
   ]
  },
  {
   "cell_type": "code",
   "execution_count": 21,
   "metadata": {},
   "outputs": [
    {
     "data": {
      "text/html": [
       "<div>\n",
       "<style scoped>\n",
       "    .dataframe tbody tr th:only-of-type {\n",
       "        vertical-align: middle;\n",
       "    }\n",
       "\n",
       "    .dataframe tbody tr th {\n",
       "        vertical-align: top;\n",
       "    }\n",
       "\n",
       "    .dataframe thead th {\n",
       "        text-align: right;\n",
       "    }\n",
       "</style>\n",
       "<table border=\"1\" class=\"dataframe\">\n",
       "  <thead>\n",
       "    <tr style=\"text-align: right;\">\n",
       "      <th></th>\n",
       "      <th>event_time</th>\n",
       "      <th>category</th>\n",
       "      <th>product_id</th>\n",
       "      <th>totale_pezzi</th>\n",
       "    </tr>\n",
       "  </thead>\n",
       "  <tbody>\n",
       "    <tr>\n",
       "      <th>197385</th>\n",
       "      <td>10</td>\n",
       "      <td>electronics</td>\n",
       "      <td>1004856</td>\n",
       "      <td>28944</td>\n",
       "    </tr>\n",
       "    <tr>\n",
       "      <th>197317</th>\n",
       "      <td>10</td>\n",
       "      <td>electronics</td>\n",
       "      <td>1004767</td>\n",
       "      <td>21806</td>\n",
       "    </tr>\n",
       "    <tr>\n",
       "      <th>197364</th>\n",
       "      <td>10</td>\n",
       "      <td>electronics</td>\n",
       "      <td>1004833</td>\n",
       "      <td>12697</td>\n",
       "    </tr>\n",
       "    <tr>\n",
       "      <th>197554</th>\n",
       "      <td>10</td>\n",
       "      <td>electronics</td>\n",
       "      <td>1005115</td>\n",
       "      <td>12543</td>\n",
       "    </tr>\n",
       "    <tr>\n",
       "      <th>198861</th>\n",
       "      <td>10</td>\n",
       "      <td>electronics</td>\n",
       "      <td>4804056</td>\n",
       "      <td>12381</td>\n",
       "    </tr>\n",
       "    <tr>\n",
       "      <th>...</th>\n",
       "      <td>...</td>\n",
       "      <td>...</td>\n",
       "      <td>...</td>\n",
       "      <td>...</td>\n",
       "    </tr>\n",
       "    <tr>\n",
       "      <th>164947</th>\n",
       "      <td>4</td>\n",
       "      <td>country_yard</td>\n",
       "      <td>40500134</td>\n",
       "      <td>76</td>\n",
       "    </tr>\n",
       "    <tr>\n",
       "      <th>165291</th>\n",
       "      <td>4</td>\n",
       "      <td>country_yard</td>\n",
       "      <td>100118222</td>\n",
       "      <td>65</td>\n",
       "    </tr>\n",
       "    <tr>\n",
       "      <th>164950</th>\n",
       "      <td>4</td>\n",
       "      <td>country_yard</td>\n",
       "      <td>40500137</td>\n",
       "      <td>65</td>\n",
       "    </tr>\n",
       "    <tr>\n",
       "      <th>164836</th>\n",
       "      <td>4</td>\n",
       "      <td>country_yard</td>\n",
       "      <td>21700004</td>\n",
       "      <td>60</td>\n",
       "    </tr>\n",
       "    <tr>\n",
       "      <th>165193</th>\n",
       "      <td>4</td>\n",
       "      <td>country_yard</td>\n",
       "      <td>100076611</td>\n",
       "      <td>56</td>\n",
       "    </tr>\n",
       "  </tbody>\n",
       "</table>\n",
       "<p>910 rows × 4 columns</p>\n",
       "</div>"
      ],
      "text/plain": [
       "       event_time      category product_id totale_pezzi\n",
       "197385         10   electronics    1004856        28944\n",
       "197317         10   electronics    1004767        21806\n",
       "197364         10   electronics    1004833        12697\n",
       "197554         10   electronics    1005115        12543\n",
       "198861         10   electronics    4804056        12381\n",
       "...           ...           ...        ...          ...\n",
       "164947          4  country_yard   40500134           76\n",
       "165291          4  country_yard  100118222           65\n",
       "164950          4  country_yard   40500137           65\n",
       "164836          4  country_yard   21700004           60\n",
       "165193          4  country_yard  100076611           56\n",
       "\n",
       "[910 rows x 4 columns]"
      ]
     },
     "execution_count": 21,
     "metadata": {},
     "output_type": "execute_result"
    }
   ],
   "source": [
    "ten_most_sold"
   ]
  },
  {
   "cell_type": "markdown",
   "metadata": {},
   "source": [
    "Expanding this dataframe we can observe the ten most sold product for category.This kind of table is usefoul for every company for planning their purchase plans and can organize to the best their storages."
   ]
  },
  {
   "cell_type": "code",
   "execution_count": null,
   "metadata": {},
   "outputs": [],
   "source": []
  },
  {
   "cell_type": "markdown",
   "metadata": {},
   "source": [
    "## Research Question 3 ~ Price\n",
    "\n",
    "For each category, what’s the brand whose prices are higher on average?\n",
    "- Write a function that asks the user a category in input and returns a plot indicating the average price of the products sold by the brand.\n",
    "- Find, for each category, the brand with the highest average price. Return all the results in ascending order by price.\n"
   ]
  },
  {
   "cell_type": "code",
   "execution_count": 3,
   "metadata": {},
   "outputs": [
    {
     "name": "stdout",
     "output_type": "stream",
     "text": [
      "Running data_set: data/2019-Oct.csv\n",
      "1\n",
      "2\n",
      "3\n",
      "4\n",
      "5\n",
      "6\n",
      "7\n",
      "8\n",
      "9\n",
      "10\n",
      "11\n",
      "12\n",
      "13\n",
      "14\n",
      "15\n",
      "16\n",
      "17\n",
      "18\n",
      "19\n",
      "20\n",
      "21\n",
      "22\n",
      "23\n",
      "24\n",
      "25\n",
      "26\n",
      "27\n",
      "28\n",
      "29\n",
      "30\n",
      "31\n",
      "32\n",
      "33\n",
      "34\n",
      "35\n",
      "36\n",
      "37\n",
      "38\n",
      "39\n",
      "40\n",
      "41\n",
      "42\n",
      "43\n",
      "Running data_set: data/2019-Nov.csv\n",
      "44\n",
      "45\n",
      "46\n",
      "47\n",
      "48\n",
      "49\n",
      "50\n",
      "51\n",
      "52\n",
      "53\n",
      "54\n",
      "55\n",
      "56\n",
      "57\n",
      "58\n",
      "59\n",
      "60\n",
      "61\n",
      "62\n",
      "63\n",
      "64\n",
      "65\n",
      "66\n",
      "67\n",
      "68\n",
      "69\n",
      "70\n",
      "71\n",
      "72\n",
      "73\n",
      "74\n",
      "75\n",
      "76\n",
      "77\n",
      "78\n",
      "79\n",
      "80\n",
      "81\n",
      "82\n",
      "83\n",
      "84\n",
      "85\n",
      "86\n",
      "87\n",
      "88\n",
      "89\n",
      "90\n",
      "91\n",
      "92\n",
      "93\n",
      "94\n",
      "95\n",
      "96\n",
      "97\n",
      "98\n",
      "99\n",
      "100\n",
      "101\n",
      "102\n",
      "103\n",
      "104\n",
      "105\n",
      "106\n",
      "107\n",
      "108\n",
      "109\n",
      "110\n",
      "111\n",
      "Running data_set: data/2019-Dec.csv\n",
      "112\n",
      "113\n",
      "114\n",
      "115\n",
      "116\n",
      "117\n",
      "118\n",
      "119\n",
      "120\n",
      "121\n",
      "122\n",
      "123\n",
      "124\n",
      "125\n",
      "126\n",
      "127\n",
      "128\n",
      "129\n",
      "130\n",
      "131\n",
      "132\n",
      "133\n",
      "134\n",
      "135\n",
      "136\n",
      "137\n",
      "138\n",
      "139\n",
      "140\n",
      "141\n",
      "142\n",
      "143\n",
      "144\n",
      "145\n",
      "146\n",
      "147\n",
      "148\n",
      "149\n",
      "150\n",
      "151\n",
      "152\n",
      "153\n",
      "154\n",
      "155\n",
      "156\n",
      "157\n",
      "158\n",
      "159\n",
      "160\n",
      "161\n",
      "162\n",
      "163\n",
      "164\n",
      "165\n",
      "166\n",
      "167\n",
      "168\n",
      "169\n",
      "170\n",
      "171\n",
      "172\n",
      "173\n",
      "174\n",
      "175\n",
      "176\n",
      "177\n",
      "178\n",
      "179\n",
      "Running data_set: data/2020-Jan.csv\n",
      "180\n",
      "181\n",
      "182\n",
      "183\n",
      "184\n",
      "185\n",
      "186\n",
      "187\n",
      "188\n",
      "189\n",
      "190\n",
      "191\n",
      "192\n",
      "193\n",
      "194\n",
      "195\n",
      "196\n",
      "197\n",
      "198\n",
      "199\n",
      "200\n",
      "201\n",
      "202\n",
      "203\n",
      "204\n",
      "205\n",
      "206\n",
      "207\n",
      "208\n",
      "209\n",
      "210\n",
      "211\n",
      "212\n",
      "213\n",
      "214\n",
      "215\n",
      "216\n",
      "217\n",
      "218\n",
      "219\n",
      "220\n",
      "221\n",
      "222\n",
      "223\n",
      "224\n",
      "225\n",
      "226\n",
      "227\n",
      "228\n",
      "229\n",
      "230\n",
      "231\n",
      "232\n",
      "233\n",
      "234\n",
      "235\n",
      "Running data_set: data/2020-Feb.csv\n",
      "236\n",
      "237\n",
      "238\n",
      "239\n",
      "240\n",
      "241\n",
      "242\n",
      "243\n",
      "244\n",
      "245\n",
      "246\n",
      "247\n",
      "248\n",
      "249\n",
      "250\n",
      "251\n",
      "252\n",
      "253\n",
      "254\n",
      "255\n",
      "256\n",
      "257\n",
      "258\n",
      "259\n",
      "260\n",
      "261\n",
      "262\n",
      "263\n",
      "264\n",
      "265\n",
      "266\n",
      "267\n",
      "268\n",
      "269\n",
      "270\n",
      "271\n",
      "272\n",
      "273\n",
      "274\n",
      "275\n",
      "276\n",
      "277\n",
      "278\n",
      "279\n",
      "280\n",
      "281\n",
      "282\n",
      "283\n",
      "284\n",
      "285\n",
      "286\n",
      "287\n",
      "288\n",
      "289\n",
      "290\n",
      "291\n",
      "Running data_set: data/2020-Mar.csv\n",
      "292\n",
      "293\n",
      "294\n",
      "295\n",
      "296\n",
      "297\n",
      "298\n",
      "299\n",
      "300\n",
      "301\n",
      "302\n",
      "303\n",
      "304\n",
      "305\n",
      "306\n",
      "307\n",
      "308\n",
      "309\n",
      "310\n",
      "311\n",
      "312\n",
      "313\n",
      "314\n",
      "315\n",
      "316\n",
      "317\n",
      "318\n",
      "319\n",
      "320\n",
      "321\n",
      "322\n",
      "323\n",
      "324\n",
      "325\n",
      "326\n",
      "327\n",
      "328\n",
      "329\n",
      "330\n",
      "331\n",
      "332\n",
      "333\n",
      "334\n",
      "335\n",
      "336\n",
      "337\n",
      "338\n",
      "339\n",
      "340\n",
      "341\n",
      "342\n",
      "343\n",
      "344\n",
      "345\n",
      "346\n",
      "347\n",
      "348\n",
      "Running data_set: data/2020-Apr.csv\n",
      "349\n",
      "350\n",
      "351\n",
      "352\n",
      "353\n",
      "354\n",
      "355\n",
      "356\n",
      "357\n",
      "358\n",
      "359\n",
      "360\n",
      "361\n",
      "362\n",
      "363\n",
      "364\n",
      "365\n",
      "366\n",
      "367\n",
      "368\n",
      "369\n",
      "370\n",
      "371\n",
      "372\n",
      "373\n",
      "374\n",
      "375\n",
      "376\n",
      "377\n",
      "378\n",
      "379\n",
      "380\n",
      "381\n",
      "382\n",
      "383\n",
      "384\n",
      "385\n",
      "386\n",
      "387\n",
      "388\n",
      "389\n",
      "390\n",
      "391\n",
      "392\n",
      "393\n",
      "394\n",
      "395\n",
      "396\n",
      "397\n",
      "398\n",
      "399\n",
      "400\n",
      "401\n",
      "402\n",
      "403\n",
      "404\n",
      "405\n",
      "406\n",
      "407\n",
      "408\n",
      "409\n",
      "410\n",
      "411\n",
      "412\n",
      "413\n",
      "414\n",
      "415\n",
      "Finished pre-processing data\n"
     ]
    },
    {
     "data": {
      "image/png": "[encoded data removed]",
      "text/plain": [
       "<Figure size 1296x432 with 1 Axes>"
      ]
     },
     "metadata": {
      "needs_background": "light"
     },
     "output_type": "display_data"
    }
   ],
   "source": [
    "funcs.plot_average_price_brand_category(data_sets=['data/2019-Oct.csv', 'data/2019-Nov.csv',\n",
    "                                                   'data/2019-Dec.csv', 'data/2020-Jan.csv',\n",
    "                                                   'data/2020-Feb.csv', 'data/2020-Mar.csv',\n",
    "                                                   'data/2020-Apr.csv'],\n",
    "                                        category='electronics')"
   ]
  },
  {
   "cell_type": "code",
   "execution_count": 4,
   "metadata": {
    "scrolled": false
   },
   "outputs": [
    {
     "name": "stderr",
     "output_type": "stream",
     "text": [
      "[                                                                        ]   0%\r"
     ]
    },
    {
     "name": "stdout",
     "output_type": "stream",
     "text": [
      "Running data_set: data/2019-Oct.csv\n"
     ]
    },
    {
     "name": "stderr",
     "output_type": "stream",
     "text": [
      "[======                                                                  ]   9%\r"
     ]
    },
    {
     "name": "stdout",
     "output_type": "stream",
     "text": [
      "Running data_set: data/2019-Nov.csv\n"
     ]
    },
    {
     "name": "stderr",
     "output_type": "stream",
     "text": [
      "[===================                                                     ]  26%\r"
     ]
    },
    {
     "name": "stdout",
     "output_type": "stream",
     "text": [
      "Running data_set: data/2019-Dec.csv\n"
     ]
    },
    {
     "name": "stderr",
     "output_type": "stream",
     "text": [
      "[==============================                                          ]  42%\r"
     ]
    },
    {
     "name": "stdout",
     "output_type": "stream",
     "text": [
      "Running data_set: data/2020-Jan.csv\n"
     ]
    },
    {
     "name": "stderr",
     "output_type": "stream",
     "text": [
      "[========================================                                ]  56%\r"
     ]
    },
    {
     "name": "stdout",
     "output_type": "stream",
     "text": [
      "Running data_set: data/2020-Feb.csv\n"
     ]
    },
    {
     "name": "stderr",
     "output_type": "stream",
     "text": [
      "[==================================================                      ]  69%\r"
     ]
    },
    {
     "name": "stdout",
     "output_type": "stream",
     "text": [
      "Running data_set: data/2020-Mar.csv\n"
     ]
    },
    {
     "name": "stderr",
     "output_type": "stream",
     "text": [
      "[===========================================================             ]  83%\r"
     ]
    },
    {
     "name": "stdout",
     "output_type": "stream",
     "text": [
      "Running data_set: data/2020-Apr.csv\n"
     ]
    },
    {
     "name": "stderr",
     "output_type": "stream",
     "text": [
      "[========================================================================] 100%\n"
     ]
    },
    {
     "name": "stdout",
     "output_type": "stream",
     "text": [
      "Finished pre-processing data\n"
     ]
    }
   ],
   "source": [
    "sorted_series, highest_price_brands = funcs.category_brand_highest_price(data_sets=['data/2019-Oct.csv', 'data/2019-Nov.csv',\n",
    "                                                   'data/2019-Dec.csv', 'data/2020-Jan.csv',\n",
    "                                                   'data/2020-Feb.csv', 'data/2020-Mar.csv',\n",
    "                                                   'data/2020-Apr.csv'])"
   ]
  },
  {
   "cell_type": "code",
   "execution_count": 5,
   "metadata": {},
   "outputs": [
    {
     "data": {
      "text/plain": [
       "parent_category  brand                \n",
       "accessories      helix                    1785.954607\n",
       "                 zelenyjpogruznojnasos    1613.326725\n",
       "                 dji                      1313.854477\n",
       "                 livnynasos               1283.734388\n",
       "                 gmslivgidromasao         1156.157061\n",
       "                                             ...     \n",
       "unknown_brand    fitness                     0.360000\n",
       "                 pedigree                    0.270000\n",
       "                 chappi                      0.210000\n",
       "                 friskies                    0.200000\n",
       "                 mactea                      0.140000\n",
       "Name: price, Length: 16199, dtype: float64"
      ]
     },
     "execution_count": 5,
     "metadata": {},
     "output_type": "execute_result"
    }
   ],
   "source": [
    "sorted_series"
   ]
  },
  {
   "cell_type": "code",
   "execution_count": 6,
   "metadata": {},
   "outputs": [
    {
     "data": {
      "text/plain": [
       "parent_category  brand       \n",
       "furniture        florencemode    2570.980000\n",
       "electronics      monitoraudio    2561.200000\n",
       "apparel          knief           2547.530000\n",
       "computers        cime            2537.373750\n",
       "construction     zipp            2522.200000\n",
       "unknown_brand    tempur          2520.010000\n",
       "appliances       pinarello       2483.720000\n",
       "sport            pinarello       2470.850000\n",
       "auto             femi            2279.465000\n",
       "country_yard     shua            2071.505000\n",
       "accessories      helix           1785.954607\n",
       "kids             minimotors      1591.406515\n",
       "stationery       dewalt           923.767500\n",
       "medicine         hayali           267.884000\n",
       "Name: price, dtype: float64"
      ]
     },
     "execution_count": 6,
     "metadata": {},
     "output_type": "execute_result"
    }
   ],
   "source": [
    "highest_price_brands.sort_values(ascending=False)"
   ]
  },
  {
   "cell_type": "markdown",
   "metadata": {},
   "source": [
    "### Results\n",
    "\n",
    "From this analysis we can see the brands of each category that have the highest prices on average (in the pd.series *sorted_series* we can even get a feeling of all the brands sorted by average price).\n",
    "\n",
    "It is interesting to observe how the most expensive brand of each category has a similar highest brand price (mainly from furniture to country_yard categories)."
   ]
  },
  {
   "cell_type": "code",
   "execution_count": null,
   "metadata": {},
   "outputs": [],
   "source": []
  },
  {
   "cell_type": "markdown",
   "metadata": {},
   "source": [
    "## Research Question 4 ~ Profit\n",
    "\n",
    "How much does each brand earn per month? Write a function that given the name of a brand in input returns, for each month, its profit. Is the average price of products of different brands significantly different?\n",
    "- Using the function you just created, find the top 3 brands that have suffered the biggest losses in earnings between one month and the next, specifing bothe the loss percentage and the 2 months (e.g., brand_1 lost 20% between march and april).\n"
   ]
  },
  {
   "cell_type": "code",
   "execution_count": 17,
   "metadata": {},
   "outputs": [
    {
     "name": "stdout",
     "output_type": "stream",
     "text": [
      "data/2019-Oct.csv\n",
      "data/2019-Nov.csv\n",
      "data/2019-Dec.csv\n",
      "data/2020-Jan.csv\n",
      "data/2020-Feb.csv\n",
      "data/2020-Mar.csv\n",
      "data/2020-Apr.csv\n"
     ]
    },
    {
     "data": {
      "image/png": "[encoded data removed]",
      "text/plain": [
       "<Figure size 432x288 with 1 Axes>"
      ]
     },
     "metadata": {
      "needs_background": "light"
     },
     "output_type": "display_data"
    }
   ],
   "source": [
    "brand_losses = funcs.plot_profit_for_brand(data_sets=['data/2019-Oct.csv', 'data/2019-Nov.csv',\n",
    "                                                'data/2019-Dec.csv', 'data/2020-Jan.csv',\n",
    "                                                'data/2020-Feb.csv', 'data/2020-Mar.csv',\n",
    "                                                'data/2020-Apr.csv'],\n",
    "                                     brand='huawei')"
   ]
  },
  {
   "cell_type": "code",
   "execution_count": 75,
   "metadata": {},
   "outputs": [
    {
     "ename": "NameError",
     "evalue": "name 'brand_losses' is not defined",
     "output_type": "error",
     "traceback": [
      "\u001b[1;31m---------------------------------------------------------------------------\u001b[0m",
      "\u001b[1;31mNameError\u001b[0m                                 Traceback (most recent call last)",
      "\u001b[1;32m<ipython-input-75-2874bbfbc5e4>\u001b[0m in \u001b[0;36m<module>\u001b[1;34m\u001b[0m\n\u001b[1;32m----> 1\u001b[1;33m \u001b[0mbrand_losses\u001b[0m\u001b[1;33m\u001b[0m\u001b[1;33m\u001b[0m\u001b[0m\n\u001b[0m",
      "\u001b[1;31mNameError\u001b[0m: name 'brand_losses' is not defined"
     ]
    }
   ],
   "source": [
    "brand_losses"
   ]
  },
  {
   "cell_type": "markdown",
   "metadata": {},
   "source": [
    "In this function we wanted to observe if there is a trend in the profits of the brand Huawai.\n",
    "There are some local maxima produced by seasonality effects, but the max gap isn't too large infact Huawei is a by now a brand affirmed in the sector so its profits are almost constant."
   ]
  },
  {
   "cell_type": "code",
   "execution_count": 18,
   "metadata": {},
   "outputs": [
    {
     "name": "stdout",
     "output_type": "stream",
     "text": [
      "data/2019-Oct.csv\n",
      "data/2019-Nov.csv\n",
      "data/2019-Dec.csv\n",
      "data/2020-Jan.csv\n",
      "data/2020-Feb.csv\n",
      "data/2020-Mar.csv\n",
      "data/2020-Apr.csv\n"
     ]
    },
    {
     "data": {
      "image/png": "[encoded data removed]",
      "text/plain": [
       "<Figure size 1296x720 with 1 Axes>"
      ]
     },
     "metadata": {
      "needs_background": "light"
     },
     "output_type": "display_data"
    }
   ],
   "source": [
    "brand_price_difference = funcs.plot_average_price_brand(data_sets=['data/2019-Oct.csv', 'data/2019-Nov.csv',\n",
    "                                                             'data/2019-Dec.csv', 'data/2020-Jan.csv',\n",
    "                                                             'data/2020-Feb.csv', 'data/2020-Mar.csv',\n",
    "                                                             'data/2020-Apr.csv'])"
   ]
  },
  {
   "cell_type": "markdown",
   "metadata": {},
   "source": [
    "There average price of different brand are very diferent,it depends on different points: for example the average profit of the customers it refers to, raw material, cost of labour and by the imagine of the brand."
   ]
  },
  {
   "cell_type": "code",
   "execution_count": null,
   "metadata": {},
   "outputs": [],
   "source": []
  },
  {
   "cell_type": "markdown",
   "metadata": {},
   "source": [
    "## Research Question 5 ~ Hourly views\n",
    "\n",
    "In what part of the day is your store most visited? Knowing which days of the week or even which hours of the day shoppers are likely to visit your online store and make a purchase may help you improve your strategies. Create a plot that for each day of the week show the hourly average of visitors your store has.\n"
   ]
  },
  {
   "cell_type": "code",
   "execution_count": null,
   "metadata": {},
   "outputs": [
    {
     "name": "stdout",
     "output_type": "stream",
     "text": [
      "data/2019-Oct.csv\n"
     ]
    },
    {
     "name": "stderr",
     "output_type": "stream",
     "text": [
      "C:\\Users\\juanm\\Documents\\Master\\Data Science\\Algorithmic_Methods_Data_Mining_Lab\\Project\\Homework_2\\functionality_new.py:750: FutureWarning: Series.dt.weekofyear and Series.dt.week have been deprecated.  Please use Series.dt.isocalendar().week instead.\n",
      "  chunk_view['hour'] = chunk_view.event_time.dt.hour\n",
      "C:\\Users\\juanm\\Documents\\Master\\Data Science\\Algorithmic_Methods_Data_Mining_Lab\\Project\\Homework_2\\functionality_new.py:750: FutureWarning: Series.dt.weekofyear and Series.dt.week have been deprecated.  Please use Series.dt.isocalendar().week instead.\n",
      "  chunk_view['hour'] = chunk_view.event_time.dt.hour\n",
      "C:\\Users\\juanm\\Documents\\Master\\Data Science\\Algorithmic_Methods_Data_Mining_Lab\\Project\\Homework_2\\functionality_new.py:750: FutureWarning: Series.dt.weekofyear and Series.dt.week have been deprecated.  Please use Series.dt.isocalendar().week instead.\n",
      "  chunk_view['hour'] = chunk_view.event_time.dt.hour\n",
      "C:\\Users\\juanm\\Documents\\Master\\Data Science\\Algorithmic_Methods_Data_Mining_Lab\\Project\\Homework_2\\functionality_new.py:750: FutureWarning: Series.dt.weekofyear and Series.dt.week have been deprecated.  Please use Series.dt.isocalendar().week instead.\n",
      "  chunk_view['hour'] = chunk_view.event_time.dt.hour\n",
      "C:\\Users\\juanm\\Documents\\Master\\Data Science\\Algorithmic_Methods_Data_Mining_Lab\\Project\\Homework_2\\functionality_new.py:750: FutureWarning: Series.dt.weekofyear and Series.dt.week have been deprecated.  Please use Series.dt.isocalendar().week instead.\n",
      "  chunk_view['hour'] = chunk_view.event_time.dt.hour\n",
      "C:\\Users\\juanm\\Documents\\Master\\Data Science\\Algorithmic_Methods_Data_Mining_Lab\\Project\\Homework_2\\functionality_new.py:750: FutureWarning: Series.dt.weekofyear and Series.dt.week have been deprecated.  Please use Series.dt.isocalendar().week instead.\n",
      "  chunk_view['hour'] = chunk_view.event_time.dt.hour\n",
      "C:\\Users\\juanm\\Documents\\Master\\Data Science\\Algorithmic_Methods_Data_Mining_Lab\\Project\\Homework_2\\functionality_new.py:750: FutureWarning: Series.dt.weekofyear and Series.dt.week have been deprecated.  Please use Series.dt.isocalendar().week instead.\n",
      "  chunk_view['hour'] = chunk_view.event_time.dt.hour\n",
      "C:\\Users\\juanm\\Documents\\Master\\Data Science\\Algorithmic_Methods_Data_Mining_Lab\\Project\\Homework_2\\functionality_new.py:750: FutureWarning: Series.dt.weekofyear and Series.dt.week have been deprecated.  Please use Series.dt.isocalendar().week instead.\n",
      "  chunk_view['hour'] = chunk_view.event_time.dt.hour\n",
      "C:\\Users\\juanm\\Documents\\Master\\Data Science\\Algorithmic_Methods_Data_Mining_Lab\\Project\\Homework_2\\functionality_new.py:750: FutureWarning: Series.dt.weekofyear and Series.dt.week have been deprecated.  Please use Series.dt.isocalendar().week instead.\n",
      "  chunk_view['hour'] = chunk_view.event_time.dt.hour\n",
      "C:\\Users\\juanm\\Documents\\Master\\Data Science\\Algorithmic_Methods_Data_Mining_Lab\\Project\\Homework_2\\functionality_new.py:750: FutureWarning: Series.dt.weekofyear and Series.dt.week have been deprecated.  Please use Series.dt.isocalendar().week instead.\n",
      "  chunk_view['hour'] = chunk_view.event_time.dt.hour\n",
      "C:\\Users\\juanm\\Documents\\Master\\Data Science\\Algorithmic_Methods_Data_Mining_Lab\\Project\\Homework_2\\functionality_new.py:750: FutureWarning: Series.dt.weekofyear and Series.dt.week have been deprecated.  Please use Series.dt.isocalendar().week instead.\n",
      "  chunk_view['hour'] = chunk_view.event_time.dt.hour\n",
      "C:\\Users\\juanm\\Documents\\Master\\Data Science\\Algorithmic_Methods_Data_Mining_Lab\\Project\\Homework_2\\functionality_new.py:750: FutureWarning: Series.dt.weekofyear and Series.dt.week have been deprecated.  Please use Series.dt.isocalendar().week instead.\n",
      "  chunk_view['hour'] = chunk_view.event_time.dt.hour\n",
      "C:\\Users\\juanm\\Documents\\Master\\Data Science\\Algorithmic_Methods_Data_Mining_Lab\\Project\\Homework_2\\functionality_new.py:750: FutureWarning: Series.dt.weekofyear and Series.dt.week have been deprecated.  Please use Series.dt.isocalendar().week instead.\n",
      "  chunk_view['hour'] = chunk_view.event_time.dt.hour\n",
      "C:\\Users\\juanm\\Documents\\Master\\Data Science\\Algorithmic_Methods_Data_Mining_Lab\\Project\\Homework_2\\functionality_new.py:750: FutureWarning: Series.dt.weekofyear and Series.dt.week have been deprecated.  Please use Series.dt.isocalendar().week instead.\n",
      "  chunk_view['hour'] = chunk_view.event_time.dt.hour\n",
      "C:\\Users\\juanm\\Documents\\Master\\Data Science\\Algorithmic_Methods_Data_Mining_Lab\\Project\\Homework_2\\functionality_new.py:750: FutureWarning: Series.dt.weekofyear and Series.dt.week have been deprecated.  Please use Series.dt.isocalendar().week instead.\n",
      "  chunk_view['hour'] = chunk_view.event_time.dt.hour\n",
      "C:\\Users\\juanm\\Documents\\Master\\Data Science\\Algorithmic_Methods_Data_Mining_Lab\\Project\\Homework_2\\functionality_new.py:750: FutureWarning: Series.dt.weekofyear and Series.dt.week have been deprecated.  Please use Series.dt.isocalendar().week instead.\n",
      "  chunk_view['hour'] = chunk_view.event_time.dt.hour\n",
      "C:\\Users\\juanm\\Documents\\Master\\Data Science\\Algorithmic_Methods_Data_Mining_Lab\\Project\\Homework_2\\functionality_new.py:750: FutureWarning: Series.dt.weekofyear and Series.dt.week have been deprecated.  Please use Series.dt.isocalendar().week instead.\n",
      "  chunk_view['hour'] = chunk_view.event_time.dt.hour\n",
      "C:\\Users\\juanm\\Documents\\Master\\Data Science\\Algorithmic_Methods_Data_Mining_Lab\\Project\\Homework_2\\functionality_new.py:750: FutureWarning: Series.dt.weekofyear and Series.dt.week have been deprecated.  Please use Series.dt.isocalendar().week instead.\n",
      "  chunk_view['hour'] = chunk_view.event_time.dt.hour\n",
      "C:\\Users\\juanm\\Documents\\Master\\Data Science\\Algorithmic_Methods_Data_Mining_Lab\\Project\\Homework_2\\functionality_new.py:750: FutureWarning: Series.dt.weekofyear and Series.dt.week have been deprecated.  Please use Series.dt.isocalendar().week instead.\n",
      "  chunk_view['hour'] = chunk_view.event_time.dt.hour\n",
      "C:\\Users\\juanm\\Documents\\Master\\Data Science\\Algorithmic_Methods_Data_Mining_Lab\\Project\\Homework_2\\functionality_new.py:750: FutureWarning: Series.dt.weekofyear and Series.dt.week have been deprecated.  Please use Series.dt.isocalendar().week instead.\n",
      "  chunk_view['hour'] = chunk_view.event_time.dt.hour\n",
      "C:\\Users\\juanm\\Documents\\Master\\Data Science\\Algorithmic_Methods_Data_Mining_Lab\\Project\\Homework_2\\functionality_new.py:750: FutureWarning: Series.dt.weekofyear and Series.dt.week have been deprecated.  Please use Series.dt.isocalendar().week instead.\n",
      "  chunk_view['hour'] = chunk_view.event_time.dt.hour\n",
      "C:\\Users\\juanm\\Documents\\Master\\Data Science\\Algorithmic_Methods_Data_Mining_Lab\\Project\\Homework_2\\functionality_new.py:750: FutureWarning: Series.dt.weekofyear and Series.dt.week have been deprecated.  Please use Series.dt.isocalendar().week instead.\n",
      "  chunk_view['hour'] = chunk_view.event_time.dt.hour\n",
      "C:\\Users\\juanm\\Documents\\Master\\Data Science\\Algorithmic_Methods_Data_Mining_Lab\\Project\\Homework_2\\functionality_new.py:750: FutureWarning: Series.dt.weekofyear and Series.dt.week have been deprecated.  Please use Series.dt.isocalendar().week instead.\n",
      "  chunk_view['hour'] = chunk_view.event_time.dt.hour\n",
      "C:\\Users\\juanm\\Documents\\Master\\Data Science\\Algorithmic_Methods_Data_Mining_Lab\\Project\\Homework_2\\functionality_new.py:750: FutureWarning: Series.dt.weekofyear and Series.dt.week have been deprecated.  Please use Series.dt.isocalendar().week instead.\n",
      "  chunk_view['hour'] = chunk_view.event_time.dt.hour\n",
      "C:\\Users\\juanm\\Documents\\Master\\Data Science\\Algorithmic_Methods_Data_Mining_Lab\\Project\\Homework_2\\functionality_new.py:750: FutureWarning: Series.dt.weekofyear and Series.dt.week have been deprecated.  Please use Series.dt.isocalendar().week instead.\n",
      "  chunk_view['hour'] = chunk_view.event_time.dt.hour\n",
      "C:\\Users\\juanm\\Documents\\Master\\Data Science\\Algorithmic_Methods_Data_Mining_Lab\\Project\\Homework_2\\functionality_new.py:750: FutureWarning: Series.dt.weekofyear and Series.dt.week have been deprecated.  Please use Series.dt.isocalendar().week instead.\n",
      "  chunk_view['hour'] = chunk_view.event_time.dt.hour\n",
      "C:\\Users\\juanm\\Documents\\Master\\Data Science\\Algorithmic_Methods_Data_Mining_Lab\\Project\\Homework_2\\functionality_new.py:750: FutureWarning: Series.dt.weekofyear and Series.dt.week have been deprecated.  Please use Series.dt.isocalendar().week instead.\n",
      "  chunk_view['hour'] = chunk_view.event_time.dt.hour\n"
     ]
    },
    {
     "name": "stderr",
     "output_type": "stream",
     "text": [
      "C:\\Users\\juanm\\Documents\\Master\\Data Science\\Algorithmic_Methods_Data_Mining_Lab\\Project\\Homework_2\\functionality_new.py:750: FutureWarning: Series.dt.weekofyear and Series.dt.week have been deprecated.  Please use Series.dt.isocalendar().week instead.\n",
      "  chunk_view['hour'] = chunk_view.event_time.dt.hour\n",
      "C:\\Users\\juanm\\Documents\\Master\\Data Science\\Algorithmic_Methods_Data_Mining_Lab\\Project\\Homework_2\\functionality_new.py:750: FutureWarning: Series.dt.weekofyear and Series.dt.week have been deprecated.  Please use Series.dt.isocalendar().week instead.\n",
      "  chunk_view['hour'] = chunk_view.event_time.dt.hour\n",
      "C:\\Users\\juanm\\Documents\\Master\\Data Science\\Algorithmic_Methods_Data_Mining_Lab\\Project\\Homework_2\\functionality_new.py:750: FutureWarning: Series.dt.weekofyear and Series.dt.week have been deprecated.  Please use Series.dt.isocalendar().week instead.\n",
      "  chunk_view['hour'] = chunk_view.event_time.dt.hour\n",
      "C:\\Users\\juanm\\Documents\\Master\\Data Science\\Algorithmic_Methods_Data_Mining_Lab\\Project\\Homework_2\\functionality_new.py:750: FutureWarning: Series.dt.weekofyear and Series.dt.week have been deprecated.  Please use Series.dt.isocalendar().week instead.\n",
      "  chunk_view['hour'] = chunk_view.event_time.dt.hour\n",
      "C:\\Users\\juanm\\Documents\\Master\\Data Science\\Algorithmic_Methods_Data_Mining_Lab\\Project\\Homework_2\\functionality_new.py:750: FutureWarning: Series.dt.weekofyear and Series.dt.week have been deprecated.  Please use Series.dt.isocalendar().week instead.\n",
      "  chunk_view['hour'] = chunk_view.event_time.dt.hour\n",
      "C:\\Users\\juanm\\Documents\\Master\\Data Science\\Algorithmic_Methods_Data_Mining_Lab\\Project\\Homework_2\\functionality_new.py:750: FutureWarning: Series.dt.weekofyear and Series.dt.week have been deprecated.  Please use Series.dt.isocalendar().week instead.\n",
      "  chunk_view['hour'] = chunk_view.event_time.dt.hour\n",
      "C:\\Users\\juanm\\Documents\\Master\\Data Science\\Algorithmic_Methods_Data_Mining_Lab\\Project\\Homework_2\\functionality_new.py:750: FutureWarning: Series.dt.weekofyear and Series.dt.week have been deprecated.  Please use Series.dt.isocalendar().week instead.\n",
      "  chunk_view['hour'] = chunk_view.event_time.dt.hour\n",
      "C:\\Users\\juanm\\Documents\\Master\\Data Science\\Algorithmic_Methods_Data_Mining_Lab\\Project\\Homework_2\\functionality_new.py:750: FutureWarning: Series.dt.weekofyear and Series.dt.week have been deprecated.  Please use Series.dt.isocalendar().week instead.\n",
      "  chunk_view['hour'] = chunk_view.event_time.dt.hour\n",
      "C:\\Users\\juanm\\Documents\\Master\\Data Science\\Algorithmic_Methods_Data_Mining_Lab\\Project\\Homework_2\\functionality_new.py:750: FutureWarning: Series.dt.weekofyear and Series.dt.week have been deprecated.  Please use Series.dt.isocalendar().week instead.\n",
      "  chunk_view['hour'] = chunk_view.event_time.dt.hour\n",
      "C:\\Users\\juanm\\Documents\\Master\\Data Science\\Algorithmic_Methods_Data_Mining_Lab\\Project\\Homework_2\\functionality_new.py:750: FutureWarning: Series.dt.weekofyear and Series.dt.week have been deprecated.  Please use Series.dt.isocalendar().week instead.\n",
      "  chunk_view['hour'] = chunk_view.event_time.dt.hour\n",
      "C:\\Users\\juanm\\Documents\\Master\\Data Science\\Algorithmic_Methods_Data_Mining_Lab\\Project\\Homework_2\\functionality_new.py:750: FutureWarning: Series.dt.weekofyear and Series.dt.week have been deprecated.  Please use Series.dt.isocalendar().week instead.\n",
      "  chunk_view['hour'] = chunk_view.event_time.dt.hour\n",
      "C:\\Users\\juanm\\Documents\\Master\\Data Science\\Algorithmic_Methods_Data_Mining_Lab\\Project\\Homework_2\\functionality_new.py:750: FutureWarning: Series.dt.weekofyear and Series.dt.week have been deprecated.  Please use Series.dt.isocalendar().week instead.\n",
      "  chunk_view['hour'] = chunk_view.event_time.dt.hour\n",
      "C:\\Users\\juanm\\Documents\\Master\\Data Science\\Algorithmic_Methods_Data_Mining_Lab\\Project\\Homework_2\\functionality_new.py:750: FutureWarning: Series.dt.weekofyear and Series.dt.week have been deprecated.  Please use Series.dt.isocalendar().week instead.\n",
      "  chunk_view['hour'] = chunk_view.event_time.dt.hour\n",
      "C:\\Users\\juanm\\Documents\\Master\\Data Science\\Algorithmic_Methods_Data_Mining_Lab\\Project\\Homework_2\\functionality_new.py:750: FutureWarning: Series.dt.weekofyear and Series.dt.week have been deprecated.  Please use Series.dt.isocalendar().week instead.\n",
      "  chunk_view['hour'] = chunk_view.event_time.dt.hour\n",
      "C:\\Users\\juanm\\Documents\\Master\\Data Science\\Algorithmic_Methods_Data_Mining_Lab\\Project\\Homework_2\\functionality_new.py:750: FutureWarning: Series.dt.weekofyear and Series.dt.week have been deprecated.  Please use Series.dt.isocalendar().week instead.\n",
      "  chunk_view['hour'] = chunk_view.event_time.dt.hour\n",
      "C:\\Users\\juanm\\Documents\\Master\\Data Science\\Algorithmic_Methods_Data_Mining_Lab\\Project\\Homework_2\\functionality_new.py:750: FutureWarning: Series.dt.weekofyear and Series.dt.week have been deprecated.  Please use Series.dt.isocalendar().week instead.\n",
      "  chunk_view['hour'] = chunk_view.event_time.dt.hour\n"
     ]
    },
    {
     "name": "stdout",
     "output_type": "stream",
     "text": [
      "data/2019-Nov.csv\n"
     ]
    },
    {
     "name": "stderr",
     "output_type": "stream",
     "text": [
      "C:\\Users\\juanm\\Documents\\Master\\Data Science\\Algorithmic_Methods_Data_Mining_Lab\\Project\\Homework_2\\functionality_new.py:750: FutureWarning: Series.dt.weekofyear and Series.dt.week have been deprecated.  Please use Series.dt.isocalendar().week instead.\n",
      "  chunk_view['hour'] = chunk_view.event_time.dt.hour\n",
      "C:\\Users\\juanm\\Documents\\Master\\Data Science\\Algorithmic_Methods_Data_Mining_Lab\\Project\\Homework_2\\functionality_new.py:750: FutureWarning: Series.dt.weekofyear and Series.dt.week have been deprecated.  Please use Series.dt.isocalendar().week instead.\n",
      "  chunk_view['hour'] = chunk_view.event_time.dt.hour\n",
      "C:\\Users\\juanm\\Documents\\Master\\Data Science\\Algorithmic_Methods_Data_Mining_Lab\\Project\\Homework_2\\functionality_new.py:750: FutureWarning: Series.dt.weekofyear and Series.dt.week have been deprecated.  Please use Series.dt.isocalendar().week instead.\n",
      "  chunk_view['hour'] = chunk_view.event_time.dt.hour\n"
     ]
    }
   ],
   "source": [
    "visits_per_day = funcs.plot_hourly_average_visitors(data_sets=['data/2019-Oct.csv', 'data/2019-Nov.csv',\n",
    "                                                         'data/2019-Dec.csv', 'data/2020-Jan.csv',\n",
    "                                                         'data/2020-Feb.csv', 'data/2020-Mar.csv',\n",
    "                                                         'data/2020-Apr.csv'],\n",
    "                                                     day='Monday')"
   ]
  },
  {
   "cell_type": "code",
   "execution_count": null,
   "metadata": {},
   "outputs": [],
   "source": []
  },
  {
   "cell_type": "code",
   "execution_count": null,
   "metadata": {},
   "outputs": [],
   "source": []
  },
  {
   "cell_type": "markdown",
   "metadata": {},
   "source": [
    "## Research Question 6 ~ Conversion Rates\n",
    "\n",
    "The conversion rate of a product is given by the number of times a product has been bought over the number of times it has been visited. What's the conversion rate of your online store?\n",
    "- Find the overall conversion rate of your store.\n",
    "- Plot the number of purchases of each category and show the conversion rate of each category in decreasing order."
   ]
  },
  {
   "cell_type": "code",
   "execution_count": 7,
   "metadata": {},
   "outputs": [
    {
     "name": "stderr",
     "output_type": "stream",
     "text": [
      "[                                                                        ]   0%\r"
     ]
    },
    {
     "name": "stdout",
     "output_type": "stream",
     "text": [
      "Running data_set: data/2019-Oct.csv\n"
     ]
    },
    {
     "name": "stderr",
     "output_type": "stream",
     "text": [
      "[======                                                                  ]   9%\r"
     ]
    },
    {
     "name": "stdout",
     "output_type": "stream",
     "text": [
      "Running data_set: data/2019-Nov.csv\n"
     ]
    },
    {
     "name": "stderr",
     "output_type": "stream",
     "text": [
      "[===================                                                     ]  26%\r"
     ]
    },
    {
     "name": "stdout",
     "output_type": "stream",
     "text": [
      "Running data_set: data/2019-Dec.csv\n"
     ]
    },
    {
     "name": "stderr",
     "output_type": "stream",
     "text": [
      "[==============================                                          ]  42%\r"
     ]
    },
    {
     "name": "stdout",
     "output_type": "stream",
     "text": [
      "Running data_set: data/2020-Jan.csv\n"
     ]
    },
    {
     "name": "stderr",
     "output_type": "stream",
     "text": [
      "[========================================                                ]  56%\r"
     ]
    },
    {
     "name": "stdout",
     "output_type": "stream",
     "text": [
      "Running data_set: data/2020-Feb.csv\n"
     ]
    },
    {
     "name": "stderr",
     "output_type": "stream",
     "text": [
      "[==================================================                      ]  69%\r"
     ]
    },
    {
     "name": "stdout",
     "output_type": "stream",
     "text": [
      "Running data_set: data/2020-Mar.csv\n"
     ]
    },
    {
     "name": "stderr",
     "output_type": "stream",
     "text": [
      "[===========================================================             ]  83%\r"
     ]
    },
    {
     "name": "stdout",
     "output_type": "stream",
     "text": [
      "Running data_set: data/2020-Apr.csv\n"
     ]
    },
    {
     "name": "stderr",
     "output_type": "stream",
     "text": [
      "[========================================================================] 100%\n"
     ]
    },
    {
     "data": {
      "text/plain": [
       "0.0178"
      ]
     },
     "execution_count": 7,
     "metadata": {},
     "output_type": "execute_result"
    }
   ],
   "source": [
    "conversion_rate = funcs.conversion_rate(data_sets=['data/2019-Oct.csv', 'data/2019-Nov.csv',\n",
    "                                                   'data/2019-Dec.csv', 'data/2020-Jan.csv',\n",
    "                                                   'data/2020-Feb.csv', 'data/2020-Mar.csv',\n",
    "                                                   'data/2020-Apr.csv'])\n",
    "conversion_rate"
   ]
  },
  {
   "cell_type": "code",
   "execution_count": 8,
   "metadata": {},
   "outputs": [
    {
     "name": "stderr",
     "output_type": "stream",
     "text": [
      "[                                                                        ]   0%\r"
     ]
    },
    {
     "name": "stdout",
     "output_type": "stream",
     "text": [
      "Running data_set: data/2019-Oct.csv\n"
     ]
    },
    {
     "name": "stderr",
     "output_type": "stream",
     "text": [
      "[======                                                                  ]   9%\r"
     ]
    },
    {
     "name": "stdout",
     "output_type": "stream",
     "text": [
      "Running data_set: data/2019-Nov.csv\n"
     ]
    },
    {
     "name": "stderr",
     "output_type": "stream",
     "text": [
      "[===================                                                     ]  26%\r"
     ]
    },
    {
     "name": "stdout",
     "output_type": "stream",
     "text": [
      "Running data_set: data/2019-Dec.csv\n"
     ]
    },
    {
     "name": "stderr",
     "output_type": "stream",
     "text": [
      "[==============================                                          ]  42%\r"
     ]
    },
    {
     "name": "stdout",
     "output_type": "stream",
     "text": [
      "Running data_set: data/2020-Jan.csv\n"
     ]
    },
    {
     "name": "stderr",
     "output_type": "stream",
     "text": [
      "[========================================                                ]  56%\r"
     ]
    },
    {
     "name": "stdout",
     "output_type": "stream",
     "text": [
      "Running data_set: data/2020-Feb.csv\n"
     ]
    },
    {
     "name": "stderr",
     "output_type": "stream",
     "text": [
      "[==================================================                      ]  69%\r"
     ]
    },
    {
     "name": "stdout",
     "output_type": "stream",
     "text": [
      "Running data_set: data/2020-Mar.csv\n"
     ]
    },
    {
     "name": "stderr",
     "output_type": "stream",
     "text": [
      "[===========================================================             ]  83%\r"
     ]
    },
    {
     "name": "stdout",
     "output_type": "stream",
     "text": [
      "Running data_set: data/2020-Apr.csv\n"
     ]
    },
    {
     "name": "stderr",
     "output_type": "stream",
     "text": [
      "[========================================================================] 100%\n"
     ]
    },
    {
     "data": {
      "image/png": "[encoded data removed]",
      "text/plain": [
       "<Figure size 864x576 with 2 Axes>"
      ]
     },
     "metadata": {
      "needs_background": "light"
     },
     "output_type": "display_data"
    }
   ],
   "source": [
    "tot = funcs.conversion_rate_per_category(data_sets=['data/2019-Oct.csv', 'data/2019-Nov.csv',\n",
    "                                                   'data/2019-Dec.csv', 'data/2020-Jan.csv',\n",
    "                                                   'data/2020-Feb.csv', 'data/2020-Mar.csv',\n",
    "                                                   'data/2020-Apr.csv'])"
   ]
  },
  {
   "cell_type": "markdown",
   "metadata": {},
   "source": [
    "### Results\n",
    "\n",
    "The overall conversion rate of the online shop is of 1.78%, a relatively low percentage. This however is a justified number given the world in which we live now-a-days (we can choose from a huge amount of products and never have to worry about something going out of stock, allowing us to take our time when choosing which product to purchase).\n",
    "\n",
    "If we look into this conversion rate a bit more in detail (specifically at category level) we can see how some categories are able to increase this overall conversion rate. Specifically the category *construction* has a conversion rate above 3% (people that look for construction products tend to have a real need for this product) while the *accessories* category has a very low rate (accessories are usually not a priority and their purchase can usually be post-poned).\n",
    "\n",
    "We can also observe that the number of purchases is not at all related with the conversion rate, as one would expect."
   ]
  },
  {
   "cell_type": "code",
   "execution_count": null,
   "metadata": {},
   "outputs": [],
   "source": []
  },
  {
   "cell_type": "markdown",
   "metadata": {},
   "source": [
    "## Research Question 7 ~ Pareto Principle\n",
    "\n",
    "The Pareto principle states that for many outcomes roughly 80% of consequences come from 20% of the causes. Also known as 80/20 rule, in e-commerce simply means that most of your business, around 80%, likely comes from about 20% of your customers.\n",
    "- Prove that the pareto principle applies to your store.\n"
   ]
  },
  {
   "cell_type": "code",
   "execution_count": 9,
   "metadata": {},
   "outputs": [
    {
     "name": "stderr",
     "output_type": "stream",
     "text": [
      "[                                                                        ]   0%\r"
     ]
    },
    {
     "name": "stdout",
     "output_type": "stream",
     "text": [
      "Running data_set: data/2019-Oct.csv\n"
     ]
    },
    {
     "name": "stderr",
     "output_type": "stream",
     "text": [
      "[======                                                                  ]   9%\r"
     ]
    },
    {
     "name": "stdout",
     "output_type": "stream",
     "text": [
      "Running data_set: data/2019-Nov.csv\n"
     ]
    },
    {
     "name": "stderr",
     "output_type": "stream",
     "text": [
      "[===================                                                     ]  26%\r"
     ]
    },
    {
     "name": "stdout",
     "output_type": "stream",
     "text": [
      "Running data_set: data/2019-Dec.csv\n"
     ]
    },
    {
     "name": "stderr",
     "output_type": "stream",
     "text": [
      "[==============================                                          ]  42%\r"
     ]
    },
    {
     "name": "stdout",
     "output_type": "stream",
     "text": [
      "Running data_set: data/2020-Jan.csv\n"
     ]
    },
    {
     "name": "stderr",
     "output_type": "stream",
     "text": [
      "[========================================                                ]  56%\r"
     ]
    },
    {
     "name": "stdout",
     "output_type": "stream",
     "text": [
      "Running data_set: data/2020-Feb.csv\n"
     ]
    },
    {
     "name": "stderr",
     "output_type": "stream",
     "text": [
      "[==================================================                      ]  69%\r"
     ]
    },
    {
     "name": "stdout",
     "output_type": "stream",
     "text": [
      "Running data_set: data/2020-Mar.csv\n"
     ]
    },
    {
     "name": "stderr",
     "output_type": "stream",
     "text": [
      "[===========================================================             ]  83%\r"
     ]
    },
    {
     "name": "stdout",
     "output_type": "stream",
     "text": [
      "Running data_set: data/2020-Apr.csv\n"
     ]
    },
    {
     "name": "stderr",
     "output_type": "stream",
     "text": [
      "[========================================================================] 100%\n"
     ]
    },
    {
     "data": {
      "image/png": "[encoded data removed]",
      "text/plain": [
       "<Figure size 576x432 with 1 Axes>"
      ]
     },
     "metadata": {
      "needs_background": "light"
     },
     "output_type": "display_data"
    }
   ],
   "source": [
    "funcs.pareto_proof_online_shop(data_sets=['data/2019-Oct.csv', 'data/2019-Nov.csv',\n",
    "                                                   'data/2019-Dec.csv', 'data/2020-Jan.csv',\n",
    "                                                   'data/2020-Feb.csv', 'data/2020-Mar.csv',\n",
    "                                                   'data/2020-Apr.csv'], \n",
    "                               income_threshold=0.8)"
   ]
  },
  {
   "cell_type": "markdown",
   "metadata": {},
   "source": [
    "### Results\n",
    "\n",
    "Based on the previous graph we can conclude that the pareto principle is approximately fulfilled for our online shop (**80% of the income is generated by 25.8% of the users**).\n",
    "\n",
    "The slop of the pareto is also in line with what we would expect."
   ]
  },
  {
   "cell_type": "code",
   "execution_count": null,
   "metadata": {},
   "outputs": [],
   "source": []
  },
  {
   "cell_type": "code",
   "execution_count": null,
   "metadata": {},
   "outputs": [],
   "source": []
  },
  {
   "cell_type": "code",
   "execution_count": null,
   "metadata": {},
   "outputs": [],
   "source": []
  },
  {
   "cell_type": "code",
   "execution_count": 61,
   "metadata": {},
   "outputs": [],
   "source": [
    "import pandas as pd\n",
    "\n",
    "test_1 = pd.read_csv('data/2019-Oct.csv', nrows=100000)\n",
    "test_2 = pd.read_csv('data/2019-Nov.csv', nrows=100000)\n",
    "test_3 = pd.read_csv('data/2020-Feb.csv', nrows=100000)\n",
    "test_tot = pd.concat((test_1, test_2, test_3))\n"
   ]
  },
  {
   "cell_type": "code",
   "execution_count": 23,
   "metadata": {},
   "outputs": [],
   "source": [
    "test_1.to_csv('cacac2019-Oct.csv')\n",
    "test_2.to_csv('cacac2019-Nov.csv')\n",
    "test_3.to_csv('cacac2019-Dec.csv')"
   ]
  },
  {
   "cell_type": "code",
   "execution_count": 17,
   "metadata": {},
   "outputs": [
    {
     "name": "stderr",
     "output_type": "stream",
     "text": [
      "[                                                                        ]   0%\r"
     ]
    },
    {
     "name": "stdout",
     "output_type": "stream",
     "text": [
      "cacac2019-Oct.csv\n",
      "Index(['event_time', 'event_type', 'category_code', 'user_id',\n",
      "       'subcategory_code'],\n",
      "      dtype='object')\n",
      "10\n",
      "cacac2019-Nov.csv\n",
      "Index(['event_time', 'event_type', 'category_code', 'user_id',\n",
      "       'subcategory_code'],\n",
      "      dtype='object')\n",
      "11\n",
      "cacac2019-Dec.csv\n"
     ]
    },
    {
     "name": "stderr",
     "output_type": "stream",
     "text": [
      "[========================================================================] 100%\r"
     ]
    },
    {
     "name": "stdout",
     "output_type": "stream",
     "text": [
      "Index(['event_time', 'event_type', 'category_code', 'user_id',\n",
      "       'subcategory_code'],\n",
      "      dtype='object')\n",
      "12\n",
      "Finished pre-processing data\n"
     ]
    },
    {
     "name": "stderr",
     "output_type": "stream",
     "text": [
      "\n"
     ]
    },
    {
     "data": {
      "image/png": "[encoded data removed]",
      "text/plain": [
       "<Figure size 408.75x360 with 1 Axes>"
      ]
     },
     "metadata": {
      "needs_background": "light"
     },
     "output_type": "display_data"
    }
   ],
   "source": [
    "x = funcs.plot_visited_product_subcategory(data_sets=['cacac2019-Oct.csv', 'cacac2019-Nov.csv', 'cacac2019-Dec.csv'])"
   ]
  },
  {
   "cell_type": "code",
   "execution_count": 8,
   "metadata": {},
   "outputs": [],
   "source": [
    "chunk = test_1"
   ]
  },
  {
   "cell_type": "code",
   "execution_count": 10,
   "metadata": {},
   "outputs": [
    {
     "name": "stdout",
     "output_type": "stream",
     "text": [
      "Index(['event_time', 'event_type', 'product_id', 'category_id',\n",
      "       'category_code', 'brand', 'price', 'user_id', 'user_session',\n",
      "       'subcategory_code'],\n",
      "      dtype='object')\n"
     ]
    }
   ],
   "source": [
    "import re\n",
    "month_dict = {'Oct': 10, 'Nov': 11, 'Dec': 12, 'Jan': 1, 'Feb': 2, 'Mar': 3, 'Apr': 4}\n",
    "data_set = 'data/2019-Oct.csv'\n",
    "\n",
    "chunk = chunk[~chunk.category_code.isnull()]\n",
    "\n",
    "# filter the visited product\n",
    "chunk_view = chunk[chunk.event_type == 'view']\n",
    "\n",
    "# Introduce the column sub_category\n",
    "chunk_view['subcategory_code'] = chunk_view['category_code'].apply(\n",
    "    lambda x: re.findall(r'\\.(.*)', x)[0] if len(x.split('.')) != 1 else x)\n",
    "\n",
    "# Convert event time into month\n",
    "print(chunk_view.columns)\n",
    "chunk_view['event_time'] = month_dict[data_set[10:13]]"
   ]
  },
  {
   "cell_type": "code",
   "execution_count": 7,
   "metadata": {},
   "outputs": [],
   "source": [
    "month_dict = {'Oct': 10, 'Nov': 11, 'Dec': 12, 'Jan': 1, 'Feb': 2, 'Mar': 3, 'Apr': 4}"
   ]
  },
  {
   "cell_type": "code",
   "execution_count": 11,
   "metadata": {},
   "outputs": [],
   "source": [
    "test_1['event_time'] = month_dict[y[10:13]]"
   ]
  },
  {
   "cell_type": "code",
   "execution_count": 12,
   "metadata": {},
   "outputs": [
    {
     "data": {
      "text/plain": [
       "0        10\n",
       "1        10\n",
       "2        10\n",
       "3        10\n",
       "4        10\n",
       "         ..\n",
       "99995    10\n",
       "99996    10\n",
       "99997    10\n",
       "99998    10\n",
       "99999    10\n",
       "Name: event_time, Length: 100000, dtype: int64"
      ]
     },
     "execution_count": 12,
     "metadata": {},
     "output_type": "execute_result"
    }
   ],
   "source": [
    "test_1.event_time"
   ]
  },
  {
   "cell_type": "code",
   "execution_count": 33,
   "metadata": {},
   "outputs": [
    {
     "name": "stdout",
     "output_type": "stream",
     "text": [
      "cacac2019-Oct.csv\n",
      "cacac2019-Nov.csv\n",
      "cacac2019-Dec.csv\n",
      "cacac2019-Oct.csv\n",
      "cacac2019-Nov.csv\n",
      "cacac2019-Dec.csv\n"
     ]
    },
    {
     "data": {
      "image/png": "[encoded data removed]",
      "text/plain": [
       "<Figure size 1152x504 with 1 Axes>"
      ]
     },
     "metadata": {
      "needs_background": "light"
     },
     "output_type": "display_data"
    }
   ],
   "source": [
    "x = funcs.average_views_before_cart(data_sets=['cacac2019-Oct.csv', 'cacac2019-Nov.csv', 'cacac2019-Dec.csv'])"
   ]
  },
  {
   "cell_type": "markdown",
   "metadata": {},
   "source": [
    "1.b."
   ]
  },
  {
   "cell_type": "code",
   "execution_count": null,
   "metadata": {},
   "outputs": [],
   "source": [
    "cart_chunk = pd.DataFrame()\n",
    "for dataset in data_sets:\n",
    "    print(dataset)\n",
    "    for chunk in pd.read_csv(dataset, chunksize=chunk_size):\n",
    "        chunk = chunk[chunk['event_type'] == 'cart']\n",
    "        chunk = chunk.drop_duplicates(subset=['product_id', 'user_id'], keep='first')\n",
    "        cart_chunk = pd.concat([cart_chunk, chunk])\n",
    "        cart_chunk = cart_chunk.drop_duplicates(subset=['product_id', 'user_id'], keep='first')\n",
    "\n",
    "cart_chunk = cart_chunk[['event_time', 'event_type', 'product_id', 'user_id']]\n",
    "cart_chunk['count'] = 0\n",
    "\n",
    "for dataset in data_sets:\n",
    "    print(dataset)\n",
    "    for df in pd.read_csv(dataset, chunksize=chunk_size):\n",
    "        df = df[['event_time', 'event_type', 'product_id', 'user_id']]\n",
    "        df['count'] = 0\n",
    "\n",
    "        views_df = df.merge(cart_chunk, on=['product_id', 'user_id'], how='left')\n",
    "        views_df = views_df[\n",
    "            (views_df['event_time_x'] < views_df['event_time_y']) & (views_df['event_type_x'] == 'view')]\n",
    "        views_df = views_df.groupby(['product_id', 'user_id'])['event_time_x'].count().reset_index(name='count')\n",
    "        sum_chunk = pd.concat([views_df, cart_chunk]).groupby(['product_id', 'user_id']).sum().reset_index()\n",
    "        cart_chunk = sum_chunk.merge(cart_chunk, on=['product_id', 'user_id'], how='left')\n",
    "        cart_chunk.rename(columns={'count_x': 'count'}, inplace=True)\n",
    "        cart_chunk.drop('count_y', inplace=True, axis=1)"
   ]
  },
  {
   "cell_type": "code",
   "execution_count": 43,
   "metadata": {},
   "outputs": [],
   "source": [
    "chunk_oct = test_1\n",
    "df = test_1[['event_time', 'event_type', 'product_id', 'user_id']]\n",
    "df['count'] = 0"
   ]
  },
  {
   "cell_type": "code",
   "execution_count": 35,
   "metadata": {},
   "outputs": [],
   "source": [
    "chunk_oct_cart = chunk_oct[chunk_oct.event_type == 'cart']"
   ]
  },
  {
   "cell_type": "code",
   "execution_count": 38,
   "metadata": {},
   "outputs": [],
   "source": [
    "chunk_oct_cart = chunk_oct_cart.drop_duplicates(subset=['product_id', 'user_id'], keep='first')\n",
    "chunk_oct_cart_test = chunk_oct_cart.drop_duplicates(subset=['product_id', 'user_id'])"
   ]
  },
  {
   "cell_type": "code",
   "execution_count": 39,
   "metadata": {},
   "outputs": [
    {
     "data": {
      "text/html": [
       "<div>\n",
       "<style scoped>\n",
       "    .dataframe tbody tr th:only-of-type {\n",
       "        vertical-align: middle;\n",
       "    }\n",
       "\n",
       "    .dataframe tbody tr th {\n",
       "        vertical-align: top;\n",
       "    }\n",
       "\n",
       "    .dataframe thead th {\n",
       "        text-align: right;\n",
       "    }\n",
       "</style>\n",
       "<table border=\"1\" class=\"dataframe\">\n",
       "  <thead>\n",
       "    <tr style=\"text-align: right;\">\n",
       "      <th></th>\n",
       "      <th>event_time</th>\n",
       "      <th>event_type</th>\n",
       "      <th>product_id</th>\n",
       "      <th>category_id</th>\n",
       "      <th>category_code</th>\n",
       "      <th>brand</th>\n",
       "      <th>price</th>\n",
       "      <th>user_id</th>\n",
       "      <th>user_session</th>\n",
       "    </tr>\n",
       "  </thead>\n",
       "  <tbody>\n",
       "    <tr>\n",
       "      <th>331</th>\n",
       "      <td>2019-10-01 00:05:14 UTC</td>\n",
       "      <td>cart</td>\n",
       "      <td>5100816</td>\n",
       "      <td>2053013553375346967</td>\n",
       "      <td>NaN</td>\n",
       "      <td>xiaomi</td>\n",
       "      <td>29.51</td>\n",
       "      <td>550121407</td>\n",
       "      <td>6f623695-9581-4633-813f-825b8760c7ae</td>\n",
       "    </tr>\n",
       "    <tr>\n",
       "      <th>583</th>\n",
       "      <td>2019-10-01 00:09:33 UTC</td>\n",
       "      <td>cart</td>\n",
       "      <td>1002524</td>\n",
       "      <td>2053013555631882655</td>\n",
       "      <td>electronics.smartphone</td>\n",
       "      <td>apple</td>\n",
       "      <td>515.67</td>\n",
       "      <td>524325294</td>\n",
       "      <td>0b74a829-f9d7-4654-b5b0-35bc9822c238</td>\n",
       "    </tr>\n",
       "    <tr>\n",
       "      <th>680</th>\n",
       "      <td>2019-10-01 00:11:00 UTC</td>\n",
       "      <td>cart</td>\n",
       "      <td>4804056</td>\n",
       "      <td>2053013554658804075</td>\n",
       "      <td>electronics.audio.headphone</td>\n",
       "      <td>apple</td>\n",
       "      <td>161.98</td>\n",
       "      <td>533624186</td>\n",
       "      <td>e5ac3caa-e6d5-4d6b-ae06-2c18cd9ca683</td>\n",
       "    </tr>\n",
       "    <tr>\n",
       "      <th>1325</th>\n",
       "      <td>2019-10-01 02:17:59 UTC</td>\n",
       "      <td>cart</td>\n",
       "      <td>1004833</td>\n",
       "      <td>2053013555631882655</td>\n",
       "      <td>electronics.smartphone</td>\n",
       "      <td>samsung</td>\n",
       "      <td>174.76</td>\n",
       "      <td>536415846</td>\n",
       "      <td>685b5b42-f597-4a69-ab4c-ef96a30bc454</td>\n",
       "    </tr>\n",
       "    <tr>\n",
       "      <th>1654</th>\n",
       "      <td>2019-10-01 02:19:36 UTC</td>\n",
       "      <td>cart</td>\n",
       "      <td>1005003</td>\n",
       "      <td>2053013555631882655</td>\n",
       "      <td>electronics.smartphone</td>\n",
       "      <td>huawei</td>\n",
       "      <td>258.21</td>\n",
       "      <td>513632293</td>\n",
       "      <td>f2cc68f7-39d1-4a50-9dcf-f2a0921bdfda</td>\n",
       "    </tr>\n",
       "    <tr>\n",
       "      <th>...</th>\n",
       "      <td>...</td>\n",
       "      <td>...</td>\n",
       "      <td>...</td>\n",
       "      <td>...</td>\n",
       "      <td>...</td>\n",
       "      <td>...</td>\n",
       "      <td>...</td>\n",
       "      <td>...</td>\n",
       "      <td>...</td>\n",
       "    </tr>\n",
       "    <tr>\n",
       "      <th>99654</th>\n",
       "      <td>2019-10-01 04:28:06 UTC</td>\n",
       "      <td>cart</td>\n",
       "      <td>1002633</td>\n",
       "      <td>2053013555631882655</td>\n",
       "      <td>electronics.smartphone</td>\n",
       "      <td>apple</td>\n",
       "      <td>360.08</td>\n",
       "      <td>555312838</td>\n",
       "      <td>2190dd63-7c53-4318-b4e4-bd7d33b36562</td>\n",
       "    </tr>\n",
       "    <tr>\n",
       "      <th>99693</th>\n",
       "      <td>2019-10-01 04:28:09 UTC</td>\n",
       "      <td>cart</td>\n",
       "      <td>5100337</td>\n",
       "      <td>2053013553341792533</td>\n",
       "      <td>electronics.clocks</td>\n",
       "      <td>apple</td>\n",
       "      <td>311.84</td>\n",
       "      <td>516278990</td>\n",
       "      <td>acefd607-1a24-496c-a4b8-7e9097a71ddf</td>\n",
       "    </tr>\n",
       "    <tr>\n",
       "      <th>99770</th>\n",
       "      <td>2019-10-01 04:28:13 UTC</td>\n",
       "      <td>cart</td>\n",
       "      <td>1003306</td>\n",
       "      <td>2053013555631882655</td>\n",
       "      <td>electronics.smartphone</td>\n",
       "      <td>apple</td>\n",
       "      <td>587.56</td>\n",
       "      <td>520198210</td>\n",
       "      <td>d9e7c64a-3b27-4f13-9f6f-6e14c7817fef</td>\n",
       "    </tr>\n",
       "    <tr>\n",
       "      <th>99938</th>\n",
       "      <td>2019-10-01 04:28:24 UTC</td>\n",
       "      <td>cart</td>\n",
       "      <td>10701101</td>\n",
       "      <td>2053013561277416167</td>\n",
       "      <td>NaN</td>\n",
       "      <td>ea</td>\n",
       "      <td>74.36</td>\n",
       "      <td>516373187</td>\n",
       "      <td>053aaee9-dff0-4414-bcef-3b67c1ef456a</td>\n",
       "    </tr>\n",
       "    <tr>\n",
       "      <th>99991</th>\n",
       "      <td>2019-10-01 04:28:27 UTC</td>\n",
       "      <td>cart</td>\n",
       "      <td>3700777</td>\n",
       "      <td>2053013565983425517</td>\n",
       "      <td>appliances.environment.vacuum</td>\n",
       "      <td>samsung</td>\n",
       "      <td>164.71</td>\n",
       "      <td>555480250</td>\n",
       "      <td>94b5247e-5fff-4fb6-929d-a5c506a001e3</td>\n",
       "    </tr>\n",
       "  </tbody>\n",
       "</table>\n",
       "<p>809 rows × 9 columns</p>\n",
       "</div>"
      ],
      "text/plain": [
       "                    event_time event_type  product_id          category_id  \\\n",
       "331    2019-10-01 00:05:14 UTC       cart     5100816  2053013553375346967   \n",
       "583    2019-10-01 00:09:33 UTC       cart     1002524  2053013555631882655   \n",
       "680    2019-10-01 00:11:00 UTC       cart     4804056  2053013554658804075   \n",
       "1325   2019-10-01 02:17:59 UTC       cart     1004833  2053013555631882655   \n",
       "1654   2019-10-01 02:19:36 UTC       cart     1005003  2053013555631882655   \n",
       "...                        ...        ...         ...                  ...   \n",
       "99654  2019-10-01 04:28:06 UTC       cart     1002633  2053013555631882655   \n",
       "99693  2019-10-01 04:28:09 UTC       cart     5100337  2053013553341792533   \n",
       "99770  2019-10-01 04:28:13 UTC       cart     1003306  2053013555631882655   \n",
       "99938  2019-10-01 04:28:24 UTC       cart    10701101  2053013561277416167   \n",
       "99991  2019-10-01 04:28:27 UTC       cart     3700777  2053013565983425517   \n",
       "\n",
       "                       category_code    brand   price    user_id  \\\n",
       "331                              NaN   xiaomi   29.51  550121407   \n",
       "583           electronics.smartphone    apple  515.67  524325294   \n",
       "680      electronics.audio.headphone    apple  161.98  533624186   \n",
       "1325          electronics.smartphone  samsung  174.76  536415846   \n",
       "1654          electronics.smartphone   huawei  258.21  513632293   \n",
       "...                              ...      ...     ...        ...   \n",
       "99654         electronics.smartphone    apple  360.08  555312838   \n",
       "99693             electronics.clocks    apple  311.84  516278990   \n",
       "99770         electronics.smartphone    apple  587.56  520198210   \n",
       "99938                            NaN       ea   74.36  516373187   \n",
       "99991  appliances.environment.vacuum  samsung  164.71  555480250   \n",
       "\n",
       "                               user_session  \n",
       "331    6f623695-9581-4633-813f-825b8760c7ae  \n",
       "583    0b74a829-f9d7-4654-b5b0-35bc9822c238  \n",
       "680    e5ac3caa-e6d5-4d6b-ae06-2c18cd9ca683  \n",
       "1325   685b5b42-f597-4a69-ab4c-ef96a30bc454  \n",
       "1654   f2cc68f7-39d1-4a50-9dcf-f2a0921bdfda  \n",
       "...                                     ...  \n",
       "99654  2190dd63-7c53-4318-b4e4-bd7d33b36562  \n",
       "99693  acefd607-1a24-496c-a4b8-7e9097a71ddf  \n",
       "99770  d9e7c64a-3b27-4f13-9f6f-6e14c7817fef  \n",
       "99938  053aaee9-dff0-4414-bcef-3b67c1ef456a  \n",
       "99991  94b5247e-5fff-4fb6-929d-a5c506a001e3  \n",
       "\n",
       "[809 rows x 9 columns]"
      ]
     },
     "execution_count": 39,
     "metadata": {},
     "output_type": "execute_result"
    }
   ],
   "source": [
    "chunk_oct_cart"
   ]
  },
  {
   "cell_type": "code",
   "execution_count": 40,
   "metadata": {},
   "outputs": [
    {
     "data": {
      "text/html": [
       "<div>\n",
       "<style scoped>\n",
       "    .dataframe tbody tr th:only-of-type {\n",
       "        vertical-align: middle;\n",
       "    }\n",
       "\n",
       "    .dataframe tbody tr th {\n",
       "        vertical-align: top;\n",
       "    }\n",
       "\n",
       "    .dataframe thead th {\n",
       "        text-align: right;\n",
       "    }\n",
       "</style>\n",
       "<table border=\"1\" class=\"dataframe\">\n",
       "  <thead>\n",
       "    <tr style=\"text-align: right;\">\n",
       "      <th></th>\n",
       "      <th>event_time</th>\n",
       "      <th>event_type</th>\n",
       "      <th>product_id</th>\n",
       "      <th>category_id</th>\n",
       "      <th>category_code</th>\n",
       "      <th>brand</th>\n",
       "      <th>price</th>\n",
       "      <th>user_id</th>\n",
       "      <th>user_session</th>\n",
       "    </tr>\n",
       "  </thead>\n",
       "  <tbody>\n",
       "    <tr>\n",
       "      <th>331</th>\n",
       "      <td>2019-10-01 00:05:14 UTC</td>\n",
       "      <td>cart</td>\n",
       "      <td>5100816</td>\n",
       "      <td>2053013553375346967</td>\n",
       "      <td>NaN</td>\n",
       "      <td>xiaomi</td>\n",
       "      <td>29.51</td>\n",
       "      <td>550121407</td>\n",
       "      <td>6f623695-9581-4633-813f-825b8760c7ae</td>\n",
       "    </tr>\n",
       "    <tr>\n",
       "      <th>583</th>\n",
       "      <td>2019-10-01 00:09:33 UTC</td>\n",
       "      <td>cart</td>\n",
       "      <td>1002524</td>\n",
       "      <td>2053013555631882655</td>\n",
       "      <td>electronics.smartphone</td>\n",
       "      <td>apple</td>\n",
       "      <td>515.67</td>\n",
       "      <td>524325294</td>\n",
       "      <td>0b74a829-f9d7-4654-b5b0-35bc9822c238</td>\n",
       "    </tr>\n",
       "    <tr>\n",
       "      <th>680</th>\n",
       "      <td>2019-10-01 00:11:00 UTC</td>\n",
       "      <td>cart</td>\n",
       "      <td>4804056</td>\n",
       "      <td>2053013554658804075</td>\n",
       "      <td>electronics.audio.headphone</td>\n",
       "      <td>apple</td>\n",
       "      <td>161.98</td>\n",
       "      <td>533624186</td>\n",
       "      <td>e5ac3caa-e6d5-4d6b-ae06-2c18cd9ca683</td>\n",
       "    </tr>\n",
       "    <tr>\n",
       "      <th>1325</th>\n",
       "      <td>2019-10-01 02:17:59 UTC</td>\n",
       "      <td>cart</td>\n",
       "      <td>1004833</td>\n",
       "      <td>2053013555631882655</td>\n",
       "      <td>electronics.smartphone</td>\n",
       "      <td>samsung</td>\n",
       "      <td>174.76</td>\n",
       "      <td>536415846</td>\n",
       "      <td>685b5b42-f597-4a69-ab4c-ef96a30bc454</td>\n",
       "    </tr>\n",
       "    <tr>\n",
       "      <th>1654</th>\n",
       "      <td>2019-10-01 02:19:36 UTC</td>\n",
       "      <td>cart</td>\n",
       "      <td>1005003</td>\n",
       "      <td>2053013555631882655</td>\n",
       "      <td>electronics.smartphone</td>\n",
       "      <td>huawei</td>\n",
       "      <td>258.21</td>\n",
       "      <td>513632293</td>\n",
       "      <td>f2cc68f7-39d1-4a50-9dcf-f2a0921bdfda</td>\n",
       "    </tr>\n",
       "    <tr>\n",
       "      <th>...</th>\n",
       "      <td>...</td>\n",
       "      <td>...</td>\n",
       "      <td>...</td>\n",
       "      <td>...</td>\n",
       "      <td>...</td>\n",
       "      <td>...</td>\n",
       "      <td>...</td>\n",
       "      <td>...</td>\n",
       "      <td>...</td>\n",
       "    </tr>\n",
       "    <tr>\n",
       "      <th>99654</th>\n",
       "      <td>2019-10-01 04:28:06 UTC</td>\n",
       "      <td>cart</td>\n",
       "      <td>1002633</td>\n",
       "      <td>2053013555631882655</td>\n",
       "      <td>electronics.smartphone</td>\n",
       "      <td>apple</td>\n",
       "      <td>360.08</td>\n",
       "      <td>555312838</td>\n",
       "      <td>2190dd63-7c53-4318-b4e4-bd7d33b36562</td>\n",
       "    </tr>\n",
       "    <tr>\n",
       "      <th>99693</th>\n",
       "      <td>2019-10-01 04:28:09 UTC</td>\n",
       "      <td>cart</td>\n",
       "      <td>5100337</td>\n",
       "      <td>2053013553341792533</td>\n",
       "      <td>electronics.clocks</td>\n",
       "      <td>apple</td>\n",
       "      <td>311.84</td>\n",
       "      <td>516278990</td>\n",
       "      <td>acefd607-1a24-496c-a4b8-7e9097a71ddf</td>\n",
       "    </tr>\n",
       "    <tr>\n",
       "      <th>99770</th>\n",
       "      <td>2019-10-01 04:28:13 UTC</td>\n",
       "      <td>cart</td>\n",
       "      <td>1003306</td>\n",
       "      <td>2053013555631882655</td>\n",
       "      <td>electronics.smartphone</td>\n",
       "      <td>apple</td>\n",
       "      <td>587.56</td>\n",
       "      <td>520198210</td>\n",
       "      <td>d9e7c64a-3b27-4f13-9f6f-6e14c7817fef</td>\n",
       "    </tr>\n",
       "    <tr>\n",
       "      <th>99938</th>\n",
       "      <td>2019-10-01 04:28:24 UTC</td>\n",
       "      <td>cart</td>\n",
       "      <td>10701101</td>\n",
       "      <td>2053013561277416167</td>\n",
       "      <td>NaN</td>\n",
       "      <td>ea</td>\n",
       "      <td>74.36</td>\n",
       "      <td>516373187</td>\n",
       "      <td>053aaee9-dff0-4414-bcef-3b67c1ef456a</td>\n",
       "    </tr>\n",
       "    <tr>\n",
       "      <th>99991</th>\n",
       "      <td>2019-10-01 04:28:27 UTC</td>\n",
       "      <td>cart</td>\n",
       "      <td>3700777</td>\n",
       "      <td>2053013565983425517</td>\n",
       "      <td>appliances.environment.vacuum</td>\n",
       "      <td>samsung</td>\n",
       "      <td>164.71</td>\n",
       "      <td>555480250</td>\n",
       "      <td>94b5247e-5fff-4fb6-929d-a5c506a001e3</td>\n",
       "    </tr>\n",
       "  </tbody>\n",
       "</table>\n",
       "<p>809 rows × 9 columns</p>\n",
       "</div>"
      ],
      "text/plain": [
       "                    event_time event_type  product_id          category_id  \\\n",
       "331    2019-10-01 00:05:14 UTC       cart     5100816  2053013553375346967   \n",
       "583    2019-10-01 00:09:33 UTC       cart     1002524  2053013555631882655   \n",
       "680    2019-10-01 00:11:00 UTC       cart     4804056  2053013554658804075   \n",
       "1325   2019-10-01 02:17:59 UTC       cart     1004833  2053013555631882655   \n",
       "1654   2019-10-01 02:19:36 UTC       cart     1005003  2053013555631882655   \n",
       "...                        ...        ...         ...                  ...   \n",
       "99654  2019-10-01 04:28:06 UTC       cart     1002633  2053013555631882655   \n",
       "99693  2019-10-01 04:28:09 UTC       cart     5100337  2053013553341792533   \n",
       "99770  2019-10-01 04:28:13 UTC       cart     1003306  2053013555631882655   \n",
       "99938  2019-10-01 04:28:24 UTC       cart    10701101  2053013561277416167   \n",
       "99991  2019-10-01 04:28:27 UTC       cart     3700777  2053013565983425517   \n",
       "\n",
       "                       category_code    brand   price    user_id  \\\n",
       "331                              NaN   xiaomi   29.51  550121407   \n",
       "583           electronics.smartphone    apple  515.67  524325294   \n",
       "680      electronics.audio.headphone    apple  161.98  533624186   \n",
       "1325          electronics.smartphone  samsung  174.76  536415846   \n",
       "1654          electronics.smartphone   huawei  258.21  513632293   \n",
       "...                              ...      ...     ...        ...   \n",
       "99654         electronics.smartphone    apple  360.08  555312838   \n",
       "99693             electronics.clocks    apple  311.84  516278990   \n",
       "99770         electronics.smartphone    apple  587.56  520198210   \n",
       "99938                            NaN       ea   74.36  516373187   \n",
       "99991  appliances.environment.vacuum  samsung  164.71  555480250   \n",
       "\n",
       "                               user_session  \n",
       "331    6f623695-9581-4633-813f-825b8760c7ae  \n",
       "583    0b74a829-f9d7-4654-b5b0-35bc9822c238  \n",
       "680    e5ac3caa-e6d5-4d6b-ae06-2c18cd9ca683  \n",
       "1325   685b5b42-f597-4a69-ab4c-ef96a30bc454  \n",
       "1654   f2cc68f7-39d1-4a50-9dcf-f2a0921bdfda  \n",
       "...                                     ...  \n",
       "99654  2190dd63-7c53-4318-b4e4-bd7d33b36562  \n",
       "99693  acefd607-1a24-496c-a4b8-7e9097a71ddf  \n",
       "99770  d9e7c64a-3b27-4f13-9f6f-6e14c7817fef  \n",
       "99938  053aaee9-dff0-4414-bcef-3b67c1ef456a  \n",
       "99991  94b5247e-5fff-4fb6-929d-a5c506a001e3  \n",
       "\n",
       "[809 rows x 9 columns]"
      ]
     },
     "execution_count": 40,
     "metadata": {},
     "output_type": "execute_result"
    }
   ],
   "source": [
    "chunk_oct_cart_test"
   ]
  },
  {
   "cell_type": "code",
   "execution_count": 41,
   "metadata": {},
   "outputs": [
    {
     "data": {
      "text/html": [
       "<div>\n",
       "<style scoped>\n",
       "    .dataframe tbody tr th:only-of-type {\n",
       "        vertical-align: middle;\n",
       "    }\n",
       "\n",
       "    .dataframe tbody tr th {\n",
       "        vertical-align: top;\n",
       "    }\n",
       "\n",
       "    .dataframe thead th {\n",
       "        text-align: right;\n",
       "    }\n",
       "</style>\n",
       "<table border=\"1\" class=\"dataframe\">\n",
       "  <thead>\n",
       "    <tr style=\"text-align: right;\">\n",
       "      <th></th>\n",
       "      <th>event_time</th>\n",
       "      <th>event_type</th>\n",
       "      <th>product_id</th>\n",
       "      <th>category_id</th>\n",
       "      <th>category_code</th>\n",
       "      <th>brand</th>\n",
       "      <th>price</th>\n",
       "      <th>user_id</th>\n",
       "      <th>user_session</th>\n",
       "    </tr>\n",
       "  </thead>\n",
       "  <tbody>\n",
       "    <tr>\n",
       "      <th>0</th>\n",
       "      <td>2019-10-01 00:00:00 UTC</td>\n",
       "      <td>view</td>\n",
       "      <td>44600062</td>\n",
       "      <td>2103807459595387724</td>\n",
       "      <td>NaN</td>\n",
       "      <td>shiseido</td>\n",
       "      <td>35.79</td>\n",
       "      <td>541312140</td>\n",
       "      <td>72d76fde-8bb3-4e00-8c23-a032dfed738c</td>\n",
       "    </tr>\n",
       "    <tr>\n",
       "      <th>1</th>\n",
       "      <td>2019-10-01 00:00:00 UTC</td>\n",
       "      <td>view</td>\n",
       "      <td>3900821</td>\n",
       "      <td>2053013552326770905</td>\n",
       "      <td>appliances.environment.water_heater</td>\n",
       "      <td>aqua</td>\n",
       "      <td>33.20</td>\n",
       "      <td>554748717</td>\n",
       "      <td>9333dfbd-b87a-4708-9857-6336556b0fcc</td>\n",
       "    </tr>\n",
       "    <tr>\n",
       "      <th>2</th>\n",
       "      <td>2019-10-01 00:00:01 UTC</td>\n",
       "      <td>view</td>\n",
       "      <td>17200506</td>\n",
       "      <td>2053013559792632471</td>\n",
       "      <td>furniture.living_room.sofa</td>\n",
       "      <td>NaN</td>\n",
       "      <td>543.10</td>\n",
       "      <td>519107250</td>\n",
       "      <td>566511c2-e2e3-422b-b695-cf8e6e792ca8</td>\n",
       "    </tr>\n",
       "    <tr>\n",
       "      <th>3</th>\n",
       "      <td>2019-10-01 00:00:01 UTC</td>\n",
       "      <td>view</td>\n",
       "      <td>1307067</td>\n",
       "      <td>2053013558920217191</td>\n",
       "      <td>computers.notebook</td>\n",
       "      <td>lenovo</td>\n",
       "      <td>251.74</td>\n",
       "      <td>550050854</td>\n",
       "      <td>7c90fc70-0e80-4590-96f3-13c02c18c713</td>\n",
       "    </tr>\n",
       "    <tr>\n",
       "      <th>4</th>\n",
       "      <td>2019-10-01 00:00:04 UTC</td>\n",
       "      <td>view</td>\n",
       "      <td>1004237</td>\n",
       "      <td>2053013555631882655</td>\n",
       "      <td>electronics.smartphone</td>\n",
       "      <td>apple</td>\n",
       "      <td>1081.98</td>\n",
       "      <td>535871217</td>\n",
       "      <td>c6bd7419-2748-4c56-95b4-8cec9ff8b80d</td>\n",
       "    </tr>\n",
       "    <tr>\n",
       "      <th>...</th>\n",
       "      <td>...</td>\n",
       "      <td>...</td>\n",
       "      <td>...</td>\n",
       "      <td>...</td>\n",
       "      <td>...</td>\n",
       "      <td>...</td>\n",
       "      <td>...</td>\n",
       "      <td>...</td>\n",
       "      <td>...</td>\n",
       "    </tr>\n",
       "    <tr>\n",
       "      <th>99995</th>\n",
       "      <td>2019-10-01 04:28:27 UTC</td>\n",
       "      <td>view</td>\n",
       "      <td>17300136</td>\n",
       "      <td>2053013553853497655</td>\n",
       "      <td>NaN</td>\n",
       "      <td>montale</td>\n",
       "      <td>102.96</td>\n",
       "      <td>515593818</td>\n",
       "      <td>96d3640f-9d00-4b69-a4d8-ca581c1677d3</td>\n",
       "    </tr>\n",
       "    <tr>\n",
       "      <th>99996</th>\n",
       "      <td>2019-10-01 04:28:27 UTC</td>\n",
       "      <td>view</td>\n",
       "      <td>2601810</td>\n",
       "      <td>2053013563970159485</td>\n",
       "      <td>NaN</td>\n",
       "      <td>artel</td>\n",
       "      <td>155.29</td>\n",
       "      <td>530821477</td>\n",
       "      <td>0db770f5-225c-4e8d-9814-f045e4bfae87</td>\n",
       "    </tr>\n",
       "    <tr>\n",
       "      <th>99997</th>\n",
       "      <td>2019-10-01 04:28:27 UTC</td>\n",
       "      <td>view</td>\n",
       "      <td>1306100</td>\n",
       "      <td>2053013558920217191</td>\n",
       "      <td>computers.notebook</td>\n",
       "      <td>xiaomi</td>\n",
       "      <td>1029.60</td>\n",
       "      <td>521314335</td>\n",
       "      <td>405566fc-f660-4a7a-baed-1ba95feccbbf</td>\n",
       "    </tr>\n",
       "    <tr>\n",
       "      <th>99998</th>\n",
       "      <td>2019-10-01 04:28:27 UTC</td>\n",
       "      <td>view</td>\n",
       "      <td>3200549</td>\n",
       "      <td>2053013555321504139</td>\n",
       "      <td>appliances.kitchen.meat_grinder</td>\n",
       "      <td>dauscher</td>\n",
       "      <td>25.71</td>\n",
       "      <td>555131253</td>\n",
       "      <td>fca1ed2e-c91b-40e1-a95c-b4bfcd65b295</td>\n",
       "    </tr>\n",
       "    <tr>\n",
       "      <th>99999</th>\n",
       "      <td>2019-10-01 04:28:27 UTC</td>\n",
       "      <td>view</td>\n",
       "      <td>6200949</td>\n",
       "      <td>2053013552293216471</td>\n",
       "      <td>appliances.environment.air_heater</td>\n",
       "      <td>NaN</td>\n",
       "      <td>10.17</td>\n",
       "      <td>523211916</td>\n",
       "      <td>8d176f3e-a90e-48a1-ac13-760bc81a4583</td>\n",
       "    </tr>\n",
       "  </tbody>\n",
       "</table>\n",
       "<p>100000 rows × 9 columns</p>\n",
       "</div>"
      ],
      "text/plain": [
       "                    event_time event_type  product_id          category_id  \\\n",
       "0      2019-10-01 00:00:00 UTC       view    44600062  2103807459595387724   \n",
       "1      2019-10-01 00:00:00 UTC       view     3900821  2053013552326770905   \n",
       "2      2019-10-01 00:00:01 UTC       view    17200506  2053013559792632471   \n",
       "3      2019-10-01 00:00:01 UTC       view     1307067  2053013558920217191   \n",
       "4      2019-10-01 00:00:04 UTC       view     1004237  2053013555631882655   \n",
       "...                        ...        ...         ...                  ...   \n",
       "99995  2019-10-01 04:28:27 UTC       view    17300136  2053013553853497655   \n",
       "99996  2019-10-01 04:28:27 UTC       view     2601810  2053013563970159485   \n",
       "99997  2019-10-01 04:28:27 UTC       view     1306100  2053013558920217191   \n",
       "99998  2019-10-01 04:28:27 UTC       view     3200549  2053013555321504139   \n",
       "99999  2019-10-01 04:28:27 UTC       view     6200949  2053013552293216471   \n",
       "\n",
       "                             category_code     brand    price    user_id  \\\n",
       "0                                      NaN  shiseido    35.79  541312140   \n",
       "1      appliances.environment.water_heater      aqua    33.20  554748717   \n",
       "2               furniture.living_room.sofa       NaN   543.10  519107250   \n",
       "3                       computers.notebook    lenovo   251.74  550050854   \n",
       "4                   electronics.smartphone     apple  1081.98  535871217   \n",
       "...                                    ...       ...      ...        ...   \n",
       "99995                                  NaN   montale   102.96  515593818   \n",
       "99996                                  NaN     artel   155.29  530821477   \n",
       "99997                   computers.notebook    xiaomi  1029.60  521314335   \n",
       "99998      appliances.kitchen.meat_grinder  dauscher    25.71  555131253   \n",
       "99999    appliances.environment.air_heater       NaN    10.17  523211916   \n",
       "\n",
       "                               user_session  \n",
       "0      72d76fde-8bb3-4e00-8c23-a032dfed738c  \n",
       "1      9333dfbd-b87a-4708-9857-6336556b0fcc  \n",
       "2      566511c2-e2e3-422b-b695-cf8e6e792ca8  \n",
       "3      7c90fc70-0e80-4590-96f3-13c02c18c713  \n",
       "4      c6bd7419-2748-4c56-95b4-8cec9ff8b80d  \n",
       "...                                     ...  \n",
       "99995  96d3640f-9d00-4b69-a4d8-ca581c1677d3  \n",
       "99996  0db770f5-225c-4e8d-9814-f045e4bfae87  \n",
       "99997  405566fc-f660-4a7a-baed-1ba95feccbbf  \n",
       "99998  fca1ed2e-c91b-40e1-a95c-b4bfcd65b295  \n",
       "99999  8d176f3e-a90e-48a1-ac13-760bc81a4583  \n",
       "\n",
       "[100000 rows x 9 columns]"
      ]
     },
     "execution_count": 41,
     "metadata": {},
     "output_type": "execute_result"
    }
   ],
   "source": [
    "test_1"
   ]
  },
  {
   "cell_type": "code",
   "execution_count": 44,
   "metadata": {},
   "outputs": [],
   "source": [
    "views_df = df.merge(chunk_oct_cart, on=['product_id', 'user_id'], how='left')"
   ]
  },
  {
   "cell_type": "code",
   "execution_count": 45,
   "metadata": {},
   "outputs": [
    {
     "data": {
      "text/html": [
       "<div>\n",
       "<style scoped>\n",
       "    .dataframe tbody tr th:only-of-type {\n",
       "        vertical-align: middle;\n",
       "    }\n",
       "\n",
       "    .dataframe tbody tr th {\n",
       "        vertical-align: top;\n",
       "    }\n",
       "\n",
       "    .dataframe thead th {\n",
       "        text-align: right;\n",
       "    }\n",
       "</style>\n",
       "<table border=\"1\" class=\"dataframe\">\n",
       "  <thead>\n",
       "    <tr style=\"text-align: right;\">\n",
       "      <th></th>\n",
       "      <th>event_time_x</th>\n",
       "      <th>event_type_x</th>\n",
       "      <th>product_id</th>\n",
       "      <th>user_id</th>\n",
       "      <th>count</th>\n",
       "      <th>event_time_y</th>\n",
       "      <th>event_type_y</th>\n",
       "      <th>category_id</th>\n",
       "      <th>category_code</th>\n",
       "      <th>brand</th>\n",
       "      <th>price</th>\n",
       "      <th>user_session</th>\n",
       "    </tr>\n",
       "  </thead>\n",
       "  <tbody>\n",
       "    <tr>\n",
       "      <th>0</th>\n",
       "      <td>2019-10-01 00:00:00 UTC</td>\n",
       "      <td>view</td>\n",
       "      <td>44600062</td>\n",
       "      <td>541312140</td>\n",
       "      <td>0</td>\n",
       "      <td>NaN</td>\n",
       "      <td>NaN</td>\n",
       "      <td>NaN</td>\n",
       "      <td>NaN</td>\n",
       "      <td>NaN</td>\n",
       "      <td>NaN</td>\n",
       "      <td>NaN</td>\n",
       "    </tr>\n",
       "    <tr>\n",
       "      <th>1</th>\n",
       "      <td>2019-10-01 00:00:00 UTC</td>\n",
       "      <td>view</td>\n",
       "      <td>3900821</td>\n",
       "      <td>554748717</td>\n",
       "      <td>0</td>\n",
       "      <td>NaN</td>\n",
       "      <td>NaN</td>\n",
       "      <td>NaN</td>\n",
       "      <td>NaN</td>\n",
       "      <td>NaN</td>\n",
       "      <td>NaN</td>\n",
       "      <td>NaN</td>\n",
       "    </tr>\n",
       "    <tr>\n",
       "      <th>2</th>\n",
       "      <td>2019-10-01 00:00:01 UTC</td>\n",
       "      <td>view</td>\n",
       "      <td>17200506</td>\n",
       "      <td>519107250</td>\n",
       "      <td>0</td>\n",
       "      <td>NaN</td>\n",
       "      <td>NaN</td>\n",
       "      <td>NaN</td>\n",
       "      <td>NaN</td>\n",
       "      <td>NaN</td>\n",
       "      <td>NaN</td>\n",
       "      <td>NaN</td>\n",
       "    </tr>\n",
       "    <tr>\n",
       "      <th>3</th>\n",
       "      <td>2019-10-01 00:00:01 UTC</td>\n",
       "      <td>view</td>\n",
       "      <td>1307067</td>\n",
       "      <td>550050854</td>\n",
       "      <td>0</td>\n",
       "      <td>NaN</td>\n",
       "      <td>NaN</td>\n",
       "      <td>NaN</td>\n",
       "      <td>NaN</td>\n",
       "      <td>NaN</td>\n",
       "      <td>NaN</td>\n",
       "      <td>NaN</td>\n",
       "    </tr>\n",
       "    <tr>\n",
       "      <th>4</th>\n",
       "      <td>2019-10-01 00:00:04 UTC</td>\n",
       "      <td>view</td>\n",
       "      <td>1004237</td>\n",
       "      <td>535871217</td>\n",
       "      <td>0</td>\n",
       "      <td>NaN</td>\n",
       "      <td>NaN</td>\n",
       "      <td>NaN</td>\n",
       "      <td>NaN</td>\n",
       "      <td>NaN</td>\n",
       "      <td>NaN</td>\n",
       "      <td>NaN</td>\n",
       "    </tr>\n",
       "    <tr>\n",
       "      <th>...</th>\n",
       "      <td>...</td>\n",
       "      <td>...</td>\n",
       "      <td>...</td>\n",
       "      <td>...</td>\n",
       "      <td>...</td>\n",
       "      <td>...</td>\n",
       "      <td>...</td>\n",
       "      <td>...</td>\n",
       "      <td>...</td>\n",
       "      <td>...</td>\n",
       "      <td>...</td>\n",
       "      <td>...</td>\n",
       "    </tr>\n",
       "    <tr>\n",
       "      <th>99995</th>\n",
       "      <td>2019-10-01 04:28:27 UTC</td>\n",
       "      <td>view</td>\n",
       "      <td>17300136</td>\n",
       "      <td>515593818</td>\n",
       "      <td>0</td>\n",
       "      <td>NaN</td>\n",
       "      <td>NaN</td>\n",
       "      <td>NaN</td>\n",
       "      <td>NaN</td>\n",
       "      <td>NaN</td>\n",
       "      <td>NaN</td>\n",
       "      <td>NaN</td>\n",
       "    </tr>\n",
       "    <tr>\n",
       "      <th>99996</th>\n",
       "      <td>2019-10-01 04:28:27 UTC</td>\n",
       "      <td>view</td>\n",
       "      <td>2601810</td>\n",
       "      <td>530821477</td>\n",
       "      <td>0</td>\n",
       "      <td>NaN</td>\n",
       "      <td>NaN</td>\n",
       "      <td>NaN</td>\n",
       "      <td>NaN</td>\n",
       "      <td>NaN</td>\n",
       "      <td>NaN</td>\n",
       "      <td>NaN</td>\n",
       "    </tr>\n",
       "    <tr>\n",
       "      <th>99997</th>\n",
       "      <td>2019-10-01 04:28:27 UTC</td>\n",
       "      <td>view</td>\n",
       "      <td>1306100</td>\n",
       "      <td>521314335</td>\n",
       "      <td>0</td>\n",
       "      <td>NaN</td>\n",
       "      <td>NaN</td>\n",
       "      <td>NaN</td>\n",
       "      <td>NaN</td>\n",
       "      <td>NaN</td>\n",
       "      <td>NaN</td>\n",
       "      <td>NaN</td>\n",
       "    </tr>\n",
       "    <tr>\n",
       "      <th>99998</th>\n",
       "      <td>2019-10-01 04:28:27 UTC</td>\n",
       "      <td>view</td>\n",
       "      <td>3200549</td>\n",
       "      <td>555131253</td>\n",
       "      <td>0</td>\n",
       "      <td>NaN</td>\n",
       "      <td>NaN</td>\n",
       "      <td>NaN</td>\n",
       "      <td>NaN</td>\n",
       "      <td>NaN</td>\n",
       "      <td>NaN</td>\n",
       "      <td>NaN</td>\n",
       "    </tr>\n",
       "    <tr>\n",
       "      <th>99999</th>\n",
       "      <td>2019-10-01 04:28:27 UTC</td>\n",
       "      <td>view</td>\n",
       "      <td>6200949</td>\n",
       "      <td>523211916</td>\n",
       "      <td>0</td>\n",
       "      <td>NaN</td>\n",
       "      <td>NaN</td>\n",
       "      <td>NaN</td>\n",
       "      <td>NaN</td>\n",
       "      <td>NaN</td>\n",
       "      <td>NaN</td>\n",
       "      <td>NaN</td>\n",
       "    </tr>\n",
       "  </tbody>\n",
       "</table>\n",
       "<p>100000 rows × 12 columns</p>\n",
       "</div>"
      ],
      "text/plain": [
       "                  event_time_x event_type_x  product_id    user_id  count  \\\n",
       "0      2019-10-01 00:00:00 UTC         view    44600062  541312140      0   \n",
       "1      2019-10-01 00:00:00 UTC         view     3900821  554748717      0   \n",
       "2      2019-10-01 00:00:01 UTC         view    17200506  519107250      0   \n",
       "3      2019-10-01 00:00:01 UTC         view     1307067  550050854      0   \n",
       "4      2019-10-01 00:00:04 UTC         view     1004237  535871217      0   \n",
       "...                        ...          ...         ...        ...    ...   \n",
       "99995  2019-10-01 04:28:27 UTC         view    17300136  515593818      0   \n",
       "99996  2019-10-01 04:28:27 UTC         view     2601810  530821477      0   \n",
       "99997  2019-10-01 04:28:27 UTC         view     1306100  521314335      0   \n",
       "99998  2019-10-01 04:28:27 UTC         view     3200549  555131253      0   \n",
       "99999  2019-10-01 04:28:27 UTC         view     6200949  523211916      0   \n",
       "\n",
       "      event_time_y event_type_y  category_id category_code brand  price  \\\n",
       "0              NaN          NaN          NaN           NaN   NaN    NaN   \n",
       "1              NaN          NaN          NaN           NaN   NaN    NaN   \n",
       "2              NaN          NaN          NaN           NaN   NaN    NaN   \n",
       "3              NaN          NaN          NaN           NaN   NaN    NaN   \n",
       "4              NaN          NaN          NaN           NaN   NaN    NaN   \n",
       "...            ...          ...          ...           ...   ...    ...   \n",
       "99995          NaN          NaN          NaN           NaN   NaN    NaN   \n",
       "99996          NaN          NaN          NaN           NaN   NaN    NaN   \n",
       "99997          NaN          NaN          NaN           NaN   NaN    NaN   \n",
       "99998          NaN          NaN          NaN           NaN   NaN    NaN   \n",
       "99999          NaN          NaN          NaN           NaN   NaN    NaN   \n",
       "\n",
       "      user_session  \n",
       "0              NaN  \n",
       "1              NaN  \n",
       "2              NaN  \n",
       "3              NaN  \n",
       "4              NaN  \n",
       "...            ...  \n",
       "99995          NaN  \n",
       "99996          NaN  \n",
       "99997          NaN  \n",
       "99998          NaN  \n",
       "99999          NaN  \n",
       "\n",
       "[100000 rows x 12 columns]"
      ]
     },
     "execution_count": 45,
     "metadata": {},
     "output_type": "execute_result"
    }
   ],
   "source": [
    "views_df"
   ]
  },
  {
   "cell_type": "code",
   "execution_count": 46,
   "metadata": {},
   "outputs": [],
   "source": [
    "views_df = views_df[\n",
    "            (views_df['event_time_x'] < views_df['event_time_y']) & (views_df['event_type_x'] == 'view')]"
   ]
  },
  {
   "cell_type": "code",
   "execution_count": 47,
   "metadata": {},
   "outputs": [
    {
     "data": {
      "text/html": [
       "<div>\n",
       "<style scoped>\n",
       "    .dataframe tbody tr th:only-of-type {\n",
       "        vertical-align: middle;\n",
       "    }\n",
       "\n",
       "    .dataframe tbody tr th {\n",
       "        vertical-align: top;\n",
       "    }\n",
       "\n",
       "    .dataframe thead th {\n",
       "        text-align: right;\n",
       "    }\n",
       "</style>\n",
       "<table border=\"1\" class=\"dataframe\">\n",
       "  <thead>\n",
       "    <tr style=\"text-align: right;\">\n",
       "      <th></th>\n",
       "      <th>event_time_x</th>\n",
       "      <th>event_type_x</th>\n",
       "      <th>product_id</th>\n",
       "      <th>user_id</th>\n",
       "      <th>count</th>\n",
       "      <th>event_time_y</th>\n",
       "      <th>event_type_y</th>\n",
       "      <th>category_id</th>\n",
       "      <th>category_code</th>\n",
       "      <th>brand</th>\n",
       "      <th>price</th>\n",
       "      <th>user_session</th>\n",
       "    </tr>\n",
       "  </thead>\n",
       "  <tbody>\n",
       "    <tr>\n",
       "      <th>315</th>\n",
       "      <td>2019-10-01 00:04:47 UTC</td>\n",
       "      <td>view</td>\n",
       "      <td>5100816</td>\n",
       "      <td>550121407</td>\n",
       "      <td>0</td>\n",
       "      <td>2019-10-01 00:05:14 UTC</td>\n",
       "      <td>cart</td>\n",
       "      <td>2.053014e+18</td>\n",
       "      <td>NaN</td>\n",
       "      <td>xiaomi</td>\n",
       "      <td>29.51</td>\n",
       "      <td>6f623695-9581-4633-813f-825b8760c7ae</td>\n",
       "    </tr>\n",
       "    <tr>\n",
       "      <th>522</th>\n",
       "      <td>2019-10-01 00:08:50 UTC</td>\n",
       "      <td>view</td>\n",
       "      <td>1002524</td>\n",
       "      <td>524325294</td>\n",
       "      <td>0</td>\n",
       "      <td>2019-10-01 00:09:33 UTC</td>\n",
       "      <td>cart</td>\n",
       "      <td>2.053014e+18</td>\n",
       "      <td>electronics.smartphone</td>\n",
       "      <td>apple</td>\n",
       "      <td>515.67</td>\n",
       "      <td>0b74a829-f9d7-4654-b5b0-35bc9822c238</td>\n",
       "    </tr>\n",
       "    <tr>\n",
       "      <th>537</th>\n",
       "      <td>2019-10-01 00:09:01 UTC</td>\n",
       "      <td>view</td>\n",
       "      <td>1004767</td>\n",
       "      <td>543624132</td>\n",
       "      <td>0</td>\n",
       "      <td>2019-10-01 03:21:12 UTC</td>\n",
       "      <td>cart</td>\n",
       "      <td>2.053014e+18</td>\n",
       "      <td>electronics.smartphone</td>\n",
       "      <td>samsung</td>\n",
       "      <td>254.76</td>\n",
       "      <td>6f298f7e-2552-4aaf-95a8-80e07b2ca34c</td>\n",
       "    </tr>\n",
       "    <tr>\n",
       "      <th>634</th>\n",
       "      <td>2019-10-01 00:10:22 UTC</td>\n",
       "      <td>view</td>\n",
       "      <td>4804056</td>\n",
       "      <td>533624186</td>\n",
       "      <td>0</td>\n",
       "      <td>2019-10-01 00:11:00 UTC</td>\n",
       "      <td>cart</td>\n",
       "      <td>2.053014e+18</td>\n",
       "      <td>electronics.audio.headphone</td>\n",
       "      <td>apple</td>\n",
       "      <td>161.98</td>\n",
       "      <td>e5ac3caa-e6d5-4d6b-ae06-2c18cd9ca683</td>\n",
       "    </tr>\n",
       "    <tr>\n",
       "      <th>649</th>\n",
       "      <td>2019-10-01 00:10:37 UTC</td>\n",
       "      <td>view</td>\n",
       "      <td>1004767</td>\n",
       "      <td>543624132</td>\n",
       "      <td>0</td>\n",
       "      <td>2019-10-01 03:21:12 UTC</td>\n",
       "      <td>cart</td>\n",
       "      <td>2.053014e+18</td>\n",
       "      <td>electronics.smartphone</td>\n",
       "      <td>samsung</td>\n",
       "      <td>254.76</td>\n",
       "      <td>6f298f7e-2552-4aaf-95a8-80e07b2ca34c</td>\n",
       "    </tr>\n",
       "    <tr>\n",
       "      <th>...</th>\n",
       "      <td>...</td>\n",
       "      <td>...</td>\n",
       "      <td>...</td>\n",
       "      <td>...</td>\n",
       "      <td>...</td>\n",
       "      <td>...</td>\n",
       "      <td>...</td>\n",
       "      <td>...</td>\n",
       "      <td>...</td>\n",
       "      <td>...</td>\n",
       "      <td>...</td>\n",
       "      <td>...</td>\n",
       "    </tr>\n",
       "    <tr>\n",
       "      <th>99222</th>\n",
       "      <td>2019-10-01 04:27:40 UTC</td>\n",
       "      <td>view</td>\n",
       "      <td>1004904</td>\n",
       "      <td>536561197</td>\n",
       "      <td>0</td>\n",
       "      <td>2019-10-01 04:28:01 UTC</td>\n",
       "      <td>cart</td>\n",
       "      <td>2.053014e+18</td>\n",
       "      <td>electronics.smartphone</td>\n",
       "      <td>huawei</td>\n",
       "      <td>110.34</td>\n",
       "      <td>65ca1cea-cf63-4533-9981-78c06fc5b45d</td>\n",
       "    </tr>\n",
       "    <tr>\n",
       "      <th>99399</th>\n",
       "      <td>2019-10-01 04:27:51 UTC</td>\n",
       "      <td>view</td>\n",
       "      <td>1004856</td>\n",
       "      <td>522114084</td>\n",
       "      <td>0</td>\n",
       "      <td>2019-10-01 04:28:00 UTC</td>\n",
       "      <td>cart</td>\n",
       "      <td>2.053014e+18</td>\n",
       "      <td>electronics.smartphone</td>\n",
       "      <td>samsung</td>\n",
       "      <td>130.76</td>\n",
       "      <td>f28ecda4-c118-4c51-9f7f-2b1b84b11975</td>\n",
       "    </tr>\n",
       "    <tr>\n",
       "      <th>99515</th>\n",
       "      <td>2019-10-01 04:27:57 UTC</td>\n",
       "      <td>view</td>\n",
       "      <td>5100337</td>\n",
       "      <td>516278990</td>\n",
       "      <td>0</td>\n",
       "      <td>2019-10-01 04:28:09 UTC</td>\n",
       "      <td>cart</td>\n",
       "      <td>2.053014e+18</td>\n",
       "      <td>electronics.clocks</td>\n",
       "      <td>apple</td>\n",
       "      <td>311.84</td>\n",
       "      <td>acefd607-1a24-496c-a4b8-7e9097a71ddf</td>\n",
       "    </tr>\n",
       "    <tr>\n",
       "      <th>99578</th>\n",
       "      <td>2019-10-01 04:28:01 UTC</td>\n",
       "      <td>view</td>\n",
       "      <td>1003306</td>\n",
       "      <td>520198210</td>\n",
       "      <td>0</td>\n",
       "      <td>2019-10-01 04:28:13 UTC</td>\n",
       "      <td>cart</td>\n",
       "      <td>2.053014e+18</td>\n",
       "      <td>electronics.smartphone</td>\n",
       "      <td>apple</td>\n",
       "      <td>587.56</td>\n",
       "      <td>d9e7c64a-3b27-4f13-9f6f-6e14c7817fef</td>\n",
       "    </tr>\n",
       "    <tr>\n",
       "      <th>99848</th>\n",
       "      <td>2019-10-01 04:28:18 UTC</td>\n",
       "      <td>view</td>\n",
       "      <td>3700777</td>\n",
       "      <td>555480250</td>\n",
       "      <td>0</td>\n",
       "      <td>2019-10-01 04:28:27 UTC</td>\n",
       "      <td>cart</td>\n",
       "      <td>2.053014e+18</td>\n",
       "      <td>appliances.environment.vacuum</td>\n",
       "      <td>samsung</td>\n",
       "      <td>164.71</td>\n",
       "      <td>94b5247e-5fff-4fb6-929d-a5c506a001e3</td>\n",
       "    </tr>\n",
       "  </tbody>\n",
       "</table>\n",
       "<p>1389 rows × 12 columns</p>\n",
       "</div>"
      ],
      "text/plain": [
       "                  event_time_x event_type_x  product_id    user_id  count  \\\n",
       "315    2019-10-01 00:04:47 UTC         view     5100816  550121407      0   \n",
       "522    2019-10-01 00:08:50 UTC         view     1002524  524325294      0   \n",
       "537    2019-10-01 00:09:01 UTC         view     1004767  543624132      0   \n",
       "634    2019-10-01 00:10:22 UTC         view     4804056  533624186      0   \n",
       "649    2019-10-01 00:10:37 UTC         view     1004767  543624132      0   \n",
       "...                        ...          ...         ...        ...    ...   \n",
       "99222  2019-10-01 04:27:40 UTC         view     1004904  536561197      0   \n",
       "99399  2019-10-01 04:27:51 UTC         view     1004856  522114084      0   \n",
       "99515  2019-10-01 04:27:57 UTC         view     5100337  516278990      0   \n",
       "99578  2019-10-01 04:28:01 UTC         view     1003306  520198210      0   \n",
       "99848  2019-10-01 04:28:18 UTC         view     3700777  555480250      0   \n",
       "\n",
       "                  event_time_y event_type_y   category_id  \\\n",
       "315    2019-10-01 00:05:14 UTC         cart  2.053014e+18   \n",
       "522    2019-10-01 00:09:33 UTC         cart  2.053014e+18   \n",
       "537    2019-10-01 03:21:12 UTC         cart  2.053014e+18   \n",
       "634    2019-10-01 00:11:00 UTC         cart  2.053014e+18   \n",
       "649    2019-10-01 03:21:12 UTC         cart  2.053014e+18   \n",
       "...                        ...          ...           ...   \n",
       "99222  2019-10-01 04:28:01 UTC         cart  2.053014e+18   \n",
       "99399  2019-10-01 04:28:00 UTC         cart  2.053014e+18   \n",
       "99515  2019-10-01 04:28:09 UTC         cart  2.053014e+18   \n",
       "99578  2019-10-01 04:28:13 UTC         cart  2.053014e+18   \n",
       "99848  2019-10-01 04:28:27 UTC         cart  2.053014e+18   \n",
       "\n",
       "                       category_code    brand   price  \\\n",
       "315                              NaN   xiaomi   29.51   \n",
       "522           electronics.smartphone    apple  515.67   \n",
       "537           electronics.smartphone  samsung  254.76   \n",
       "634      electronics.audio.headphone    apple  161.98   \n",
       "649           electronics.smartphone  samsung  254.76   \n",
       "...                              ...      ...     ...   \n",
       "99222         electronics.smartphone   huawei  110.34   \n",
       "99399         electronics.smartphone  samsung  130.76   \n",
       "99515             electronics.clocks    apple  311.84   \n",
       "99578         electronics.smartphone    apple  587.56   \n",
       "99848  appliances.environment.vacuum  samsung  164.71   \n",
       "\n",
       "                               user_session  \n",
       "315    6f623695-9581-4633-813f-825b8760c7ae  \n",
       "522    0b74a829-f9d7-4654-b5b0-35bc9822c238  \n",
       "537    6f298f7e-2552-4aaf-95a8-80e07b2ca34c  \n",
       "634    e5ac3caa-e6d5-4d6b-ae06-2c18cd9ca683  \n",
       "649    6f298f7e-2552-4aaf-95a8-80e07b2ca34c  \n",
       "...                                     ...  \n",
       "99222  65ca1cea-cf63-4533-9981-78c06fc5b45d  \n",
       "99399  f28ecda4-c118-4c51-9f7f-2b1b84b11975  \n",
       "99515  acefd607-1a24-496c-a4b8-7e9097a71ddf  \n",
       "99578  d9e7c64a-3b27-4f13-9f6f-6e14c7817fef  \n",
       "99848  94b5247e-5fff-4fb6-929d-a5c506a001e3  \n",
       "\n",
       "[1389 rows x 12 columns]"
      ]
     },
     "execution_count": 47,
     "metadata": {},
     "output_type": "execute_result"
    }
   ],
   "source": [
    "views_df"
   ]
  },
  {
   "cell_type": "code",
   "execution_count": 48,
   "metadata": {},
   "outputs": [],
   "source": [
    "views_df = views_df.groupby(['product_id', 'user_id'])['event_time_x'].count().reset_index(name='count')"
   ]
  },
  {
   "cell_type": "code",
   "execution_count": 49,
   "metadata": {},
   "outputs": [
    {
     "data": {
      "text/html": [
       "<div>\n",
       "<style scoped>\n",
       "    .dataframe tbody tr th:only-of-type {\n",
       "        vertical-align: middle;\n",
       "    }\n",
       "\n",
       "    .dataframe tbody tr th {\n",
       "        vertical-align: top;\n",
       "    }\n",
       "\n",
       "    .dataframe thead th {\n",
       "        text-align: right;\n",
       "    }\n",
       "</style>\n",
       "<table border=\"1\" class=\"dataframe\">\n",
       "  <thead>\n",
       "    <tr style=\"text-align: right;\">\n",
       "      <th></th>\n",
       "      <th>product_id</th>\n",
       "      <th>user_id</th>\n",
       "      <th>count</th>\n",
       "    </tr>\n",
       "  </thead>\n",
       "  <tbody>\n",
       "    <tr>\n",
       "      <th>0</th>\n",
       "      <td>1002524</td>\n",
       "      <td>513337407</td>\n",
       "      <td>1</td>\n",
       "    </tr>\n",
       "    <tr>\n",
       "      <th>1</th>\n",
       "      <td>1002524</td>\n",
       "      <td>513425953</td>\n",
       "      <td>2</td>\n",
       "    </tr>\n",
       "    <tr>\n",
       "      <th>2</th>\n",
       "      <td>1002524</td>\n",
       "      <td>513658784</td>\n",
       "      <td>1</td>\n",
       "    </tr>\n",
       "    <tr>\n",
       "      <th>3</th>\n",
       "      <td>1002524</td>\n",
       "      <td>516197015</td>\n",
       "      <td>1</td>\n",
       "    </tr>\n",
       "    <tr>\n",
       "      <th>4</th>\n",
       "      <td>1002524</td>\n",
       "      <td>519255635</td>\n",
       "      <td>1</td>\n",
       "    </tr>\n",
       "    <tr>\n",
       "      <th>...</th>\n",
       "      <td>...</td>\n",
       "      <td>...</td>\n",
       "      <td>...</td>\n",
       "    </tr>\n",
       "    <tr>\n",
       "      <th>802</th>\n",
       "      <td>19200010</td>\n",
       "      <td>515421686</td>\n",
       "      <td>6</td>\n",
       "    </tr>\n",
       "    <tr>\n",
       "      <th>803</th>\n",
       "      <td>22700067</td>\n",
       "      <td>515594530</td>\n",
       "      <td>1</td>\n",
       "    </tr>\n",
       "    <tr>\n",
       "      <th>804</th>\n",
       "      <td>22700128</td>\n",
       "      <td>512978283</td>\n",
       "      <td>2</td>\n",
       "    </tr>\n",
       "    <tr>\n",
       "      <th>805</th>\n",
       "      <td>25200003</td>\n",
       "      <td>515861618</td>\n",
       "      <td>2</td>\n",
       "    </tr>\n",
       "    <tr>\n",
       "      <th>806</th>\n",
       "      <td>47800004</td>\n",
       "      <td>555474056</td>\n",
       "      <td>4</td>\n",
       "    </tr>\n",
       "  </tbody>\n",
       "</table>\n",
       "<p>807 rows × 3 columns</p>\n",
       "</div>"
      ],
      "text/plain": [
       "     product_id    user_id  count\n",
       "0       1002524  513337407      1\n",
       "1       1002524  513425953      2\n",
       "2       1002524  513658784      1\n",
       "3       1002524  516197015      1\n",
       "4       1002524  519255635      1\n",
       "..          ...        ...    ...\n",
       "802    19200010  515421686      6\n",
       "803    22700067  515594530      1\n",
       "804    22700128  512978283      2\n",
       "805    25200003  515861618      2\n",
       "806    47800004  555474056      4\n",
       "\n",
       "[807 rows x 3 columns]"
      ]
     },
     "execution_count": 49,
     "metadata": {},
     "output_type": "execute_result"
    }
   ],
   "source": [
    "views_df"
   ]
  },
  {
   "cell_type": "code",
   "execution_count": 55,
   "metadata": {},
   "outputs": [],
   "source": [
    "sum_chunk = pd.concat([views_df, chunk_oct_cart]).groupby(['product_id', 'user_id']).sum().reset_index()"
   ]
  },
  {
   "cell_type": "code",
   "execution_count": 65,
   "metadata": {},
   "outputs": [],
   "source": [
    "cart_chunk = sum_chunk.merge(chunk_oct_cart, on=['product_id', 'user_id'], how='left')\n",
    "#cart_chunk.rename(columns={'count_x': 'count'}, inplace=True)\n",
    "#cart_chunk.drop('count_y', inplace=True, axis=1)"
   ]
  },
  {
   "cell_type": "code",
   "execution_count": 66,
   "metadata": {},
   "outputs": [
    {
     "data": {
      "text/html": [
       "<div>\n",
       "<style scoped>\n",
       "    .dataframe tbody tr th:only-of-type {\n",
       "        vertical-align: middle;\n",
       "    }\n",
       "\n",
       "    .dataframe tbody tr th {\n",
       "        vertical-align: top;\n",
       "    }\n",
       "\n",
       "    .dataframe thead th {\n",
       "        text-align: right;\n",
       "    }\n",
       "</style>\n",
       "<table border=\"1\" class=\"dataframe\">\n",
       "  <thead>\n",
       "    <tr style=\"text-align: right;\">\n",
       "      <th></th>\n",
       "      <th>product_id</th>\n",
       "      <th>user_id</th>\n",
       "      <th>count</th>\n",
       "      <th>category_id_x</th>\n",
       "      <th>price_x</th>\n",
       "      <th>event_time</th>\n",
       "      <th>event_type</th>\n",
       "      <th>category_id_y</th>\n",
       "      <th>category_code</th>\n",
       "      <th>brand</th>\n",
       "      <th>price_y</th>\n",
       "      <th>user_session</th>\n",
       "    </tr>\n",
       "  </thead>\n",
       "  <tbody>\n",
       "    <tr>\n",
       "      <th>0</th>\n",
       "      <td>1002524</td>\n",
       "      <td>513337407</td>\n",
       "      <td>1.0</td>\n",
       "      <td>2.053014e+18</td>\n",
       "      <td>514.76</td>\n",
       "      <td>2019-10-01 03:38:45 UTC</td>\n",
       "      <td>cart</td>\n",
       "      <td>2053013555631882655</td>\n",
       "      <td>electronics.smartphone</td>\n",
       "      <td>apple</td>\n",
       "      <td>514.76</td>\n",
       "      <td>caf94e5a-cf89-41db-b2f6-b6eba2d887a4</td>\n",
       "    </tr>\n",
       "    <tr>\n",
       "      <th>1</th>\n",
       "      <td>1002524</td>\n",
       "      <td>513425953</td>\n",
       "      <td>2.0</td>\n",
       "      <td>2.053014e+18</td>\n",
       "      <td>514.76</td>\n",
       "      <td>2019-10-01 04:24:55 UTC</td>\n",
       "      <td>cart</td>\n",
       "      <td>2053013555631882655</td>\n",
       "      <td>electronics.smartphone</td>\n",
       "      <td>apple</td>\n",
       "      <td>514.76</td>\n",
       "      <td>45094ac9-953b-460d-9b48-8f97885fe52e</td>\n",
       "    </tr>\n",
       "    <tr>\n",
       "      <th>2</th>\n",
       "      <td>1002524</td>\n",
       "      <td>513658784</td>\n",
       "      <td>1.0</td>\n",
       "      <td>2.053014e+18</td>\n",
       "      <td>514.76</td>\n",
       "      <td>2019-10-01 03:18:26 UTC</td>\n",
       "      <td>cart</td>\n",
       "      <td>2053013555631882655</td>\n",
       "      <td>electronics.smartphone</td>\n",
       "      <td>apple</td>\n",
       "      <td>514.76</td>\n",
       "      <td>cb824820-c037-4824-9d75-f7f23fa8e3ce</td>\n",
       "    </tr>\n",
       "    <tr>\n",
       "      <th>3</th>\n",
       "      <td>1002524</td>\n",
       "      <td>516197015</td>\n",
       "      <td>1.0</td>\n",
       "      <td>2.053014e+18</td>\n",
       "      <td>514.76</td>\n",
       "      <td>2019-10-01 03:20:38 UTC</td>\n",
       "      <td>cart</td>\n",
       "      <td>2053013555631882655</td>\n",
       "      <td>electronics.smartphone</td>\n",
       "      <td>apple</td>\n",
       "      <td>514.76</td>\n",
       "      <td>5a8163d0-a714-4368-818c-1a94c6a9a942</td>\n",
       "    </tr>\n",
       "    <tr>\n",
       "      <th>4</th>\n",
       "      <td>1002524</td>\n",
       "      <td>519255635</td>\n",
       "      <td>1.0</td>\n",
       "      <td>2.053014e+18</td>\n",
       "      <td>515.67</td>\n",
       "      <td>2019-10-01 02:52:51 UTC</td>\n",
       "      <td>cart</td>\n",
       "      <td>2053013555631882655</td>\n",
       "      <td>electronics.smartphone</td>\n",
       "      <td>apple</td>\n",
       "      <td>515.67</td>\n",
       "      <td>d0a8ea56-b55e-4103-862c-36b6d7c89c6e</td>\n",
       "    </tr>\n",
       "    <tr>\n",
       "      <th>...</th>\n",
       "      <td>...</td>\n",
       "      <td>...</td>\n",
       "      <td>...</td>\n",
       "      <td>...</td>\n",
       "      <td>...</td>\n",
       "      <td>...</td>\n",
       "      <td>...</td>\n",
       "      <td>...</td>\n",
       "      <td>...</td>\n",
       "      <td>...</td>\n",
       "      <td>...</td>\n",
       "      <td>...</td>\n",
       "    </tr>\n",
       "    <tr>\n",
       "      <th>804</th>\n",
       "      <td>19200010</td>\n",
       "      <td>515421686</td>\n",
       "      <td>6.0</td>\n",
       "      <td>2.053014e+18</td>\n",
       "      <td>84.66</td>\n",
       "      <td>2019-10-01 03:26:48 UTC</td>\n",
       "      <td>cart</td>\n",
       "      <td>2053013556202308035</td>\n",
       "      <td>construction.tools.saw</td>\n",
       "      <td>huter</td>\n",
       "      <td>84.66</td>\n",
       "      <td>7358f8f5-0b51-4cfa-b5b2-a25a90abc60c</td>\n",
       "    </tr>\n",
       "    <tr>\n",
       "      <th>805</th>\n",
       "      <td>22700067</td>\n",
       "      <td>515594530</td>\n",
       "      <td>1.0</td>\n",
       "      <td>2.053014e+18</td>\n",
       "      <td>86.23</td>\n",
       "      <td>2019-10-01 04:18:35 UTC</td>\n",
       "      <td>cart</td>\n",
       "      <td>2053013556168753601</td>\n",
       "      <td>NaN</td>\n",
       "      <td>force</td>\n",
       "      <td>86.23</td>\n",
       "      <td>03db4024-0706-4071-99be-6cc0354b2535</td>\n",
       "    </tr>\n",
       "    <tr>\n",
       "      <th>806</th>\n",
       "      <td>22700128</td>\n",
       "      <td>512978283</td>\n",
       "      <td>2.0</td>\n",
       "      <td>2.053014e+18</td>\n",
       "      <td>69.24</td>\n",
       "      <td>2019-10-01 04:23:27 UTC</td>\n",
       "      <td>cart</td>\n",
       "      <td>2053013556168753601</td>\n",
       "      <td>NaN</td>\n",
       "      <td>stels</td>\n",
       "      <td>69.24</td>\n",
       "      <td>0b6b58a3-4839-41b3-88ef-8d5c3c726cdb</td>\n",
       "    </tr>\n",
       "    <tr>\n",
       "      <th>807</th>\n",
       "      <td>25200003</td>\n",
       "      <td>515861618</td>\n",
       "      <td>2.0</td>\n",
       "      <td>2.053014e+18</td>\n",
       "      <td>7.47</td>\n",
       "      <td>2019-10-01 04:07:14 UTC</td>\n",
       "      <td>cart</td>\n",
       "      <td>2053013562082722579</td>\n",
       "      <td>NaN</td>\n",
       "      <td>NaN</td>\n",
       "      <td>7.47</td>\n",
       "      <td>da37b307-c838-40a0-8817-e8efc8bf1279</td>\n",
       "    </tr>\n",
       "    <tr>\n",
       "      <th>808</th>\n",
       "      <td>47800004</td>\n",
       "      <td>555474056</td>\n",
       "      <td>4.0</td>\n",
       "      <td>2.127425e+18</td>\n",
       "      <td>123.12</td>\n",
       "      <td>2019-10-01 03:45:18 UTC</td>\n",
       "      <td>cart</td>\n",
       "      <td>2127425439776375330</td>\n",
       "      <td>NaN</td>\n",
       "      <td>bosch</td>\n",
       "      <td>123.12</td>\n",
       "      <td>b84b33bf-71b4-4db4-80d3-37b777e9ce3b</td>\n",
       "    </tr>\n",
       "  </tbody>\n",
       "</table>\n",
       "<p>809 rows × 12 columns</p>\n",
       "</div>"
      ],
      "text/plain": [
       "     product_id    user_id  count  category_id_x  price_x  \\\n",
       "0       1002524  513337407    1.0   2.053014e+18   514.76   \n",
       "1       1002524  513425953    2.0   2.053014e+18   514.76   \n",
       "2       1002524  513658784    1.0   2.053014e+18   514.76   \n",
       "3       1002524  516197015    1.0   2.053014e+18   514.76   \n",
       "4       1002524  519255635    1.0   2.053014e+18   515.67   \n",
       "..          ...        ...    ...            ...      ...   \n",
       "804    19200010  515421686    6.0   2.053014e+18    84.66   \n",
       "805    22700067  515594530    1.0   2.053014e+18    86.23   \n",
       "806    22700128  512978283    2.0   2.053014e+18    69.24   \n",
       "807    25200003  515861618    2.0   2.053014e+18     7.47   \n",
       "808    47800004  555474056    4.0   2.127425e+18   123.12   \n",
       "\n",
       "                  event_time event_type        category_id_y  \\\n",
       "0    2019-10-01 03:38:45 UTC       cart  2053013555631882655   \n",
       "1    2019-10-01 04:24:55 UTC       cart  2053013555631882655   \n",
       "2    2019-10-01 03:18:26 UTC       cart  2053013555631882655   \n",
       "3    2019-10-01 03:20:38 UTC       cart  2053013555631882655   \n",
       "4    2019-10-01 02:52:51 UTC       cart  2053013555631882655   \n",
       "..                       ...        ...                  ...   \n",
       "804  2019-10-01 03:26:48 UTC       cart  2053013556202308035   \n",
       "805  2019-10-01 04:18:35 UTC       cart  2053013556168753601   \n",
       "806  2019-10-01 04:23:27 UTC       cart  2053013556168753601   \n",
       "807  2019-10-01 04:07:14 UTC       cart  2053013562082722579   \n",
       "808  2019-10-01 03:45:18 UTC       cart  2127425439776375330   \n",
       "\n",
       "              category_code  brand  price_y  \\\n",
       "0    electronics.smartphone  apple   514.76   \n",
       "1    electronics.smartphone  apple   514.76   \n",
       "2    electronics.smartphone  apple   514.76   \n",
       "3    electronics.smartphone  apple   514.76   \n",
       "4    electronics.smartphone  apple   515.67   \n",
       "..                      ...    ...      ...   \n",
       "804  construction.tools.saw  huter    84.66   \n",
       "805                     NaN  force    86.23   \n",
       "806                     NaN  stels    69.24   \n",
       "807                     NaN    NaN     7.47   \n",
       "808                     NaN  bosch   123.12   \n",
       "\n",
       "                             user_session  \n",
       "0    caf94e5a-cf89-41db-b2f6-b6eba2d887a4  \n",
       "1    45094ac9-953b-460d-9b48-8f97885fe52e  \n",
       "2    cb824820-c037-4824-9d75-f7f23fa8e3ce  \n",
       "3    5a8163d0-a714-4368-818c-1a94c6a9a942  \n",
       "4    d0a8ea56-b55e-4103-862c-36b6d7c89c6e  \n",
       "..                                    ...  \n",
       "804  7358f8f5-0b51-4cfa-b5b2-a25a90abc60c  \n",
       "805  03db4024-0706-4071-99be-6cc0354b2535  \n",
       "806  0b6b58a3-4839-41b3-88ef-8d5c3c726cdb  \n",
       "807  da37b307-c838-40a0-8817-e8efc8bf1279  \n",
       "808  b84b33bf-71b4-4db4-80d3-37b777e9ce3b  \n",
       "\n",
       "[809 rows x 12 columns]"
      ]
     },
     "execution_count": 66,
     "metadata": {},
     "output_type": "execute_result"
    }
   ],
   "source": [
    "cart_chunk"
   ]
  },
  {
   "cell_type": "code",
   "execution_count": 73,
   "metadata": {},
   "outputs": [
    {
     "data": {
      "text/plain": [
       "(array([527., 145.,  70.,  25.,  20.,   6.,   3.,   4.,   2.,   2.,   3.]),\n",
       " array([ 1,  2,  3,  4,  5,  6,  7,  8,  9, 10, 11, 12]),\n",
       " <BarContainer object of 11 artists>)"
      ]
     },
     "execution_count": 73,
     "metadata": {},
     "output_type": "execute_result"
    },
    {
     "data": {
      "image/png": "[encoded data removed]",
      "text/plain": [
       "<Figure size 432x288 with 1 Axes>"
      ]
     },
     "metadata": {
      "needs_background": "light"
     },
     "output_type": "display_data"
    }
   ],
   "source": [
    "import numpy as np\n",
    "plt.hist(cart_chunk['count'], bins=np.array([1, 2, 3, 4, 5, 6, 7, 8, 9, 10, 11, 12]), width=0.8)"
   ]
  },
  {
   "cell_type": "code",
   "execution_count": 74,
   "metadata": {},
   "outputs": [
    {
     "data": {
      "text/plain": [
       "array([ 0,  1,  2,  3,  4,  5,  6,  7,  8,  9, 10, 11, 12, 13, 14, 15, 16,\n",
       "       17, 18, 19, 20, 21, 22, 23, 24])"
      ]
     },
     "execution_count": 74,
     "metadata": {},
     "output_type": "execute_result"
    }
   ],
   "source": [
    "np.arange(0, 25, 1)"
   ]
  },
  {
   "cell_type": "code",
   "execution_count": null,
   "metadata": {},
   "outputs": [],
   "source": []
  }
 ],
 "metadata": {
  "kernelspec": {
   "display_name": "Python 3",
   "language": "python",
   "name": "python3"
  },
  "language_info": {
   "codemirror_mode": {
    "name": "ipython",
    "version": 3
   },
   "file_extension": ".py",
   "mimetype": "text/x-python",
   "name": "python",
   "nbconvert_exporter": "python",
   "pygments_lexer": "ipython3",
   "version": "3.7.9"
  }
 },
 "nbformat": 4,
 "nbformat_minor": 2
}
