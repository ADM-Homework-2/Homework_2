{
 "cells": [
  {
   "cell_type": "markdown",
   "metadata": {},
   "source": [
    "## Homework 2\n",
    "\n",
    "###### Guidelines to be followed (we can discuss and adjust of course, but to be consistent in the way we code)\n",
    "\n",
    "- Jupyter Notebook should **not contain too much code** (the less code is stored here the better since it makes things much clearer)\n",
    "- Pure code should be stored in **seperate .py files** (easier to review and better for version control)\n",
    "- Lets try to **comment** everything we do from the beginning so that we don't have to do this boring and annoying work at the end\n",
    "- Every time we have the chance of **plotting** some information lets try to do it (data visualisation is very important)"
   ]
  },
  {
   "cell_type": "markdown",
   "metadata": {},
   "source": [
    "#### Some useful data set information\n",
    "\n",
    "- Each row represents an event. There are several different types of events however:\n",
    "    - **View**: A user viewed a product\n",
    "    - **Cart**: A user added a product to a shopping cart\n",
    "    - **Removefromcart**: A user removed a product from the shopping cart\n",
    "    - **Purchase**: A user purchased a product\n",
    "    \n",
    "    \n",
    "- A typical funnel of a client would be (leading to 3 different rows in the dataset: view >> cart >> purchase)\n",
    "\n",
    "\n",
    "- **event_time**: Time of the event\n",
    "- **event_type**: Event type (see above for event types)\n",
    "- **product_id**: Unique identifier of product\n",
    "- **category_id**: Category ID of product\n",
    "- **category_code**: Code of category. If product is not a relevant one the category code is left empty (meaningfull missing)\n",
    "- **brand**: Brand of product (can be missing, I guess this is not a meaningful missing)\n",
    "- **price**: Float price of product\n",
    "- **user_id**: Unique identifier of user\n",
    "- **user_session**: Unique identifier of user session (1 *user_id* can have several *user_session* over time)\n",
    "\n",
    "\n",
    "- **Example**: User with *userid* during session *usersession* added to shopping cart (*eventtype == cart*) the product *productid* of the brand *brand* of category *categorycode* with a given *price* at a given *event_time* \n",
    "\n",
    "\n",
    "**Some useful info**\n",
    "\n",
    "1. Price is unique by product_id and event_time\n",
    "    - y =full_data_set.groupby([full_data_set.event_time, full_data_set.product_id]).price.nunique()\n",
    "    - len(y) == y.sum()"
   ]
  },
  {
   "cell_type": "code",
   "execution_count": 4,
   "metadata": {},
   "outputs": [],
   "source": [
    "%load_ext autoreload\n",
    "%autoreload 2"
   ]
  },
  {
   "cell_type": "markdown",
   "metadata": {},
   "source": [
    "#### Import library and files"
   ]
  },
  {
   "cell_type": "code",
   "execution_count": 5,
   "metadata": {},
   "outputs": [],
   "source": [
    "import pickle\n",
    "import pandas as pd\n",
    "import functionality_new as funcs"
   ]
  },
  {
   "cell_type": "markdown",
   "metadata": {},
   "source": [
    "## Research Question 1\n",
    "\n",
    "A marketing funnel describes your customer’s journey with your e-commerce. It may involve different stages, beginning when someone learns about your business, when he/she visits your website for the first time, to the purchasing stage, marketing funnels map routes to conversion and beyond. Suppose your funnel involves just three simple steps: 1) view, 2) cart, 3) purchase. Which is the rate of complete funnels?\n",
    "- What’s the operation users repeat more on average within a session? Produce a plot that shows the average number of times users perform each operation (view/removefromchart etc etc).\n",
    "- How many times, on average, a user views a product before adding it to the cart?\n",
    "- What’s the probability that products added once to the cart are effectively bought?\n",
    "- What’s the average time an item stays in the cart before being removed?\n",
    "- How much time passes on average between the first view time and a purchase/addition to cart?\n",
    "\n",
    "\n",
    "**Comments**:\n",
    "\n",
    "Zhibek\n"
   ]
  },
  {
   "cell_type": "markdown",
   "metadata": {},
   "source": [
    "Before getting into the specific questions we would like to highlight some interesting observations we have done on the data (data issues) and discuss how we are planning to overcome/treat them:\n",
    "\n",
    "a. The Funnel is not necesarilly view>>cart>>purchase. A user can view a product and buy it without having to put it into the cart. No action needed for this point but it is good to keep in mind when reviewing final results."
   ]
  },
  {
   "cell_type": "code",
   "execution_count": 4,
   "metadata": {},
   "outputs": [
    {
     "data": {
      "text/plain": [
       "user_id    user_session                          event_type\n",
       "356520186  3e3403b6-2a19-4a1d-aef2-ee4dce0dc943  purchase       1\n",
       "                                                 view           5\n",
       "           ad1e4257-71ec-4638-b31d-9fa4033ae155  view           1\n",
       "384989212  27923ca4-99d6-4652-acad-c4fd270ef902  cart           1\n",
       "                                                 view           8\n",
       "386070015  49d03116-3c95-4e13-8b9c-e3be97551fe8  cart           1\n",
       "                                                 view           4\n",
       "393619196  17de28bd-0182-44c0-8a19-5d5b8c07d60e  view           3\n",
       "           ed5d037e-be8c-4c94-a8b3-ec881eecdb33  cart           2\n",
       "                                                 view           2\n",
       "397023870  85566778-28dd-439e-958f-a5c972133c3e  purchase       1\n",
       "                                                 view           3\n",
       "440756116  c31bc5b7-e14d-463c-89b0-594688e4e69d  purchase       1\n",
       "                                                 view           3\n",
       "441259588  69e19a80-b184-4008-ad62-a3902cd1aecf  cart           1\n",
       "                                                 view           3\n",
       "451971397  c88ccdb0-0ad9-4e46-bd76-8f8b66a883e6  purchase       1\n",
       "                                                 view           2\n",
       "452859779  26c299bd-c40c-4313-bcf8-cc1c043b8bce  view           1\n",
       "           89a5daf1-fce8-43e7-98b2-733e7d902ca0  cart           2\n",
       "                                                 view           2\n",
       "           ba21fc2e-35b4-3957-7020-f90130565e4a  view           2\n",
       "           d4ca3ebd-d0a9-4577-9381-4b5b3b4012b5  view           1\n",
       "453705583  bec3e7a6-d147-4bf1-aec1-339687cb610d  view           5\n",
       "           dc39c7d7-6ac9-4a8e-92f5-be0af095db2d  purchase       1\n",
       "                                                 view           2\n",
       "457360398  b7360dbb-427a-428b-a4fb-1f8872884d4d  purchase       1\n",
       "                                                 view          13\n",
       "458819598  3ff820f8-b33d-4420-811c-352410738b32  cart           1\n",
       "                                                 view           1\n",
       "                                                               ..\n",
       "566483480  cd8d8309-370f-4e59-8078-6812189cdd2d  purchase       2\n",
       "                                                 view          10\n",
       "566483720  d7b7c8b0-57df-4f4c-afbe-de8a8665476b  cart           2\n",
       "                                                 purchase       2\n",
       "                                                 view           2\n",
       "566483878  22c21cd1-f817-4324-b6bf-d6bfcf4223e7  cart           1\n",
       "                                                 purchase       1\n",
       "                                                 view           2\n",
       "566484022  37e994cc-0bbb-4924-bf94-87ba456b916a  purchase       2\n",
       "                                                 view           4\n",
       "566484442  201643e8-412e-4409-87ae-9a3a50ae8a79  purchase       1\n",
       "                                                 view           1\n",
       "566484444  2e35cee8-8750-411e-9e77-c7eb9bc0a2e9  cart           1\n",
       "                                                 purchase       1\n",
       "                                                 view           4\n",
       "566485087  75971094-048d-4157-ae0e-185debc1e781  cart           1\n",
       "                                                 purchase       1\n",
       "                                                 view           3\n",
       "566485261  83da6f09-6322-4fea-b7cc-864b9ca8e004  cart           1\n",
       "                                                 view           2\n",
       "566485747  fdc8c16c-476e-4307-84ca-11f497e14cac  cart           1\n",
       "                                                 view           1\n",
       "566485990  61cd82c3-7f82-4b3b-8b53-c78472c2d40c  cart           1\n",
       "                                                 view           5\n",
       "566486093  33f17d48-7b39-4f8b-a139-8b4ebdb0611b  cart           4\n",
       "                                                 view           1\n",
       "566486717  6bfaec0d-2534-458f-915c-9b91ab188e15  cart           1\n",
       "                                                 view           3\n",
       "566487488  34f85f3e-b1dd-4575-8829-7c6af259adbd  cart           1\n",
       "                                                 view           2\n",
       "Name: price, Length: 104455, dtype: int64"
      ]
     },
     "execution_count": 4,
     "metadata": {},
     "output_type": "execute_result"
    }
   ],
   "source": [
    "funcs.customer_journey_funnel(full_data_set)"
   ]
  },
  {
   "cell_type": "markdown",
   "metadata": {},
   "source": [
    "b. We have observed that for unique user_sessions we can have different user_ids. We consider this to be an issue on the user_id value since the event_time in general seem to be very close to each other (we consider it hard that in seconds a person is able to change user_id while still having the same user_session). Since we have not found a clear pattern on how to fix this issue we will ignore it for now (also since the amount of cases in which this occurs is almost insignificant)"
   ]
  },
  {
   "cell_type": "code",
   "execution_count": 12,
   "metadata": {},
   "outputs": [
    {
     "name": "stdout",
     "output_type": "stream",
     "text": [
      "The percentage of errors is: 0.005392925156310565  %\n"
     ]
    },
    {
     "data": {
      "text/html": [
       "<div>\n",
       "<style scoped>\n",
       "    .dataframe tbody tr th:only-of-type {\n",
       "        vertical-align: middle;\n",
       "    }\n",
       "\n",
       "    .dataframe tbody tr th {\n",
       "        vertical-align: top;\n",
       "    }\n",
       "\n",
       "    .dataframe thead th {\n",
       "        text-align: right;\n",
       "    }\n",
       "</style>\n",
       "<table border=\"1\" class=\"dataframe\">\n",
       "  <thead>\n",
       "    <tr style=\"text-align: right;\">\n",
       "      <th></th>\n",
       "      <th>event_time</th>\n",
       "      <th>event_type</th>\n",
       "      <th>product_id</th>\n",
       "      <th>category_id</th>\n",
       "      <th>category_code</th>\n",
       "      <th>brand</th>\n",
       "      <th>price</th>\n",
       "      <th>user_id</th>\n",
       "      <th>user_session</th>\n",
       "    </tr>\n",
       "  </thead>\n",
       "  <tbody>\n",
       "    <tr>\n",
       "      <th>4750</th>\n",
       "      <td>2019-10-01 02:27:45 UTC</td>\n",
       "      <td>view</td>\n",
       "      <td>10300637</td>\n",
       "      <td>2053013553115300101</td>\n",
       "      <td>NaN</td>\n",
       "      <td>silverlit</td>\n",
       "      <td>14.39</td>\n",
       "      <td>555463297</td>\n",
       "      <td>2759bd71-1333-4348-816d-c02912f6ebd4</td>\n",
       "    </tr>\n",
       "    <tr>\n",
       "      <th>5094</th>\n",
       "      <td>2019-10-01 02:28:27 UTC</td>\n",
       "      <td>view</td>\n",
       "      <td>10301026</td>\n",
       "      <td>2053013553115300101</td>\n",
       "      <td>NaN</td>\n",
       "      <td>silverlit</td>\n",
       "      <td>11.56</td>\n",
       "      <td>555463292</td>\n",
       "      <td>2759bd71-1333-4348-816d-c02912f6ebd4</td>\n",
       "    </tr>\n",
       "    <tr>\n",
       "      <th>155769</th>\n",
       "      <td>2019-10-01 05:26:28 UTC</td>\n",
       "      <td>view</td>\n",
       "      <td>4100138</td>\n",
       "      <td>2053013561218695907</td>\n",
       "      <td>NaN</td>\n",
       "      <td>sony</td>\n",
       "      <td>413.91</td>\n",
       "      <td>555496461</td>\n",
       "      <td>e5fa54c1-935b-41e1-bb95-06fd18cad496</td>\n",
       "    </tr>\n",
       "    <tr>\n",
       "      <th>167383</th>\n",
       "      <td>2019-10-01 05:37:04 UTC</td>\n",
       "      <td>view</td>\n",
       "      <td>4100346</td>\n",
       "      <td>2053013561218695907</td>\n",
       "      <td>NaN</td>\n",
       "      <td>sony</td>\n",
       "      <td>391.00</td>\n",
       "      <td>523810456</td>\n",
       "      <td>e5fa54c1-935b-41e1-bb95-06fd18cad496</td>\n",
       "    </tr>\n",
       "    <tr>\n",
       "      <th>434366</th>\n",
       "      <td>2019-10-01 09:24:58 UTC</td>\n",
       "      <td>view</td>\n",
       "      <td>1002629</td>\n",
       "      <td>2053013555631882655</td>\n",
       "      <td>electronics.smartphone</td>\n",
       "      <td>apple</td>\n",
       "      <td>377.09</td>\n",
       "      <td>555565912</td>\n",
       "      <td>fa8092eb-7df8-4bcd-866a-3b2b8eeafea5</td>\n",
       "    </tr>\n",
       "    <tr>\n",
       "      <th>434800</th>\n",
       "      <td>2019-10-01 09:25:20 UTC</td>\n",
       "      <td>view</td>\n",
       "      <td>1002628</td>\n",
       "      <td>2053013555631882655</td>\n",
       "      <td>electronics.smartphone</td>\n",
       "      <td>apple</td>\n",
       "      <td>397.95</td>\n",
       "      <td>555565910</td>\n",
       "      <td>fa8092eb-7df8-4bcd-866a-3b2b8eeafea5</td>\n",
       "    </tr>\n",
       "    <tr>\n",
       "      <th>435235</th>\n",
       "      <td>2019-10-01 09:25:43 UTC</td>\n",
       "      <td>view</td>\n",
       "      <td>1002629</td>\n",
       "      <td>2053013555631882655</td>\n",
       "      <td>electronics.smartphone</td>\n",
       "      <td>apple</td>\n",
       "      <td>377.09</td>\n",
       "      <td>555565910</td>\n",
       "      <td>fa8092eb-7df8-4bcd-866a-3b2b8eeafea5</td>\n",
       "    </tr>\n",
       "    <tr>\n",
       "      <th>435468</th>\n",
       "      <td>2019-10-01 09:25:55 UTC</td>\n",
       "      <td>view</td>\n",
       "      <td>1002629</td>\n",
       "      <td>2053013555631882655</td>\n",
       "      <td>electronics.smartphone</td>\n",
       "      <td>apple</td>\n",
       "      <td>377.09</td>\n",
       "      <td>555565910</td>\n",
       "      <td>fa8092eb-7df8-4bcd-866a-3b2b8eeafea5</td>\n",
       "    </tr>\n",
       "    <tr>\n",
       "      <th>435552</th>\n",
       "      <td>2019-10-01 09:25:59 UTC</td>\n",
       "      <td>view</td>\n",
       "      <td>1002629</td>\n",
       "      <td>2053013555631882655</td>\n",
       "      <td>electronics.smartphone</td>\n",
       "      <td>apple</td>\n",
       "      <td>377.09</td>\n",
       "      <td>555565910</td>\n",
       "      <td>fa8092eb-7df8-4bcd-866a-3b2b8eeafea5</td>\n",
       "    </tr>\n",
       "    <tr>\n",
       "      <th>451234</th>\n",
       "      <td>2019-10-01 09:39:11 UTC</td>\n",
       "      <td>view</td>\n",
       "      <td>1004249</td>\n",
       "      <td>2053013555631882655</td>\n",
       "      <td>electronics.smartphone</td>\n",
       "      <td>apple</td>\n",
       "      <td>738.39</td>\n",
       "      <td>555570137</td>\n",
       "      <td>42a39e3a-1ed6-40db-be9c-b21182f3dbc3</td>\n",
       "    </tr>\n",
       "    <tr>\n",
       "      <th>451429</th>\n",
       "      <td>2019-10-01 09:39:21 UTC</td>\n",
       "      <td>view</td>\n",
       "      <td>1004258</td>\n",
       "      <td>2053013555631882655</td>\n",
       "      <td>electronics.smartphone</td>\n",
       "      <td>apple</td>\n",
       "      <td>733.81</td>\n",
       "      <td>555570137</td>\n",
       "      <td>42a39e3a-1ed6-40db-be9c-b21182f3dbc3</td>\n",
       "    </tr>\n",
       "    <tr>\n",
       "      <th>452019</th>\n",
       "      <td>2019-10-01 09:39:49 UTC</td>\n",
       "      <td>view</td>\n",
       "      <td>1004251</td>\n",
       "      <td>2053013555631882655</td>\n",
       "      <td>electronics.smartphone</td>\n",
       "      <td>apple</td>\n",
       "      <td>1052.54</td>\n",
       "      <td>555570137</td>\n",
       "      <td>42a39e3a-1ed6-40db-be9c-b21182f3dbc3</td>\n",
       "    </tr>\n",
       "    <tr>\n",
       "      <th>454817</th>\n",
       "      <td>2019-10-01 09:42:12 UTC</td>\n",
       "      <td>view</td>\n",
       "      <td>1004741</td>\n",
       "      <td>2053013555631882655</td>\n",
       "      <td>electronics.smartphone</td>\n",
       "      <td>xiaomi</td>\n",
       "      <td>185.70</td>\n",
       "      <td>522543493</td>\n",
       "      <td>42a39e3a-1ed6-40db-be9c-b21182f3dbc3</td>\n",
       "    </tr>\n",
       "    <tr>\n",
       "      <th>703145</th>\n",
       "      <td>2019-10-01 13:32:20 UTC</td>\n",
       "      <td>view</td>\n",
       "      <td>5100734</td>\n",
       "      <td>2053013553341792533</td>\n",
       "      <td>electronics.clocks</td>\n",
       "      <td>garmin</td>\n",
       "      <td>741.95</td>\n",
       "      <td>555646524</td>\n",
       "      <td>abe2e6a7-cf72-4486-8df2-3d214c154641</td>\n",
       "    </tr>\n",
       "    <tr>\n",
       "      <th>703212</th>\n",
       "      <td>2019-10-01 13:32:23 UTC</td>\n",
       "      <td>view</td>\n",
       "      <td>5100734</td>\n",
       "      <td>2053013553341792533</td>\n",
       "      <td>electronics.clocks</td>\n",
       "      <td>garmin</td>\n",
       "      <td>741.95</td>\n",
       "      <td>555646521</td>\n",
       "      <td>abe2e6a7-cf72-4486-8df2-3d214c154641</td>\n",
       "    </tr>\n",
       "    <tr>\n",
       "      <th>706193</th>\n",
       "      <td>2019-10-01 13:35:05 UTC</td>\n",
       "      <td>view</td>\n",
       "      <td>17500580</td>\n",
       "      <td>2053013558752445019</td>\n",
       "      <td>NaN</td>\n",
       "      <td>vichy</td>\n",
       "      <td>19.56</td>\n",
       "      <td>555647373</td>\n",
       "      <td>4e5bce7c-2aaa-41ae-8f22-5833c73db4b9</td>\n",
       "    </tr>\n",
       "    <tr>\n",
       "      <th>706314</th>\n",
       "      <td>2019-10-01 13:35:11 UTC</td>\n",
       "      <td>view</td>\n",
       "      <td>17500580</td>\n",
       "      <td>2053013558752445019</td>\n",
       "      <td>NaN</td>\n",
       "      <td>vichy</td>\n",
       "      <td>19.56</td>\n",
       "      <td>555647373</td>\n",
       "      <td>4e5bce7c-2aaa-41ae-8f22-5833c73db4b9</td>\n",
       "    </tr>\n",
       "    <tr>\n",
       "      <th>706384</th>\n",
       "      <td>2019-10-01 13:35:16 UTC</td>\n",
       "      <td>view</td>\n",
       "      <td>17500580</td>\n",
       "      <td>2053013558752445019</td>\n",
       "      <td>NaN</td>\n",
       "      <td>vichy</td>\n",
       "      <td>19.56</td>\n",
       "      <td>555647373</td>\n",
       "      <td>4e5bce7c-2aaa-41ae-8f22-5833c73db4b9</td>\n",
       "    </tr>\n",
       "    <tr>\n",
       "      <th>707011</th>\n",
       "      <td>2019-10-01 13:35:49 UTC</td>\n",
       "      <td>view</td>\n",
       "      <td>17600847</td>\n",
       "      <td>2053013558895051365</td>\n",
       "      <td>NaN</td>\n",
       "      <td>NaN</td>\n",
       "      <td>12.79</td>\n",
       "      <td>549704086</td>\n",
       "      <td>4e5bce7c-2aaa-41ae-8f22-5833c73db4b9</td>\n",
       "    </tr>\n",
       "    <tr>\n",
       "      <th>726952</th>\n",
       "      <td>2019-10-01 13:53:14 UTC</td>\n",
       "      <td>view</td>\n",
       "      <td>24300291</td>\n",
       "      <td>2053013563248739153</td>\n",
       "      <td>NaN</td>\n",
       "      <td>NaN</td>\n",
       "      <td>9.91</td>\n",
       "      <td>555653405</td>\n",
       "      <td>ca20bf64-8cf6-4754-ac8b-982ecad33a01</td>\n",
       "    </tr>\n",
       "    <tr>\n",
       "      <th>730022</th>\n",
       "      <td>2019-10-01 13:55:54 UTC</td>\n",
       "      <td>view</td>\n",
       "      <td>29500016</td>\n",
       "      <td>2053013566478352393</td>\n",
       "      <td>NaN</td>\n",
       "      <td>NaN</td>\n",
       "      <td>34.88</td>\n",
       "      <td>555653406</td>\n",
       "      <td>ca20bf64-8cf6-4754-ac8b-982ecad33a01</td>\n",
       "    </tr>\n",
       "    <tr>\n",
       "      <th>734275</th>\n",
       "      <td>2019-10-01 13:59:30 UTC</td>\n",
       "      <td>view</td>\n",
       "      <td>24300291</td>\n",
       "      <td>2053013563248739153</td>\n",
       "      <td>NaN</td>\n",
       "      <td>NaN</td>\n",
       "      <td>9.91</td>\n",
       "      <td>555653406</td>\n",
       "      <td>ca20bf64-8cf6-4754-ac8b-982ecad33a01</td>\n",
       "    </tr>\n",
       "    <tr>\n",
       "      <th>734646</th>\n",
       "      <td>2019-10-01 13:59:48 UTC</td>\n",
       "      <td>view</td>\n",
       "      <td>24300291</td>\n",
       "      <td>2053013563248739153</td>\n",
       "      <td>NaN</td>\n",
       "      <td>NaN</td>\n",
       "      <td>9.91</td>\n",
       "      <td>555653406</td>\n",
       "      <td>ca20bf64-8cf6-4754-ac8b-982ecad33a01</td>\n",
       "    </tr>\n",
       "    <tr>\n",
       "      <th>800678</th>\n",
       "      <td>2019-10-01 14:50:47 UTC</td>\n",
       "      <td>view</td>\n",
       "      <td>13201084</td>\n",
       "      <td>2053013557192163841</td>\n",
       "      <td>furniture.bedroom.bed</td>\n",
       "      <td>NaN</td>\n",
       "      <td>120.98</td>\n",
       "      <td>555673684</td>\n",
       "      <td>cfdaad50-33ec-4f00-b1e3-6a45ffe8b9e3</td>\n",
       "    </tr>\n",
       "    <tr>\n",
       "      <th>800790</th>\n",
       "      <td>2019-10-01 14:50:51 UTC</td>\n",
       "      <td>view</td>\n",
       "      <td>13201084</td>\n",
       "      <td>2053013557192163841</td>\n",
       "      <td>furniture.bedroom.bed</td>\n",
       "      <td>NaN</td>\n",
       "      <td>120.98</td>\n",
       "      <td>555673684</td>\n",
       "      <td>cfdaad50-33ec-4f00-b1e3-6a45ffe8b9e3</td>\n",
       "    </tr>\n",
       "    <tr>\n",
       "      <th>801955</th>\n",
       "      <td>2019-10-01 14:51:40 UTC</td>\n",
       "      <td>view</td>\n",
       "      <td>13201084</td>\n",
       "      <td>2053013557192163841</td>\n",
       "      <td>furniture.bedroom.bed</td>\n",
       "      <td>NaN</td>\n",
       "      <td>120.98</td>\n",
       "      <td>555673684</td>\n",
       "      <td>cfdaad50-33ec-4f00-b1e3-6a45ffe8b9e3</td>\n",
       "    </tr>\n",
       "    <tr>\n",
       "      <th>804120</th>\n",
       "      <td>2019-10-01 14:53:11 UTC</td>\n",
       "      <td>view</td>\n",
       "      <td>13201084</td>\n",
       "      <td>2053013557192163841</td>\n",
       "      <td>furniture.bedroom.bed</td>\n",
       "      <td>NaN</td>\n",
       "      <td>120.98</td>\n",
       "      <td>555673684</td>\n",
       "      <td>cfdaad50-33ec-4f00-b1e3-6a45ffe8b9e3</td>\n",
       "    </tr>\n",
       "    <tr>\n",
       "      <th>825917</th>\n",
       "      <td>2019-10-01 15:08:36 UTC</td>\n",
       "      <td>view</td>\n",
       "      <td>15100108</td>\n",
       "      <td>2053013557024391671</td>\n",
       "      <td>NaN</td>\n",
       "      <td>NaN</td>\n",
       "      <td>610.05</td>\n",
       "      <td>541407982</td>\n",
       "      <td>cfdaad50-33ec-4f00-b1e3-6a45ffe8b9e3</td>\n",
       "    </tr>\n",
       "    <tr>\n",
       "      <th>36486</th>\n",
       "      <td>2019-11-01 02:24:36 UTC</td>\n",
       "      <td>view</td>\n",
       "      <td>16000004</td>\n",
       "      <td>2053013558223962683</td>\n",
       "      <td>NaN</td>\n",
       "      <td>rondell</td>\n",
       "      <td>43.73</td>\n",
       "      <td>566297299</td>\n",
       "      <td>12e26d31-741d-417c-8c84-05691a459df6</td>\n",
       "    </tr>\n",
       "    <tr>\n",
       "      <th>36511</th>\n",
       "      <td>2019-11-01 02:24:39 UTC</td>\n",
       "      <td>view</td>\n",
       "      <td>16000004</td>\n",
       "      <td>2053013558223962683</td>\n",
       "      <td>NaN</td>\n",
       "      <td>rondell</td>\n",
       "      <td>43.73</td>\n",
       "      <td>566297298</td>\n",
       "      <td>12e26d31-741d-417c-8c84-05691a459df6</td>\n",
       "    </tr>\n",
       "    <tr>\n",
       "      <th>40808</th>\n",
       "      <td>2019-11-01 02:32:39 UTC</td>\n",
       "      <td>view</td>\n",
       "      <td>1005105</td>\n",
       "      <td>2053013555631882655</td>\n",
       "      <td>electronics.smartphone</td>\n",
       "      <td>apple</td>\n",
       "      <td>1348.61</td>\n",
       "      <td>566298327</td>\n",
       "      <td>de17f9c9-a05e-4437-bf7f-941072782b7d</td>\n",
       "    </tr>\n",
       "    <tr>\n",
       "      <th>40906</th>\n",
       "      <td>2019-11-01 02:32:51 UTC</td>\n",
       "      <td>view</td>\n",
       "      <td>1005105</td>\n",
       "      <td>2053013555631882655</td>\n",
       "      <td>electronics.smartphone</td>\n",
       "      <td>apple</td>\n",
       "      <td>1348.61</td>\n",
       "      <td>566298326</td>\n",
       "      <td>de17f9c9-a05e-4437-bf7f-941072782b7d</td>\n",
       "    </tr>\n",
       "    <tr>\n",
       "      <th>70955</th>\n",
       "      <td>2019-11-01 03:18:36 UTC</td>\n",
       "      <td>view</td>\n",
       "      <td>5100337</td>\n",
       "      <td>2053013553341792533</td>\n",
       "      <td>electronics.clocks</td>\n",
       "      <td>apple</td>\n",
       "      <td>317.67</td>\n",
       "      <td>566304499</td>\n",
       "      <td>7ada9013-8fff-433a-9158-77e86ef9b34b</td>\n",
       "    </tr>\n",
       "    <tr>\n",
       "      <th>75030</th>\n",
       "      <td>2019-11-01 03:23:41 UTC</td>\n",
       "      <td>view</td>\n",
       "      <td>5100337</td>\n",
       "      <td>2053013553341792533</td>\n",
       "      <td>electronics.clocks</td>\n",
       "      <td>apple</td>\n",
       "      <td>317.67</td>\n",
       "      <td>566304500</td>\n",
       "      <td>7ada9013-8fff-433a-9158-77e86ef9b34b</td>\n",
       "    </tr>\n",
       "    <tr>\n",
       "      <th>107503</th>\n",
       "      <td>2019-11-01 04:00:51 UTC</td>\n",
       "      <td>view</td>\n",
       "      <td>12713372</td>\n",
       "      <td>2053013553559896355</td>\n",
       "      <td>NaN</td>\n",
       "      <td>yokohama</td>\n",
       "      <td>110.92</td>\n",
       "      <td>566311298</td>\n",
       "      <td>1c3f95b4-a294-4e51-b409-bad9023fc8c7</td>\n",
       "    </tr>\n",
       "    <tr>\n",
       "      <th>108629</th>\n",
       "      <td>2019-11-01 04:02:13 UTC</td>\n",
       "      <td>view</td>\n",
       "      <td>12713372</td>\n",
       "      <td>2053013553559896355</td>\n",
       "      <td>NaN</td>\n",
       "      <td>yokohama</td>\n",
       "      <td>110.92</td>\n",
       "      <td>566311297</td>\n",
       "      <td>1c3f95b4-a294-4e51-b409-bad9023fc8c7</td>\n",
       "    </tr>\n",
       "    <tr>\n",
       "      <th>149718</th>\n",
       "      <td>2019-11-01 04:42:47 UTC</td>\n",
       "      <td>view</td>\n",
       "      <td>26401889</td>\n",
       "      <td>2053013563651392361</td>\n",
       "      <td>NaN</td>\n",
       "      <td>NaN</td>\n",
       "      <td>643.52</td>\n",
       "      <td>566318874</td>\n",
       "      <td>55add671-8de1-42bf-a230-49f26a0c4dbb</td>\n",
       "    </tr>\n",
       "    <tr>\n",
       "      <th>151248</th>\n",
       "      <td>2019-11-01 04:44:13 UTC</td>\n",
       "      <td>view</td>\n",
       "      <td>26402838</td>\n",
       "      <td>2053013563651392361</td>\n",
       "      <td>NaN</td>\n",
       "      <td>sokolov</td>\n",
       "      <td>495.77</td>\n",
       "      <td>566318875</td>\n",
       "      <td>55add671-8de1-42bf-a230-49f26a0c4dbb</td>\n",
       "    </tr>\n",
       "    <tr>\n",
       "      <th>152545</th>\n",
       "      <td>2019-11-01 04:45:23 UTC</td>\n",
       "      <td>view</td>\n",
       "      <td>26401889</td>\n",
       "      <td>2053013563651392361</td>\n",
       "      <td>NaN</td>\n",
       "      <td>NaN</td>\n",
       "      <td>643.52</td>\n",
       "      <td>566318875</td>\n",
       "      <td>55add671-8de1-42bf-a230-49f26a0c4dbb</td>\n",
       "    </tr>\n",
       "    <tr>\n",
       "      <th>153228</th>\n",
       "      <td>2019-11-01 04:46:00 UTC</td>\n",
       "      <td>view</td>\n",
       "      <td>26402838</td>\n",
       "      <td>2053013563651392361</td>\n",
       "      <td>NaN</td>\n",
       "      <td>sokolov</td>\n",
       "      <td>495.77</td>\n",
       "      <td>566318875</td>\n",
       "      <td>55add671-8de1-42bf-a230-49f26a0c4dbb</td>\n",
       "    </tr>\n",
       "    <tr>\n",
       "      <th>153762</th>\n",
       "      <td>2019-11-01 04:46:30 UTC</td>\n",
       "      <td>view</td>\n",
       "      <td>26401889</td>\n",
       "      <td>2053013563651392361</td>\n",
       "      <td>NaN</td>\n",
       "      <td>NaN</td>\n",
       "      <td>643.52</td>\n",
       "      <td>566318875</td>\n",
       "      <td>55add671-8de1-42bf-a230-49f26a0c4dbb</td>\n",
       "    </tr>\n",
       "    <tr>\n",
       "      <th>574596</th>\n",
       "      <td>2019-11-01 10:16:31 UTC</td>\n",
       "      <td>view</td>\n",
       "      <td>10504251</td>\n",
       "      <td>2053013553199186187</td>\n",
       "      <td>NaN</td>\n",
       "      <td>evriki</td>\n",
       "      <td>25.09</td>\n",
       "      <td>566412197</td>\n",
       "      <td>f0ac9236-a5a3-4b73-8ba0-7bd79bb3302c</td>\n",
       "    </tr>\n",
       "    <tr>\n",
       "      <th>574676</th>\n",
       "      <td>2019-11-01 10:16:35 UTC</td>\n",
       "      <td>view</td>\n",
       "      <td>10504251</td>\n",
       "      <td>2053013553199186187</td>\n",
       "      <td>NaN</td>\n",
       "      <td>evriki</td>\n",
       "      <td>25.09</td>\n",
       "      <td>566412196</td>\n",
       "      <td>f0ac9236-a5a3-4b73-8ba0-7bd79bb3302c</td>\n",
       "    </tr>\n",
       "    <tr>\n",
       "      <th>596129</th>\n",
       "      <td>2019-11-01 10:33:48 UTC</td>\n",
       "      <td>view</td>\n",
       "      <td>8901168</td>\n",
       "      <td>2053013553090134275</td>\n",
       "      <td>kids.toys</td>\n",
       "      <td>NaN</td>\n",
       "      <td>23.14</td>\n",
       "      <td>566417510</td>\n",
       "      <td>d512be27-a4f6-4545-b922-664f350af7e8</td>\n",
       "    </tr>\n",
       "    <tr>\n",
       "      <th>596188</th>\n",
       "      <td>2019-11-01 10:33:51 UTC</td>\n",
       "      <td>view</td>\n",
       "      <td>8901168</td>\n",
       "      <td>2053013553090134275</td>\n",
       "      <td>kids.toys</td>\n",
       "      <td>NaN</td>\n",
       "      <td>23.14</td>\n",
       "      <td>566417508</td>\n",
       "      <td>d512be27-a4f6-4545-b922-664f350af7e8</td>\n",
       "    </tr>\n",
       "    <tr>\n",
       "      <th>596280</th>\n",
       "      <td>2019-11-01 10:33:56 UTC</td>\n",
       "      <td>view</td>\n",
       "      <td>8901168</td>\n",
       "      <td>2053013553090134275</td>\n",
       "      <td>kids.toys</td>\n",
       "      <td>NaN</td>\n",
       "      <td>23.14</td>\n",
       "      <td>566417508</td>\n",
       "      <td>d512be27-a4f6-4545-b922-664f350af7e8</td>\n",
       "    </tr>\n",
       "    <tr>\n",
       "      <th>800526</th>\n",
       "      <td>2019-11-01 13:20:43 UTC</td>\n",
       "      <td>view</td>\n",
       "      <td>1003306</td>\n",
       "      <td>2053013555631882655</td>\n",
       "      <td>electronics.smartphone</td>\n",
       "      <td>apple</td>\n",
       "      <td>577.31</td>\n",
       "      <td>566468284</td>\n",
       "      <td>fb64d29b-6a82-4603-8ab2-381b080f5ce2</td>\n",
       "    </tr>\n",
       "    <tr>\n",
       "      <th>800655</th>\n",
       "      <td>2019-11-01 13:20:49 UTC</td>\n",
       "      <td>view</td>\n",
       "      <td>1003306</td>\n",
       "      <td>2053013555631882655</td>\n",
       "      <td>electronics.smartphone</td>\n",
       "      <td>apple</td>\n",
       "      <td>577.31</td>\n",
       "      <td>566468283</td>\n",
       "      <td>fb64d29b-6a82-4603-8ab2-381b080f5ce2</td>\n",
       "    </tr>\n",
       "    <tr>\n",
       "      <th>801801</th>\n",
       "      <td>2019-11-01 13:21:39 UTC</td>\n",
       "      <td>view</td>\n",
       "      <td>1003306</td>\n",
       "      <td>2053013555631882655</td>\n",
       "      <td>electronics.smartphone</td>\n",
       "      <td>apple</td>\n",
       "      <td>577.31</td>\n",
       "      <td>566468283</td>\n",
       "      <td>fb64d29b-6a82-4603-8ab2-381b080f5ce2</td>\n",
       "    </tr>\n",
       "  </tbody>\n",
       "</table>\n",
       "</div>"
      ],
      "text/plain": [
       "                     event_time event_type  product_id          category_id  \\\n",
       "4750    2019-10-01 02:27:45 UTC       view    10300637  2053013553115300101   \n",
       "5094    2019-10-01 02:28:27 UTC       view    10301026  2053013553115300101   \n",
       "155769  2019-10-01 05:26:28 UTC       view     4100138  2053013561218695907   \n",
       "167383  2019-10-01 05:37:04 UTC       view     4100346  2053013561218695907   \n",
       "434366  2019-10-01 09:24:58 UTC       view     1002629  2053013555631882655   \n",
       "434800  2019-10-01 09:25:20 UTC       view     1002628  2053013555631882655   \n",
       "435235  2019-10-01 09:25:43 UTC       view     1002629  2053013555631882655   \n",
       "435468  2019-10-01 09:25:55 UTC       view     1002629  2053013555631882655   \n",
       "435552  2019-10-01 09:25:59 UTC       view     1002629  2053013555631882655   \n",
       "451234  2019-10-01 09:39:11 UTC       view     1004249  2053013555631882655   \n",
       "451429  2019-10-01 09:39:21 UTC       view     1004258  2053013555631882655   \n",
       "452019  2019-10-01 09:39:49 UTC       view     1004251  2053013555631882655   \n",
       "454817  2019-10-01 09:42:12 UTC       view     1004741  2053013555631882655   \n",
       "703145  2019-10-01 13:32:20 UTC       view     5100734  2053013553341792533   \n",
       "703212  2019-10-01 13:32:23 UTC       view     5100734  2053013553341792533   \n",
       "706193  2019-10-01 13:35:05 UTC       view    17500580  2053013558752445019   \n",
       "706314  2019-10-01 13:35:11 UTC       view    17500580  2053013558752445019   \n",
       "706384  2019-10-01 13:35:16 UTC       view    17500580  2053013558752445019   \n",
       "707011  2019-10-01 13:35:49 UTC       view    17600847  2053013558895051365   \n",
       "726952  2019-10-01 13:53:14 UTC       view    24300291  2053013563248739153   \n",
       "730022  2019-10-01 13:55:54 UTC       view    29500016  2053013566478352393   \n",
       "734275  2019-10-01 13:59:30 UTC       view    24300291  2053013563248739153   \n",
       "734646  2019-10-01 13:59:48 UTC       view    24300291  2053013563248739153   \n",
       "800678  2019-10-01 14:50:47 UTC       view    13201084  2053013557192163841   \n",
       "800790  2019-10-01 14:50:51 UTC       view    13201084  2053013557192163841   \n",
       "801955  2019-10-01 14:51:40 UTC       view    13201084  2053013557192163841   \n",
       "804120  2019-10-01 14:53:11 UTC       view    13201084  2053013557192163841   \n",
       "825917  2019-10-01 15:08:36 UTC       view    15100108  2053013557024391671   \n",
       "36486   2019-11-01 02:24:36 UTC       view    16000004  2053013558223962683   \n",
       "36511   2019-11-01 02:24:39 UTC       view    16000004  2053013558223962683   \n",
       "40808   2019-11-01 02:32:39 UTC       view     1005105  2053013555631882655   \n",
       "40906   2019-11-01 02:32:51 UTC       view     1005105  2053013555631882655   \n",
       "70955   2019-11-01 03:18:36 UTC       view     5100337  2053013553341792533   \n",
       "75030   2019-11-01 03:23:41 UTC       view     5100337  2053013553341792533   \n",
       "107503  2019-11-01 04:00:51 UTC       view    12713372  2053013553559896355   \n",
       "108629  2019-11-01 04:02:13 UTC       view    12713372  2053013553559896355   \n",
       "149718  2019-11-01 04:42:47 UTC       view    26401889  2053013563651392361   \n",
       "151248  2019-11-01 04:44:13 UTC       view    26402838  2053013563651392361   \n",
       "152545  2019-11-01 04:45:23 UTC       view    26401889  2053013563651392361   \n",
       "153228  2019-11-01 04:46:00 UTC       view    26402838  2053013563651392361   \n",
       "153762  2019-11-01 04:46:30 UTC       view    26401889  2053013563651392361   \n",
       "574596  2019-11-01 10:16:31 UTC       view    10504251  2053013553199186187   \n",
       "574676  2019-11-01 10:16:35 UTC       view    10504251  2053013553199186187   \n",
       "596129  2019-11-01 10:33:48 UTC       view     8901168  2053013553090134275   \n",
       "596188  2019-11-01 10:33:51 UTC       view     8901168  2053013553090134275   \n",
       "596280  2019-11-01 10:33:56 UTC       view     8901168  2053013553090134275   \n",
       "800526  2019-11-01 13:20:43 UTC       view     1003306  2053013555631882655   \n",
       "800655  2019-11-01 13:20:49 UTC       view     1003306  2053013555631882655   \n",
       "801801  2019-11-01 13:21:39 UTC       view     1003306  2053013555631882655   \n",
       "\n",
       "                 category_code      brand    price    user_id  \\\n",
       "4750                       NaN  silverlit    14.39  555463297   \n",
       "5094                       NaN  silverlit    11.56  555463292   \n",
       "155769                     NaN       sony   413.91  555496461   \n",
       "167383                     NaN       sony   391.00  523810456   \n",
       "434366  electronics.smartphone      apple   377.09  555565912   \n",
       "434800  electronics.smartphone      apple   397.95  555565910   \n",
       "435235  electronics.smartphone      apple   377.09  555565910   \n",
       "435468  electronics.smartphone      apple   377.09  555565910   \n",
       "435552  electronics.smartphone      apple   377.09  555565910   \n",
       "451234  electronics.smartphone      apple   738.39  555570137   \n",
       "451429  electronics.smartphone      apple   733.81  555570137   \n",
       "452019  electronics.smartphone      apple  1052.54  555570137   \n",
       "454817  electronics.smartphone     xiaomi   185.70  522543493   \n",
       "703145      electronics.clocks     garmin   741.95  555646524   \n",
       "703212      electronics.clocks     garmin   741.95  555646521   \n",
       "706193                     NaN      vichy    19.56  555647373   \n",
       "706314                     NaN      vichy    19.56  555647373   \n",
       "706384                     NaN      vichy    19.56  555647373   \n",
       "707011                     NaN        NaN    12.79  549704086   \n",
       "726952                     NaN        NaN     9.91  555653405   \n",
       "730022                     NaN        NaN    34.88  555653406   \n",
       "734275                     NaN        NaN     9.91  555653406   \n",
       "734646                     NaN        NaN     9.91  555653406   \n",
       "800678   furniture.bedroom.bed        NaN   120.98  555673684   \n",
       "800790   furniture.bedroom.bed        NaN   120.98  555673684   \n",
       "801955   furniture.bedroom.bed        NaN   120.98  555673684   \n",
       "804120   furniture.bedroom.bed        NaN   120.98  555673684   \n",
       "825917                     NaN        NaN   610.05  541407982   \n",
       "36486                      NaN    rondell    43.73  566297299   \n",
       "36511                      NaN    rondell    43.73  566297298   \n",
       "40808   electronics.smartphone      apple  1348.61  566298327   \n",
       "40906   electronics.smartphone      apple  1348.61  566298326   \n",
       "70955       electronics.clocks      apple   317.67  566304499   \n",
       "75030       electronics.clocks      apple   317.67  566304500   \n",
       "107503                     NaN   yokohama   110.92  566311298   \n",
       "108629                     NaN   yokohama   110.92  566311297   \n",
       "149718                     NaN        NaN   643.52  566318874   \n",
       "151248                     NaN    sokolov   495.77  566318875   \n",
       "152545                     NaN        NaN   643.52  566318875   \n",
       "153228                     NaN    sokolov   495.77  566318875   \n",
       "153762                     NaN        NaN   643.52  566318875   \n",
       "574596                     NaN     evriki    25.09  566412197   \n",
       "574676                     NaN     evriki    25.09  566412196   \n",
       "596129               kids.toys        NaN    23.14  566417510   \n",
       "596188               kids.toys        NaN    23.14  566417508   \n",
       "596280               kids.toys        NaN    23.14  566417508   \n",
       "800526  electronics.smartphone      apple   577.31  566468284   \n",
       "800655  electronics.smartphone      apple   577.31  566468283   \n",
       "801801  electronics.smartphone      apple   577.31  566468283   \n",
       "\n",
       "                                user_session  \n",
       "4750    2759bd71-1333-4348-816d-c02912f6ebd4  \n",
       "5094    2759bd71-1333-4348-816d-c02912f6ebd4  \n",
       "155769  e5fa54c1-935b-41e1-bb95-06fd18cad496  \n",
       "167383  e5fa54c1-935b-41e1-bb95-06fd18cad496  \n",
       "434366  fa8092eb-7df8-4bcd-866a-3b2b8eeafea5  \n",
       "434800  fa8092eb-7df8-4bcd-866a-3b2b8eeafea5  \n",
       "435235  fa8092eb-7df8-4bcd-866a-3b2b8eeafea5  \n",
       "435468  fa8092eb-7df8-4bcd-866a-3b2b8eeafea5  \n",
       "435552  fa8092eb-7df8-4bcd-866a-3b2b8eeafea5  \n",
       "451234  42a39e3a-1ed6-40db-be9c-b21182f3dbc3  \n",
       "451429  42a39e3a-1ed6-40db-be9c-b21182f3dbc3  \n",
       "452019  42a39e3a-1ed6-40db-be9c-b21182f3dbc3  \n",
       "454817  42a39e3a-1ed6-40db-be9c-b21182f3dbc3  \n",
       "703145  abe2e6a7-cf72-4486-8df2-3d214c154641  \n",
       "703212  abe2e6a7-cf72-4486-8df2-3d214c154641  \n",
       "706193  4e5bce7c-2aaa-41ae-8f22-5833c73db4b9  \n",
       "706314  4e5bce7c-2aaa-41ae-8f22-5833c73db4b9  \n",
       "706384  4e5bce7c-2aaa-41ae-8f22-5833c73db4b9  \n",
       "707011  4e5bce7c-2aaa-41ae-8f22-5833c73db4b9  \n",
       "726952  ca20bf64-8cf6-4754-ac8b-982ecad33a01  \n",
       "730022  ca20bf64-8cf6-4754-ac8b-982ecad33a01  \n",
       "734275  ca20bf64-8cf6-4754-ac8b-982ecad33a01  \n",
       "734646  ca20bf64-8cf6-4754-ac8b-982ecad33a01  \n",
       "800678  cfdaad50-33ec-4f00-b1e3-6a45ffe8b9e3  \n",
       "800790  cfdaad50-33ec-4f00-b1e3-6a45ffe8b9e3  \n",
       "801955  cfdaad50-33ec-4f00-b1e3-6a45ffe8b9e3  \n",
       "804120  cfdaad50-33ec-4f00-b1e3-6a45ffe8b9e3  \n",
       "825917  cfdaad50-33ec-4f00-b1e3-6a45ffe8b9e3  \n",
       "36486   12e26d31-741d-417c-8c84-05691a459df6  \n",
       "36511   12e26d31-741d-417c-8c84-05691a459df6  \n",
       "40808   de17f9c9-a05e-4437-bf7f-941072782b7d  \n",
       "40906   de17f9c9-a05e-4437-bf7f-941072782b7d  \n",
       "70955   7ada9013-8fff-433a-9158-77e86ef9b34b  \n",
       "75030   7ada9013-8fff-433a-9158-77e86ef9b34b  \n",
       "107503  1c3f95b4-a294-4e51-b409-bad9023fc8c7  \n",
       "108629  1c3f95b4-a294-4e51-b409-bad9023fc8c7  \n",
       "149718  55add671-8de1-42bf-a230-49f26a0c4dbb  \n",
       "151248  55add671-8de1-42bf-a230-49f26a0c4dbb  \n",
       "152545  55add671-8de1-42bf-a230-49f26a0c4dbb  \n",
       "153228  55add671-8de1-42bf-a230-49f26a0c4dbb  \n",
       "153762  55add671-8de1-42bf-a230-49f26a0c4dbb  \n",
       "574596  f0ac9236-a5a3-4b73-8ba0-7bd79bb3302c  \n",
       "574676  f0ac9236-a5a3-4b73-8ba0-7bd79bb3302c  \n",
       "596129  d512be27-a4f6-4545-b922-664f350af7e8  \n",
       "596188  d512be27-a4f6-4545-b922-664f350af7e8  \n",
       "596280  d512be27-a4f6-4545-b922-664f350af7e8  \n",
       "800526  fb64d29b-6a82-4603-8ab2-381b080f5ce2  \n",
       "800655  fb64d29b-6a82-4603-8ab2-381b080f5ce2  \n",
       "801801  fb64d29b-6a82-4603-8ab2-381b080f5ce2  "
      ]
     },
     "execution_count": 12,
     "metadata": {},
     "output_type": "execute_result"
    }
   ],
   "source": [
    "funcs.user_session_user_id(full_data_set)"
   ]
  },
  {
   "cell_type": "markdown",
   "metadata": {},
   "source": [
    "Question 1.a."
   ]
  },
  {
   "cell_type": "code",
   "execution_count": 7,
   "metadata": {},
   "outputs": [
    {
     "data": {
      "image/png": "[encoded data removed]",
      "text/plain": [
       "<matplotlib.figure.Figure at 0x233eef48588>"
      ]
     },
     "metadata": {},
     "output_type": "display_data"
    }
   ],
   "source": [
    "funcs.events_per_session(data_set=full_data_set)"
   ]
  },
  {
   "cell_type": "markdown",
   "metadata": {},
   "source": [
    "Question 1.b."
   ]
  },
  {
   "cell_type": "code",
   "execution_count": 1,
   "metadata": {},
   "outputs": [
    {
     "ename": "NameError",
     "evalue": "name 'funcs' is not defined",
     "output_type": "error",
     "traceback": [
      "\u001b[1;31m---------------------------------------------------------------------------\u001b[0m",
      "\u001b[1;31mNameError\u001b[0m                                 Traceback (most recent call last)",
      "\u001b[1;32m<ipython-input-1-17671869b0bd>\u001b[0m in \u001b[0;36m<module>\u001b[1;34m()\u001b[0m\n\u001b[1;32m----> 1\u001b[1;33m \u001b[0mfuncs\u001b[0m\u001b[1;33m.\u001b[0m\u001b[0maverage_views_before_cart\u001b[0m\u001b[1;33m(\u001b[0m\u001b[0mfull_data_set\u001b[0m\u001b[1;33m)\u001b[0m\u001b[1;33m\u001b[0m\u001b[0m\n\u001b[0m",
      "\u001b[1;31mNameError\u001b[0m: name 'funcs' is not defined"
     ]
    }
   ],
   "source": [
    "funcs.average_views_before_cart(full_data_set)"
   ]
  },
  {
   "cell_type": "code",
   "execution_count": null,
   "metadata": {},
   "outputs": [],
   "source": []
  },
  {
   "cell_type": "markdown",
   "metadata": {},
   "source": [
    "Question 1.c."
   ]
  },
  {
   "cell_type": "code",
   "execution_count": 4,
   "metadata": {},
   "outputs": [],
   "source": [
    "funcs.probability_purchase_given_cart(full_data_set)"
   ]
  },
  {
   "cell_type": "code",
   "execution_count": null,
   "metadata": {},
   "outputs": [],
   "source": []
  },
  {
   "cell_type": "markdown",
   "metadata": {},
   "source": [
    "Question 1.d."
   ]
  },
  {
   "cell_type": "code",
   "execution_count": 5,
   "metadata": {},
   "outputs": [],
   "source": [
    "view_cart_data_set = full_data_set[(full_data_set.event_type == 'view') | (full_data_set.event_type == 'cart')]\n",
    "cart_data_set = full_data_set[full_data_set.event_type == 'cart']"
   ]
  },
  {
   "cell_type": "code",
   "execution_count": 10,
   "metadata": {},
   "outputs": [
    {
     "data": {
      "text/html": [
       "<div>\n",
       "<style scoped>\n",
       "    .dataframe tbody tr th:only-of-type {\n",
       "        vertical-align: middle;\n",
       "    }\n",
       "\n",
       "    .dataframe tbody tr th {\n",
       "        vertical-align: top;\n",
       "    }\n",
       "\n",
       "    .dataframe thead th {\n",
       "        text-align: right;\n",
       "    }\n",
       "</style>\n",
       "<table border=\"1\" class=\"dataframe\">\n",
       "  <thead>\n",
       "    <tr style=\"text-align: right;\">\n",
       "      <th></th>\n",
       "      <th>event_time_view</th>\n",
       "      <th>event_type</th>\n",
       "      <th>user_session</th>\n",
       "      <th>product_id</th>\n",
       "      <th>event_time_cart</th>\n",
       "    </tr>\n",
       "  </thead>\n",
       "  <tbody>\n",
       "    <tr>\n",
       "      <th>142377</th>\n",
       "      <td>2019-11-01 09:53:55 UTC</td>\n",
       "      <td>view</td>\n",
       "      <td>000d3153-6d13-49dd-b365-0ae2291f7fb8</td>\n",
       "      <td>1005115</td>\n",
       "      <td>2019-11-01 09:54:24 UTC</td>\n",
       "    </tr>\n",
       "    <tr>\n",
       "      <th>142378</th>\n",
       "      <td>2019-11-01 09:54:24 UTC</td>\n",
       "      <td>cart</td>\n",
       "      <td>000d3153-6d13-49dd-b365-0ae2291f7fb8</td>\n",
       "      <td>1005115</td>\n",
       "      <td>2019-11-01 09:54:24 UTC</td>\n",
       "    </tr>\n",
       "    <tr>\n",
       "      <th>142379</th>\n",
       "      <td>2019-11-01 09:54:29 UTC</td>\n",
       "      <td>view</td>\n",
       "      <td>000d3153-6d13-49dd-b365-0ae2291f7fb8</td>\n",
       "      <td>1005115</td>\n",
       "      <td>2019-11-01 09:54:24 UTC</td>\n",
       "    </tr>\n",
       "    <tr>\n",
       "      <th>142380</th>\n",
       "      <td>2019-11-01 09:55:09 UTC</td>\n",
       "      <td>view</td>\n",
       "      <td>000d3153-6d13-49dd-b365-0ae2291f7fb8</td>\n",
       "      <td>1005115</td>\n",
       "      <td>2019-11-01 09:54:24 UTC</td>\n",
       "    </tr>\n",
       "    <tr>\n",
       "      <th>81339</th>\n",
       "      <td>2019-10-01 13:28:24 UTC</td>\n",
       "      <td>view</td>\n",
       "      <td>000fdfe4-e1f0-4a93-9c22-f04066ad895e</td>\n",
       "      <td>5100564</td>\n",
       "      <td>2019-10-01 13:32:21 UTC</td>\n",
       "    </tr>\n",
       "    <tr>\n",
       "      <th>...</th>\n",
       "      <td>...</td>\n",
       "      <td>...</td>\n",
       "      <td>...</td>\n",
       "      <td>...</td>\n",
       "      <td>...</td>\n",
       "    </tr>\n",
       "    <tr>\n",
       "      <th>135009</th>\n",
       "      <td>2019-11-01 08:45:43 UTC</td>\n",
       "      <td>view</td>\n",
       "      <td>fff4a219-f7ce-47a6-bdab-c4cd09214ce6</td>\n",
       "      <td>1005115</td>\n",
       "      <td>2019-11-01 08:45:51 UTC</td>\n",
       "    </tr>\n",
       "    <tr>\n",
       "      <th>135010</th>\n",
       "      <td>2019-11-01 08:45:51 UTC</td>\n",
       "      <td>cart</td>\n",
       "      <td>fff4a219-f7ce-47a6-bdab-c4cd09214ce6</td>\n",
       "      <td>1005115</td>\n",
       "      <td>2019-11-01 08:45:51 UTC</td>\n",
       "    </tr>\n",
       "    <tr>\n",
       "      <th>129613</th>\n",
       "      <td>2019-11-01 08:03:03 UTC</td>\n",
       "      <td>view</td>\n",
       "      <td>fffdbd81-e486-40fd-a74f-b9e95d1ec8f2</td>\n",
       "      <td>1005008</td>\n",
       "      <td>2019-11-01 08:03:36 UTC</td>\n",
       "    </tr>\n",
       "    <tr>\n",
       "      <th>129614</th>\n",
       "      <td>2019-11-01 08:03:36 UTC</td>\n",
       "      <td>cart</td>\n",
       "      <td>fffdbd81-e486-40fd-a74f-b9e95d1ec8f2</td>\n",
       "      <td>1005008</td>\n",
       "      <td>2019-11-01 08:03:36 UTC</td>\n",
       "    </tr>\n",
       "    <tr>\n",
       "      <th>129615</th>\n",
       "      <td>2019-11-01 08:04:43 UTC</td>\n",
       "      <td>view</td>\n",
       "      <td>fffdbd81-e486-40fd-a74f-b9e95d1ec8f2</td>\n",
       "      <td>1005008</td>\n",
       "      <td>2019-11-01 08:03:36 UTC</td>\n",
       "    </tr>\n",
       "  </tbody>\n",
       "</table>\n",
       "<p>177529 rows × 5 columns</p>\n",
       "</div>"
      ],
      "text/plain": [
       "                event_time_view event_type  \\\n",
       "142377  2019-11-01 09:53:55 UTC       view   \n",
       "142378  2019-11-01 09:54:24 UTC       cart   \n",
       "142379  2019-11-01 09:54:29 UTC       view   \n",
       "142380  2019-11-01 09:55:09 UTC       view   \n",
       "81339   2019-10-01 13:28:24 UTC       view   \n",
       "...                         ...        ...   \n",
       "135009  2019-11-01 08:45:43 UTC       view   \n",
       "135010  2019-11-01 08:45:51 UTC       cart   \n",
       "129613  2019-11-01 08:03:03 UTC       view   \n",
       "129614  2019-11-01 08:03:36 UTC       cart   \n",
       "129615  2019-11-01 08:04:43 UTC       view   \n",
       "\n",
       "                                user_session  product_id  \\\n",
       "142377  000d3153-6d13-49dd-b365-0ae2291f7fb8     1005115   \n",
       "142378  000d3153-6d13-49dd-b365-0ae2291f7fb8     1005115   \n",
       "142379  000d3153-6d13-49dd-b365-0ae2291f7fb8     1005115   \n",
       "142380  000d3153-6d13-49dd-b365-0ae2291f7fb8     1005115   \n",
       "81339   000fdfe4-e1f0-4a93-9c22-f04066ad895e     5100564   \n",
       "...                                      ...         ...   \n",
       "135009  fff4a219-f7ce-47a6-bdab-c4cd09214ce6     1005115   \n",
       "135010  fff4a219-f7ce-47a6-bdab-c4cd09214ce6     1005115   \n",
       "129613  fffdbd81-e486-40fd-a74f-b9e95d1ec8f2     1005008   \n",
       "129614  fffdbd81-e486-40fd-a74f-b9e95d1ec8f2     1005008   \n",
       "129615  fffdbd81-e486-40fd-a74f-b9e95d1ec8f2     1005008   \n",
       "\n",
       "                event_time_cart  \n",
       "142377  2019-11-01 09:54:24 UTC  \n",
       "142378  2019-11-01 09:54:24 UTC  \n",
       "142379  2019-11-01 09:54:24 UTC  \n",
       "142380  2019-11-01 09:54:24 UTC  \n",
       "81339   2019-10-01 13:32:21 UTC  \n",
       "...                         ...  \n",
       "135009  2019-11-01 08:45:51 UTC  \n",
       "135010  2019-11-01 08:45:51 UTC  \n",
       "129613  2019-11-01 08:03:36 UTC  \n",
       "129614  2019-11-01 08:03:36 UTC  \n",
       "129615  2019-11-01 08:03:36 UTC  \n",
       "\n",
       "[177529 rows x 5 columns]"
      ]
     },
     "execution_count": 10,
     "metadata": {},
     "output_type": "execute_result"
    }
   ],
   "source": [
    "cart_and_view = view_cart_data_set[['event_time', 'event_type', 'user_session', 'product_id']].merge(\n",
    "        cart_data_set[['event_time', 'user_session', 'product_id']], how='right',\n",
    "        on=['product_id', 'user_session'], suffixes=('_view', '_cart'))\n",
    "cart_and_view.sort_values(by=['user_session', 'product_id', 'event_time_view'])"
   ]
  },
  {
   "cell_type": "code",
   "execution_count": 11,
   "metadata": {},
   "outputs": [],
   "source": [
    "cart_and_view.head(300).to_excel('test.xlsx')"
   ]
  },
  {
   "cell_type": "code",
   "execution_count": null,
   "metadata": {},
   "outputs": [],
   "source": []
  },
  {
   "cell_type": "code",
   "execution_count": null,
   "metadata": {},
   "outputs": [],
   "source": []
  },
  {
   "cell_type": "code",
   "execution_count": 20,
   "metadata": {},
   "outputs": [],
   "source": [
    "session_product_with_multiple_events = full_data_set.groupby(['user_session', 'product_id']).event_type.nunique().reset_index(name='unique_event_type')\n",
    "session_product_with_multiple_events = session_product_with_multiple_events[session_product_with_multiple_events.unique_event_type > 1]\n",
    "session_product_with_multiple_events_data_set = full_data_set[full_data_set[['user_session', 'product_id']].isin(session_product_with_multiple_events[['user_session', 'product_id']])]"
   ]
  },
  {
   "cell_type": "code",
   "execution_count": 18,
   "metadata": {},
   "outputs": [
    {
     "data": {
      "text/html": [
       "<div>\n",
       "<style scoped>\n",
       "    .dataframe tbody tr th:only-of-type {\n",
       "        vertical-align: middle;\n",
       "    }\n",
       "\n",
       "    .dataframe tbody tr th {\n",
       "        vertical-align: top;\n",
       "    }\n",
       "\n",
       "    .dataframe thead th {\n",
       "        text-align: right;\n",
       "    }\n",
       "</style>\n",
       "<table border=\"1\" class=\"dataframe\">\n",
       "  <thead>\n",
       "    <tr style=\"text-align: right;\">\n",
       "      <th></th>\n",
       "      <th>user_session</th>\n",
       "      <th>product_id</th>\n",
       "      <th>unique_event_type</th>\n",
       "    </tr>\n",
       "  </thead>\n",
       "  <tbody>\n",
       "    <tr>\n",
       "      <th>77</th>\n",
       "      <td>0002c5ea-3509-4d0b-9618-7e40925005f0</td>\n",
       "      <td>9200557</td>\n",
       "      <td>2</td>\n",
       "    </tr>\n",
       "    <tr>\n",
       "      <th>221</th>\n",
       "      <td>00092ee4-0243-4bda-8ffd-5b905a086c7f</td>\n",
       "      <td>12703498</td>\n",
       "      <td>2</td>\n",
       "    </tr>\n",
       "    <tr>\n",
       "      <th>286</th>\n",
       "      <td>000d3153-6d13-49dd-b365-0ae2291f7fb8</td>\n",
       "      <td>1005115</td>\n",
       "      <td>2</td>\n",
       "    </tr>\n",
       "    <tr>\n",
       "      <th>316</th>\n",
       "      <td>000e56f6-1aa1-4f9a-80d3-6af831d15861</td>\n",
       "      <td>4804295</td>\n",
       "      <td>2</td>\n",
       "    </tr>\n",
       "    <tr>\n",
       "      <th>354</th>\n",
       "      <td>000fdfe4-e1f0-4a93-9c22-f04066ad895e</td>\n",
       "      <td>5100564</td>\n",
       "      <td>3</td>\n",
       "    </tr>\n",
       "    <tr>\n",
       "      <th>...</th>\n",
       "      <td>...</td>\n",
       "      <td>...</td>\n",
       "      <td>...</td>\n",
       "    </tr>\n",
       "    <tr>\n",
       "      <th>1180421</th>\n",
       "      <td>ffe71996-6af9-4312-bf6a-f537f8c24037</td>\n",
       "      <td>1005031</td>\n",
       "      <td>2</td>\n",
       "    </tr>\n",
       "    <tr>\n",
       "      <th>1180554</th>\n",
       "      <td>ffed50a3-939b-4d23-8655-3223f98065f2</td>\n",
       "      <td>1200957</td>\n",
       "      <td>2</td>\n",
       "    </tr>\n",
       "    <tr>\n",
       "      <th>1180650</th>\n",
       "      <td>fff30096-d345-43a4-8b01-329283095f38</td>\n",
       "      <td>4804295</td>\n",
       "      <td>2</td>\n",
       "    </tr>\n",
       "    <tr>\n",
       "      <th>1180654</th>\n",
       "      <td>fff4a219-f7ce-47a6-bdab-c4cd09214ce6</td>\n",
       "      <td>1005115</td>\n",
       "      <td>2</td>\n",
       "    </tr>\n",
       "    <tr>\n",
       "      <th>1180857</th>\n",
       "      <td>fffdbd81-e486-40fd-a74f-b9e95d1ec8f2</td>\n",
       "      <td>1005008</td>\n",
       "      <td>2</td>\n",
       "    </tr>\n",
       "  </tbody>\n",
       "</table>\n",
       "<p>38707 rows × 3 columns</p>\n",
       "</div>"
      ],
      "text/plain": [
       "                                 user_session  product_id  unique_event_type\n",
       "77       0002c5ea-3509-4d0b-9618-7e40925005f0     9200557                  2\n",
       "221      00092ee4-0243-4bda-8ffd-5b905a086c7f    12703498                  2\n",
       "286      000d3153-6d13-49dd-b365-0ae2291f7fb8     1005115                  2\n",
       "316      000e56f6-1aa1-4f9a-80d3-6af831d15861     4804295                  2\n",
       "354      000fdfe4-e1f0-4a93-9c22-f04066ad895e     5100564                  3\n",
       "...                                       ...         ...                ...\n",
       "1180421  ffe71996-6af9-4312-bf6a-f537f8c24037     1005031                  2\n",
       "1180554  ffed50a3-939b-4d23-8655-3223f98065f2     1200957                  2\n",
       "1180650  fff30096-d345-43a4-8b01-329283095f38     4804295                  2\n",
       "1180654  fff4a219-f7ce-47a6-bdab-c4cd09214ce6     1005115                  2\n",
       "1180857  fffdbd81-e486-40fd-a74f-b9e95d1ec8f2     1005008                  2\n",
       "\n",
       "[38707 rows x 3 columns]"
      ]
     },
     "execution_count": 18,
     "metadata": {},
     "output_type": "execute_result"
    }
   ],
   "source": [
    "session_product_with_multiple_events[session_product_with_multiple_events.unique_event_type > 1]"
   ]
  },
  {
   "cell_type": "code",
   "execution_count": 22,
   "metadata": {},
   "outputs": [
    {
     "data": {
      "text/html": [
       "<div>\n",
       "<style scoped>\n",
       "    .dataframe tbody tr th:only-of-type {\n",
       "        vertical-align: middle;\n",
       "    }\n",
       "\n",
       "    .dataframe tbody tr th {\n",
       "        vertical-align: top;\n",
       "    }\n",
       "\n",
       "    .dataframe thead th {\n",
       "        text-align: right;\n",
       "    }\n",
       "</style>\n",
       "<table border=\"1\" class=\"dataframe\">\n",
       "  <thead>\n",
       "    <tr style=\"text-align: right;\">\n",
       "      <th></th>\n",
       "      <th>event_time</th>\n",
       "      <th>event_type</th>\n",
       "      <th>product_id</th>\n",
       "      <th>category_id</th>\n",
       "      <th>category_code</th>\n",
       "      <th>brand</th>\n",
       "      <th>price</th>\n",
       "      <th>user_id</th>\n",
       "      <th>user_session</th>\n",
       "    </tr>\n",
       "  </thead>\n",
       "  <tbody>\n",
       "  </tbody>\n",
       "</table>\n",
       "</div>"
      ],
      "text/plain": [
       "Empty DataFrame\n",
       "Columns: [event_time, event_type, product_id, category_id, category_code, brand, price, user_id, user_session]\n",
       "Index: []"
      ]
     },
     "execution_count": 22,
     "metadata": {},
     "output_type": "execute_result"
    }
   ],
   "source": [
    "session_product_with_multiple_events_data_set[~session_product_with_multiple_events_data_set.event_time.isnull()]"
   ]
  },
  {
   "cell_type": "code",
   "execution_count": null,
   "metadata": {},
   "outputs": [],
   "source": []
  },
  {
   "cell_type": "code",
   "execution_count": null,
   "metadata": {},
   "outputs": [],
   "source": []
  },
  {
   "cell_type": "code",
   "execution_count": null,
   "metadata": {},
   "outputs": [],
   "source": []
  },
  {
   "cell_type": "code",
   "execution_count": null,
   "metadata": {},
   "outputs": [],
   "source": [
    "sorted_full_data_set.head(300).to_excel('test.xlsx')"
   ]
  },
  {
   "cell_type": "code",
   "execution_count": null,
   "metadata": {},
   "outputs": [],
   "source": []
  },
  {
   "cell_type": "code",
   "execution_count": null,
   "metadata": {},
   "outputs": [],
   "source": []
  },
  {
   "cell_type": "markdown",
   "metadata": {},
   "source": [
    "Question 1.e."
   ]
  },
  {
   "cell_type": "code",
   "execution_count": null,
   "metadata": {},
   "outputs": [],
   "source": [
    "funcs.average_time_between_view_cart_purchase(full_data_set)"
   ]
  },
  {
   "cell_type": "markdown",
   "metadata": {},
   "source": [
    "## Research Question 2\n",
    "\n",
    "What are the categories of the most trending products overall? For each month visualize this information through a plot showing the number of sold products per category.\n",
    "- Plot the most visited subcategories.\n",
    "- What are the 10 most sold products per category?\n"
   ]
  },
  {
   "cell_type": "code",
   "execution_count": null,
   "metadata": {},
   "outputs": [
    {
     "name": "stderr",
     "output_type": "stream",
     "text": [
      "[                                                                        ]   0%\r"
     ]
    },
    {
     "name": "stdout",
     "output_type": "stream",
     "text": [
      "data/2019-Oct.csv\n"
     ]
    },
    {
     "name": "stderr",
     "output_type": "stream",
     "text": [
      "[======                                                                  ]   9%\r"
     ]
    },
    {
     "name": "stdout",
     "output_type": "stream",
     "text": [
      "data/2019-Nov.csv\n"
     ]
    },
    {
     "name": "stderr",
     "output_type": "stream",
     "text": [
      "[===================                                                     ]  26%\r"
     ]
    },
    {
     "name": "stdout",
     "output_type": "stream",
     "text": [
      "data/2019-Dec.csv\n"
     ]
    },
    {
     "name": "stderr",
     "output_type": "stream",
     "text": [
      "[==============================                                          ]  42%\r"
     ]
    },
    {
     "name": "stdout",
     "output_type": "stream",
     "text": [
      "data/2020-Jan.csv\n"
     ]
    },
    {
     "name": "stderr",
     "output_type": "stream",
     "text": [
      "[========================================                                ]  56%\r"
     ]
    },
    {
     "name": "stdout",
     "output_type": "stream",
     "text": [
      "data/2020-Feb.csv\n"
     ]
    },
    {
     "name": "stderr",
     "output_type": "stream",
     "text": [
      "[==============================================                          ]  65%\r"
     ]
    }
   ],
   "source": [
    "prod_category= funcs.plot_sold_product_category(data_sets=['data/2019-Oct.csv', 'data/2019-Nov.csv',\n",
    "                                                           'data/2019-Dec.csv', 'data/2020-Jan.csv',\n",
    "                                                           'data/2020-Feb.csv', 'data/2020-Mar.csv',\n",
    "                                                           'data/2020-Apr.csv'])"
   ]
  },
  {
   "cell_type": "code",
   "execution_count": null,
   "metadata": {},
   "outputs": [],
   "source": [
    "subcategories_visits = funcs.plot_visited_product_subcategory(data_sets=['data/2019-Oct.csv', 'data/2019-Nov.csv',\n",
    "                                                                         'data/2019-Dec.csv', 'data/2020-Jan.csv',\n",
    "                                                                         'data/2020-Feb.csv', 'data/2020-Mar.csv',\n",
    "                                                                         'data/2020-Apr.csv'])"
   ]
  },
  {
   "cell_type": "code",
   "execution_count": null,
   "metadata": {},
   "outputs": [],
   "source": [
    "ten_most_sold = funcs.ten_most_sold(data_sets=['data/2019-Oct.csv', 'data/2019-Nov.csv',\n",
    "                                               'data/2019-Dec.csv', 'data/2020-Jan.csv',\n",
    "                                               'data/2020-Feb.csv', 'data/2020-Mar.csv',\n",
    "                                               'data/2020-Apr.csv'])"
   ]
  },
  {
   "cell_type": "code",
   "execution_count": null,
   "metadata": {},
   "outputs": [],
   "source": []
  },
  {
   "cell_type": "code",
   "execution_count": null,
   "metadata": {},
   "outputs": [],
   "source": []
  },
  {
   "cell_type": "markdown",
   "metadata": {},
   "source": [
    "## Research Question 3\n",
    "\n",
    "For each category, what’s the brand whose prices are higher on average?\n",
    "- Write a function that asks the user a category in input and returns a plot indicating the average price of the products sold by the brand.\n",
    "- Find, for each category, the brand with the highest average price. Return all the results in ascending order by price.\n"
   ]
  },
  {
   "cell_type": "code",
   "execution_count": 3,
   "metadata": {},
   "outputs": [
    {
     "name": "stdout",
     "output_type": "stream",
     "text": [
      "Running data_set: data/2019-Oct.csv\n",
      "1\n",
      "2\n",
      "3\n",
      "4\n",
      "5\n",
      "6\n",
      "7\n",
      "8\n",
      "9\n",
      "10\n",
      "11\n",
      "12\n",
      "13\n",
      "14\n",
      "15\n",
      "16\n",
      "17\n",
      "18\n",
      "19\n",
      "20\n",
      "21\n",
      "22\n",
      "23\n",
      "24\n",
      "25\n",
      "26\n",
      "27\n",
      "28\n",
      "29\n",
      "30\n",
      "31\n",
      "32\n",
      "33\n",
      "34\n",
      "35\n",
      "36\n",
      "37\n",
      "38\n",
      "39\n",
      "40\n",
      "41\n",
      "42\n",
      "43\n",
      "Running data_set: data/2019-Nov.csv\n",
      "44\n",
      "45\n",
      "46\n",
      "47\n",
      "48\n",
      "49\n",
      "50\n",
      "51\n",
      "52\n",
      "53\n",
      "54\n",
      "55\n",
      "56\n",
      "57\n",
      "58\n",
      "59\n",
      "60\n",
      "61\n",
      "62\n",
      "63\n",
      "64\n",
      "65\n",
      "66\n",
      "67\n",
      "68\n",
      "69\n",
      "70\n",
      "71\n",
      "72\n",
      "73\n",
      "74\n",
      "75\n",
      "76\n",
      "77\n",
      "78\n",
      "79\n",
      "80\n",
      "81\n",
      "82\n",
      "83\n",
      "84\n",
      "85\n",
      "86\n",
      "87\n",
      "88\n",
      "89\n",
      "90\n",
      "91\n",
      "92\n",
      "93\n",
      "94\n",
      "95\n",
      "96\n",
      "97\n",
      "98\n",
      "99\n",
      "100\n",
      "101\n",
      "102\n",
      "103\n",
      "104\n",
      "105\n",
      "106\n",
      "107\n",
      "108\n",
      "109\n",
      "110\n",
      "111\n",
      "Running data_set: data/2019-Dec.csv\n",
      "112\n",
      "113\n",
      "114\n",
      "115\n",
      "116\n",
      "117\n",
      "118\n",
      "119\n",
      "120\n",
      "121\n",
      "122\n",
      "123\n",
      "124\n",
      "125\n",
      "126\n",
      "127\n",
      "128\n",
      "129\n",
      "130\n",
      "131\n",
      "132\n",
      "133\n",
      "134\n",
      "135\n",
      "136\n",
      "137\n",
      "138\n",
      "139\n",
      "140\n",
      "141\n",
      "142\n",
      "143\n",
      "144\n",
      "145\n",
      "146\n",
      "147\n",
      "148\n",
      "149\n",
      "150\n",
      "151\n",
      "152\n",
      "153\n",
      "154\n",
      "155\n",
      "156\n",
      "157\n",
      "158\n",
      "159\n",
      "160\n",
      "161\n",
      "162\n",
      "163\n",
      "164\n",
      "165\n",
      "166\n",
      "167\n",
      "168\n",
      "169\n",
      "170\n",
      "171\n",
      "172\n",
      "173\n",
      "174\n",
      "175\n",
      "176\n",
      "177\n",
      "178\n",
      "179\n",
      "Running data_set: data/2020-Jan.csv\n",
      "180\n",
      "181\n",
      "182\n",
      "183\n",
      "184\n",
      "185\n",
      "186\n",
      "187\n",
      "188\n",
      "189\n",
      "190\n",
      "191\n",
      "192\n",
      "193\n",
      "194\n",
      "195\n",
      "196\n",
      "197\n",
      "198\n",
      "199\n",
      "200\n",
      "201\n",
      "202\n",
      "203\n",
      "204\n",
      "205\n",
      "206\n",
      "207\n",
      "208\n",
      "209\n",
      "210\n",
      "211\n",
      "212\n",
      "213\n",
      "214\n",
      "215\n",
      "216\n",
      "217\n",
      "218\n",
      "219\n",
      "220\n",
      "221\n",
      "222\n",
      "223\n",
      "224\n",
      "225\n",
      "226\n",
      "227\n",
      "228\n",
      "229\n",
      "230\n",
      "231\n",
      "232\n",
      "233\n",
      "234\n",
      "235\n",
      "Running data_set: data/2020-Feb.csv\n",
      "236\n",
      "237\n",
      "238\n",
      "239\n",
      "240\n",
      "241\n",
      "242\n",
      "243\n",
      "244\n",
      "245\n",
      "246\n",
      "247\n",
      "248\n",
      "249\n",
      "250\n",
      "251\n",
      "252\n",
      "253\n",
      "254\n",
      "255\n",
      "256\n",
      "257\n",
      "258\n",
      "259\n",
      "260\n",
      "261\n",
      "262\n",
      "263\n",
      "264\n",
      "265\n",
      "266\n",
      "267\n",
      "268\n",
      "269\n",
      "270\n",
      "271\n",
      "272\n",
      "273\n",
      "274\n",
      "275\n",
      "276\n",
      "277\n",
      "278\n",
      "279\n",
      "280\n",
      "281\n",
      "282\n",
      "283\n",
      "284\n",
      "285\n",
      "286\n",
      "287\n",
      "288\n",
      "289\n",
      "290\n",
      "291\n",
      "Running data_set: data/2020-Mar.csv\n",
      "292\n",
      "293\n",
      "294\n",
      "295\n",
      "296\n",
      "297\n",
      "298\n",
      "299\n",
      "300\n",
      "301\n",
      "302\n",
      "303\n",
      "304\n",
      "305\n",
      "306\n",
      "307\n",
      "308\n",
      "309\n",
      "310\n",
      "311\n",
      "312\n",
      "313\n",
      "314\n",
      "315\n",
      "316\n",
      "317\n",
      "318\n",
      "319\n",
      "320\n",
      "321\n",
      "322\n",
      "323\n",
      "324\n",
      "325\n",
      "326\n",
      "327\n",
      "328\n",
      "329\n",
      "330\n",
      "331\n",
      "332\n",
      "333\n",
      "334\n",
      "335\n",
      "336\n",
      "337\n",
      "338\n",
      "339\n",
      "340\n",
      "341\n",
      "342\n",
      "343\n",
      "344\n",
      "345\n",
      "346\n",
      "347\n",
      "348\n",
      "Running data_set: data/2020-Apr.csv\n",
      "349\n",
      "350\n",
      "351\n",
      "352\n",
      "353\n",
      "354\n",
      "355\n",
      "356\n",
      "357\n",
      "358\n",
      "359\n",
      "360\n",
      "361\n",
      "362\n",
      "363\n",
      "364\n",
      "365\n",
      "366\n",
      "367\n",
      "368\n",
      "369\n",
      "370\n",
      "371\n",
      "372\n",
      "373\n",
      "374\n",
      "375\n",
      "376\n",
      "377\n",
      "378\n",
      "379\n",
      "380\n",
      "381\n",
      "382\n",
      "383\n",
      "384\n",
      "385\n",
      "386\n",
      "387\n",
      "388\n",
      "389\n",
      "390\n",
      "391\n",
      "392\n",
      "393\n",
      "394\n",
      "395\n",
      "396\n",
      "397\n",
      "398\n",
      "399\n",
      "400\n",
      "401\n",
      "402\n",
      "403\n",
      "404\n",
      "405\n",
      "406\n",
      "407\n",
      "408\n",
      "409\n",
      "410\n",
      "411\n",
      "412\n",
      "413\n",
      "414\n",
      "415\n",
      "Finished pre-processing data\n"
     ]
    },
    {
     "data": {
      "image/png": "[encoded data removed]",
      "text/plain": [
       "<Figure size 1296x432 with 1 Axes>"
      ]
     },
     "metadata": {
      "needs_background": "light"
     },
     "output_type": "display_data"
    }
   ],
   "source": [
    "funcs.plot_average_price_brand_category(data_sets=['data/2019-Oct.csv', 'data/2019-Nov.csv',\n",
    "                                                   'data/2019-Dec.csv', 'data/2020-Jan.csv',\n",
    "                                                   'data/2020-Feb.csv', 'data/2020-Mar.csv',\n",
    "                                                   'data/2020-Apr.csv'],\n",
    "                                        category='electronics')"
   ]
  },
  {
   "cell_type": "code",
   "execution_count": 4,
   "metadata": {
    "scrolled": false
   },
   "outputs": [
    {
     "name": "stderr",
     "output_type": "stream",
     "text": [
      "[                                                                        ]   0%\r"
     ]
    },
    {
     "name": "stdout",
     "output_type": "stream",
     "text": [
      "Running data_set: data/2019-Oct.csv\n"
     ]
    },
    {
     "name": "stderr",
     "output_type": "stream",
     "text": [
      "[======                                                                  ]   9%\r"
     ]
    },
    {
     "name": "stdout",
     "output_type": "stream",
     "text": [
      "Running data_set: data/2019-Nov.csv\n"
     ]
    },
    {
     "name": "stderr",
     "output_type": "stream",
     "text": [
      "[===================                                                     ]  26%\r"
     ]
    },
    {
     "name": "stdout",
     "output_type": "stream",
     "text": [
      "Running data_set: data/2019-Dec.csv\n"
     ]
    },
    {
     "name": "stderr",
     "output_type": "stream",
     "text": [
      "[==============================                                          ]  42%\r"
     ]
    },
    {
     "name": "stdout",
     "output_type": "stream",
     "text": [
      "Running data_set: data/2020-Jan.csv\n"
     ]
    },
    {
     "name": "stderr",
     "output_type": "stream",
     "text": [
      "[========================================                                ]  56%\r"
     ]
    },
    {
     "name": "stdout",
     "output_type": "stream",
     "text": [
      "Running data_set: data/2020-Feb.csv\n"
     ]
    },
    {
     "name": "stderr",
     "output_type": "stream",
     "text": [
      "[==================================================                      ]  69%\r"
     ]
    },
    {
     "name": "stdout",
     "output_type": "stream",
     "text": [
      "Running data_set: data/2020-Mar.csv\n"
     ]
    },
    {
     "name": "stderr",
     "output_type": "stream",
     "text": [
      "[===========================================================             ]  83%\r"
     ]
    },
    {
     "name": "stdout",
     "output_type": "stream",
     "text": [
      "Running data_set: data/2020-Apr.csv\n"
     ]
    },
    {
     "name": "stderr",
     "output_type": "stream",
     "text": [
      "[========================================================================] 100%\n"
     ]
    },
    {
     "name": "stdout",
     "output_type": "stream",
     "text": [
      "Finished pre-processing data\n"
     ]
    }
   ],
   "source": [
    "sorted_series, highest_price_brands = funcs.category_brand_highest_price(data_sets=['data/2019-Oct.csv', 'data/2019-Nov.csv',\n",
    "                                                   'data/2019-Dec.csv', 'data/2020-Jan.csv',\n",
    "                                                   'data/2020-Feb.csv', 'data/2020-Mar.csv',\n",
    "                                                   'data/2020-Apr.csv'])"
   ]
  },
  {
   "cell_type": "code",
   "execution_count": 5,
   "metadata": {},
   "outputs": [
    {
     "data": {
      "text/plain": [
       "parent_category  brand                \n",
       "accessories      helix                    1785.954607\n",
       "                 zelenyjpogruznojnasos    1613.326725\n",
       "                 dji                      1313.854477\n",
       "                 livnynasos               1283.734388\n",
       "                 gmslivgidromasao         1156.157061\n",
       "                                             ...     \n",
       "unknown_brand    fitness                     0.360000\n",
       "                 pedigree                    0.270000\n",
       "                 chappi                      0.210000\n",
       "                 friskies                    0.200000\n",
       "                 mactea                      0.140000\n",
       "Name: price, Length: 16199, dtype: float64"
      ]
     },
     "execution_count": 5,
     "metadata": {},
     "output_type": "execute_result"
    }
   ],
   "source": [
    "sorted_series"
   ]
  },
  {
   "cell_type": "code",
   "execution_count": 6,
   "metadata": {},
   "outputs": [
    {
     "data": {
      "text/plain": [
       "parent_category  brand       \n",
       "furniture        florencemode    2570.980000\n",
       "electronics      monitoraudio    2561.200000\n",
       "apparel          knief           2547.530000\n",
       "computers        cime            2537.373750\n",
       "construction     zipp            2522.200000\n",
       "unknown_brand    tempur          2520.010000\n",
       "appliances       pinarello       2483.720000\n",
       "sport            pinarello       2470.850000\n",
       "auto             femi            2279.465000\n",
       "country_yard     shua            2071.505000\n",
       "accessories      helix           1785.954607\n",
       "kids             minimotors      1591.406515\n",
       "stationery       dewalt           923.767500\n",
       "medicine         hayali           267.884000\n",
       "Name: price, dtype: float64"
      ]
     },
     "execution_count": 6,
     "metadata": {},
     "output_type": "execute_result"
    }
   ],
   "source": [
    "highest_price_brands.sort_values(ascending=False)"
   ]
  },
  {
   "cell_type": "markdown",
   "metadata": {},
   "source": [
    "### Results\n",
    "\n",
    "From this analysis we can see the brands of each category that have the highest prices on average (in the pd.series *sorted_series* we can even get a feeling of all the brands sorted by average price).\n",
    "\n",
    "It is interesting to observe how the most expensive brand of each category has a similar highest brand price (mainly from furniture to country_yard categories)."
   ]
  },
  {
   "cell_type": "code",
   "execution_count": null,
   "metadata": {},
   "outputs": [],
   "source": []
  },
  {
   "cell_type": "markdown",
   "metadata": {},
   "source": [
    "## Research Question 4\n",
    "\n",
    "How much does each brand earn per month? Write a function that given the name of a brand in input returns, for each month, its profit. Is the average price of products of different brands significantly different?\n",
    "- Using the function you just created, find the top 3 brands that have suffered the biggest losses in earnings between one month and the next, specifing bothe the loss percentage and the 2 months (e.g., brand_1 lost 20% between march and april).\n"
   ]
  },
  {
   "cell_type": "code",
   "execution_count": null,
   "metadata": {},
   "outputs": [],
   "source": [
    "brand_losses = plot_profit_for_brand(data_sets=['data/2019-Oct.csv', 'data/2019-Nov.csv',\n",
    "                                                'data/2019-Dec.csv', 'data/2020-Jan.csv',\n",
    "                                                'data/2020-Feb.csv', 'data/2020-Mar.csv',\n",
    "                                                'data/2020-Apr.csv'],\n",
    "                                     brand='huawei')"
   ]
  },
  {
   "cell_type": "code",
   "execution_count": null,
   "metadata": {},
   "outputs": [],
   "source": [
    "brand_price_difference = plot_average_price_brand(data_sets=['data/2019-Oct.csv', 'data/2019-Nov.csv',\n",
    "                                                             'data/2019-Dec.csv', 'data/2020-Jan.csv',\n",
    "                                                             'data/2020-Feb.csv', 'data/2020-Mar.csv',\n",
    "                                                             'data/2020-Apr.csv'])"
   ]
  },
  {
   "cell_type": "code",
   "execution_count": null,
   "metadata": {},
   "outputs": [],
   "source": []
  },
  {
   "cell_type": "code",
   "execution_count": null,
   "metadata": {},
   "outputs": [],
   "source": []
  },
  {
   "cell_type": "markdown",
   "metadata": {},
   "source": [
    "## Research Question 5\n",
    "\n",
    "In what part of the day is your store most visited? Knowing which days of the week or even which hours of the day shoppers are likely to visit your online store and make a purchase may help you improve your strategies. Create a plot that for each day of the week show the hourly average of visitors your store has.\n"
   ]
  },
  {
   "cell_type": "code",
   "execution_count": null,
   "metadata": {},
   "outputs": [],
   "source": [
    "visits_per_day = plot_hourly_average_visitors(data_sets=['data/2019-Oct.csv', 'data/2019-Nov.csv',\n",
    "                                                         'data/2019-Dec.csv', 'data/2020-Jan.csv',\n",
    "                                                         'data/2020-Feb.csv', 'data/2020-Mar.csv',\n",
    "                                                         'data/2020-Apr.csv'],\n",
    "                                              day='Monday')"
   ]
  },
  {
   "cell_type": "code",
   "execution_count": null,
   "metadata": {},
   "outputs": [],
   "source": []
  },
  {
   "cell_type": "code",
   "execution_count": null,
   "metadata": {},
   "outputs": [],
   "source": []
  },
  {
   "cell_type": "markdown",
   "metadata": {},
   "source": [
    "## Research Question 6\n",
    "\n",
    "The conversion rate of a product is given by the number of times a product has been bought over the number of times it has been visited. What's the conversion rate of your online store?\n",
    "- Find the overall conversion rate of your store.\n",
    "- Plot the number of purchases of each category and show the conversion rate of each category in decreasing order."
   ]
  },
  {
   "cell_type": "code",
   "execution_count": 7,
   "metadata": {},
   "outputs": [
    {
     "name": "stderr",
     "output_type": "stream",
     "text": [
      "[                                                                        ]   0%\r"
     ]
    },
    {
     "name": "stdout",
     "output_type": "stream",
     "text": [
      "Running data_set: data/2019-Oct.csv\n"
     ]
    },
    {
     "name": "stderr",
     "output_type": "stream",
     "text": [
      "[======                                                                  ]   9%\r"
     ]
    },
    {
     "name": "stdout",
     "output_type": "stream",
     "text": [
      "Running data_set: data/2019-Nov.csv\n"
     ]
    },
    {
     "name": "stderr",
     "output_type": "stream",
     "text": [
      "[===================                                                     ]  26%\r"
     ]
    },
    {
     "name": "stdout",
     "output_type": "stream",
     "text": [
      "Running data_set: data/2019-Dec.csv\n"
     ]
    },
    {
     "name": "stderr",
     "output_type": "stream",
     "text": [
      "[==============================                                          ]  42%\r"
     ]
    },
    {
     "name": "stdout",
     "output_type": "stream",
     "text": [
      "Running data_set: data/2020-Jan.csv\n"
     ]
    },
    {
     "name": "stderr",
     "output_type": "stream",
     "text": [
      "[========================================                                ]  56%\r"
     ]
    },
    {
     "name": "stdout",
     "output_type": "stream",
     "text": [
      "Running data_set: data/2020-Feb.csv\n"
     ]
    },
    {
     "name": "stderr",
     "output_type": "stream",
     "text": [
      "[==================================================                      ]  69%\r"
     ]
    },
    {
     "name": "stdout",
     "output_type": "stream",
     "text": [
      "Running data_set: data/2020-Mar.csv\n"
     ]
    },
    {
     "name": "stderr",
     "output_type": "stream",
     "text": [
      "[===========================================================             ]  83%\r"
     ]
    },
    {
     "name": "stdout",
     "output_type": "stream",
     "text": [
      "Running data_set: data/2020-Apr.csv\n"
     ]
    },
    {
     "name": "stderr",
     "output_type": "stream",
     "text": [
      "[========================================================================] 100%\n"
     ]
    },
    {
     "data": {
      "text/plain": [
       "0.0178"
      ]
     },
     "execution_count": 7,
     "metadata": {},
     "output_type": "execute_result"
    }
   ],
   "source": [
    "conversion_rate = funcs.conversion_rate(data_sets=['data/2019-Oct.csv', 'data/2019-Nov.csv',\n",
    "                                                   'data/2019-Dec.csv', 'data/2020-Jan.csv',\n",
    "                                                   'data/2020-Feb.csv', 'data/2020-Mar.csv',\n",
    "                                                   'data/2020-Apr.csv'])\n",
    "conversion_rate"
   ]
  },
  {
   "cell_type": "code",
   "execution_count": 8,
   "metadata": {},
   "outputs": [
    {
     "name": "stderr",
     "output_type": "stream",
     "text": [
      "[                                                                        ]   0%\r"
     ]
    },
    {
     "name": "stdout",
     "output_type": "stream",
     "text": [
      "Running data_set: data/2019-Oct.csv\n"
     ]
    },
    {
     "name": "stderr",
     "output_type": "stream",
     "text": [
      "[======                                                                  ]   9%\r"
     ]
    },
    {
     "name": "stdout",
     "output_type": "stream",
     "text": [
      "Running data_set: data/2019-Nov.csv\n"
     ]
    },
    {
     "name": "stderr",
     "output_type": "stream",
     "text": [
      "[===================                                                     ]  26%\r"
     ]
    },
    {
     "name": "stdout",
     "output_type": "stream",
     "text": [
      "Running data_set: data/2019-Dec.csv\n"
     ]
    },
    {
     "name": "stderr",
     "output_type": "stream",
     "text": [
      "[==============================                                          ]  42%\r"
     ]
    },
    {
     "name": "stdout",
     "output_type": "stream",
     "text": [
      "Running data_set: data/2020-Jan.csv\n"
     ]
    },
    {
     "name": "stderr",
     "output_type": "stream",
     "text": [
      "[========================================                                ]  56%\r"
     ]
    },
    {
     "name": "stdout",
     "output_type": "stream",
     "text": [
      "Running data_set: data/2020-Feb.csv\n"
     ]
    },
    {
     "name": "stderr",
     "output_type": "stream",
     "text": [
      "[==================================================                      ]  69%\r"
     ]
    },
    {
     "name": "stdout",
     "output_type": "stream",
     "text": [
      "Running data_set: data/2020-Mar.csv\n"
     ]
    },
    {
     "name": "stderr",
     "output_type": "stream",
     "text": [
      "[===========================================================             ]  83%\r"
     ]
    },
    {
     "name": "stdout",
     "output_type": "stream",
     "text": [
      "Running data_set: data/2020-Apr.csv\n"
     ]
    },
    {
     "name": "stderr",
     "output_type": "stream",
     "text": [
      "[========================================================================] 100%\n"
     ]
    },
    {
     "data": {
      "image/png": "[encoded data removed]",
      "text/plain": [
       "<Figure size 864x576 with 2 Axes>"
      ]
     },
     "metadata": {
      "needs_background": "light"
     },
     "output_type": "display_data"
    }
   ],
   "source": [
    "tot = funcs.conversion_rate_per_category(data_sets=['data/2019-Oct.csv', 'data/2019-Nov.csv',\n",
    "                                                   'data/2019-Dec.csv', 'data/2020-Jan.csv',\n",
    "                                                   'data/2020-Feb.csv', 'data/2020-Mar.csv',\n",
    "                                                   'data/2020-Apr.csv'])"
   ]
  },
  {
   "cell_type": "markdown",
   "metadata": {},
   "source": [
    "### Results\n",
    "\n",
    "The overall conversion rate of the online shop is of 1.78%, a relatively low percentage. This however is a justified number given the world in which we live now-a-days (we can choose from a huge amount of products and never have to worry about something going out of stock, allowing us to take our time when choosing which product to purchase).\n",
    "\n",
    "If we look into this conversion rate a bit more in detail (specifically at category level) we can see how some categories are able to increase this overall conversion rate. Specifically the category *construction* has a conversion rate above 3% (people that look for construction products tend to have a real need for this product) while the *accessories* category has a very low rate (accessories are usually not a priority and their purchase can usually be post-poned).\n",
    "\n",
    "We can also observe that the number of purchases is not at all related with the conversion rate, as one would expect."
   ]
  },
  {
   "cell_type": "code",
   "execution_count": null,
   "metadata": {},
   "outputs": [],
   "source": []
  },
  {
   "cell_type": "markdown",
   "metadata": {},
   "source": [
    "## Research Question 7\n",
    "\n",
    "The Pareto principle states that for many outcomes roughly 80% of consequences come from 20% of the causes. Also known as 80/20 rule, in e-commerce simply means that most of your business, around 80%, likely comes from about 20% of your customers.\n",
    "- Prove that the pareto principle applies to your store.\n"
   ]
  },
  {
   "cell_type": "code",
   "execution_count": 9,
   "metadata": {},
   "outputs": [
    {
     "name": "stderr",
     "output_type": "stream",
     "text": [
      "[                                                                        ]   0%\r"
     ]
    },
    {
     "name": "stdout",
     "output_type": "stream",
     "text": [
      "Running data_set: data/2019-Oct.csv\n"
     ]
    },
    {
     "name": "stderr",
     "output_type": "stream",
     "text": [
      "[======                                                                  ]   9%\r"
     ]
    },
    {
     "name": "stdout",
     "output_type": "stream",
     "text": [
      "Running data_set: data/2019-Nov.csv\n"
     ]
    },
    {
     "name": "stderr",
     "output_type": "stream",
     "text": [
      "[===================                                                     ]  26%\r"
     ]
    },
    {
     "name": "stdout",
     "output_type": "stream",
     "text": [
      "Running data_set: data/2019-Dec.csv\n"
     ]
    },
    {
     "name": "stderr",
     "output_type": "stream",
     "text": [
      "[==============================                                          ]  42%\r"
     ]
    },
    {
     "name": "stdout",
     "output_type": "stream",
     "text": [
      "Running data_set: data/2020-Jan.csv\n"
     ]
    },
    {
     "name": "stderr",
     "output_type": "stream",
     "text": [
      "[========================================                                ]  56%\r"
     ]
    },
    {
     "name": "stdout",
     "output_type": "stream",
     "text": [
      "Running data_set: data/2020-Feb.csv\n"
     ]
    },
    {
     "name": "stderr",
     "output_type": "stream",
     "text": [
      "[==================================================                      ]  69%\r"
     ]
    },
    {
     "name": "stdout",
     "output_type": "stream",
     "text": [
      "Running data_set: data/2020-Mar.csv\n"
     ]
    },
    {
     "name": "stderr",
     "output_type": "stream",
     "text": [
      "[===========================================================             ]  83%\r"
     ]
    },
    {
     "name": "stdout",
     "output_type": "stream",
     "text": [
      "Running data_set: data/2020-Apr.csv\n"
     ]
    },
    {
     "name": "stderr",
     "output_type": "stream",
     "text": [
      "[========================================================================] 100%\n"
     ]
    },
    {
     "data": {
      "image/png": "[encoded data removed]",
      "text/plain": [
       "<Figure size 576x432 with 1 Axes>"
      ]
     },
     "metadata": {
      "needs_background": "light"
     },
     "output_type": "display_data"
    }
   ],
   "source": [
    "funcs.pareto_proof_online_shop(data_sets=['data/2019-Oct.csv', 'data/2019-Nov.csv',\n",
    "                                                   'data/2019-Dec.csv', 'data/2020-Jan.csv',\n",
    "                                                   'data/2020-Feb.csv', 'data/2020-Mar.csv',\n",
    "                                                   'data/2020-Apr.csv'], \n",
    "                               income_threshold=0.8)"
   ]
  },
  {
   "cell_type": "markdown",
   "metadata": {},
   "source": [
    "### Results\n",
    "\n",
    "Based on the previous graph we can conclude that the pareto principle is approximately fulfilled for our online shop (**80% of the income is generated by 25.8% of the users**).\n",
    "\n",
    "The slop of the pareto is also in line with what we would expect."
   ]
  },
  {
   "cell_type": "code",
   "execution_count": null,
   "metadata": {},
   "outputs": [],
   "source": []
  },
  {
   "cell_type": "code",
   "execution_count": null,
   "metadata": {},
   "outputs": [],
   "source": []
  },
  {
   "cell_type": "code",
   "execution_count": null,
   "metadata": {},
   "outputs": [],
   "source": []
  },
  {
   "cell_type": "code",
   "execution_count": 7,
   "metadata": {},
   "outputs": [],
   "source": [
    "import pandas as pd\n",
    "\n",
    "test_1 = pd.read_csv('data/2019-Oct.csv', nrows=100000)\n",
    "test_2 = pd.read_csv('data/2019-Nov.csv', nrows=100000)\n",
    "test_3 = pd.read_csv('data/2020-Feb.csv', nrows=100000)\n",
    "test_tot = pd.concat((test_1, test_2, test_3))\n"
   ]
  },
  {
   "cell_type": "code",
   "execution_count": 8,
   "metadata": {},
   "outputs": [],
   "source": [
    "test_1.to_csv('test_1.csv')\n",
    "test_2.to_csv('test_2.csv')\n",
    "test_3.to_csv('test_3.csv')"
   ]
  },
  {
   "cell_type": "code",
   "execution_count": null,
   "metadata": {},
   "outputs": [],
   "source": []
  }
 ],
 "metadata": {
  "kernelspec": {
   "display_name": "Python 3",
   "language": "python",
   "name": "python3"
  },
  "language_info": {
   "codemirror_mode": {
    "name": "ipython",
    "version": 3
   },
   "file_extension": ".py",
   "mimetype": "text/x-python",
   "name": "python",
   "nbconvert_exporter": "python",
   "pygments_lexer": "ipython3",
   "version": "3.7.9"
  }
 },
 "nbformat": 4,
 "nbformat_minor": 2
}
